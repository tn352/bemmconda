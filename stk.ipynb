{
 "cells": [
  {
   "cell_type": "code",
   "execution_count": 2,
   "id": "52f365d5-276e-4caa-9091-32167621facb",
   "metadata": {
    "extensions": {
     "jupyter_dashboards": {
      "activeView": "grid_default",
      "views": {
       "grid_default": {
        "col": 0,
        "height": 11,
        "hidden": true,
        "locked": true,
        "row": 16,
        "width": 12
       }
      }
     }
    },
    "tags": []
   },
   "outputs": [],
   "source": [
    "import pandas as pd\n",
    "import plotly.graph_objects as go\n",
    "import pandas as pd\n",
    "import seaborn as sns\n",
    "import plotly.express as px\n",
    "import plotly.io as pio\n",
    "import matplotlib.pyplot as plt\n",
    "\n",
    "import ipywidgets as widgets\n",
    "from IPython.display import display, IFrame\n",
    "\n",
    "import plotly.graph_objs as go\n",
    "from plotly.offline import plot\n"
   ]
  },
  {
   "cell_type": "code",
   "execution_count": 3,
   "id": "9ce8d4f1-b701-4856-9d55-9b71c65ba103",
   "metadata": {
    "extensions": {
     "jupyter_dashboards": {
      "activeView": "grid_default",
      "views": {
       "grid_default": {
        "col": null,
        "height": 2,
        "hidden": true,
        "locked": true,
        "row": null,
        "width": 2
       }
      }
     }
    },
    "tags": []
   },
   "outputs": [
    {
     "name": "stdout",
     "output_type": "stream",
     "text": [
      "Average_conversion_rate: 0.030062873144185556\n",
      "Total conversion: 17639\n",
      "Avg_touchponts: 2.4436378629616673\n"
     ]
    }
   ],
   "source": [
    "# calculate the weighted average of the number of steps in each journey\n",
    "channel_stacks = pd.read_csv('conversion-path.csv')\n",
    "\n",
    "#Calculate average conversion\n",
    "# Read the data\n",
    "data = pd.read_csv('attribution data.csv')\n",
    "\n",
    "# Filter for conversions (conversion = 1)\n",
    "total_conversions = (data['conversion'] == 1).sum()\n",
    "\n",
    "# Group by channel and count the number of conversions\n",
    "average_conversions = total_conversions/len(data['conversion'])\n",
    "print(\"Average_conversion_rate:\", average_conversions)\n",
    "print(\"Total conversion:\", total_conversions)\n",
    "\n",
    "\n",
    "avg_steps = data.groupby('visitor_id')['campaign'].count().mean()\n",
    "print(\"Avg_touchponts:\", avg_steps)"
   ]
  },
  {
   "cell_type": "code",
   "execution_count": 4,
   "id": "a60cda04-ec45-4860-8ceb-33eedcc1a1e8",
   "metadata": {
    "extensions": {
     "jupyter_dashboards": {
      "activeView": "grid_default",
      "views": {
       "grid_default": {
        "col": null,
        "height": 2,
        "hidden": true,
        "locked": true,
        "row": null,
        "width": 2
       }
      }
     }
    },
    "tags": []
   },
   "outputs": [
    {
     "data": {
      "text/html": [
       "        <script type=\"text/javascript\">\n",
       "        window.PlotlyConfig = {MathJaxConfig: 'local'};\n",
       "        if (window.MathJax && window.MathJax.Hub && window.MathJax.Hub.Config) {window.MathJax.Hub.Config({SVG: {font: \"STIX-Web\"}});}\n",
       "        if (typeof require !== 'undefined') {\n",
       "        require.undef(\"plotly\");\n",
       "        requirejs.config({\n",
       "            paths: {\n",
       "                'plotly': ['https://cdn.plot.ly/plotly-2.18.2.min']\n",
       "            }\n",
       "        });\n",
       "        require(['plotly'], function(Plotly) {\n",
       "            window._Plotly = Plotly;\n",
       "        });\n",
       "        }\n",
       "        </script>\n",
       "        "
      ]
     },
     "metadata": {},
     "output_type": "display_data"
    },
    {
     "data": {
      "text/html": [
       "<div>                            <div id=\"376e384d-7173-4c77-baab-14e372abbf16\" class=\"plotly-graph-div\" style=\"height:100px; width:100px;\"></div>            <script type=\"text/javascript\">                require([\"plotly\"], function(Plotly) {                    window.PLOTLYENV=window.PLOTLYENV || {};                                    if (document.getElementById(\"376e384d-7173-4c77-baab-14e372abbf16\")) {                    Plotly.newPlot(                        \"376e384d-7173-4c77-baab-14e372abbf16\",                        [{\"customdata\":[[\"Facebook\"],[\"Facebook>Instagram\"],[\"Facebook>Instagram>Facebook\"],[\"Facebook>Instagram>Facebook>Instagram\"],[\"Facebook>Instagram>Facebook>Instagram>Facebook\"],[\"Facebook>Instagram>Facebook>Instagram>Facebook>Instagram\"],[\"Facebook>Instagram>Facebook>Instagram>Facebook>Instagram>Facebook\"],[\"Facebook>Instagram>Facebook>Instagram>Facebook>Instagram>Facebook>Instagram\"],[\"Facebook>Instagram>Facebook>Instagram>Facebook>Instagram>Facebook>Instagram>Facebook\"],[\"Facebook>Instagram>Facebook>Instagram>Facebook>Instagram>Facebook>Instagram>Facebook>Instagram\"],[\"Facebook>Instagram>Facebook>Instagram>Facebook>Instagram>Facebook>Instagram>Facebook>Instagram>Facebook\"],[\"Facebook>Instagram>Facebook>Instagram>Facebook>Instagram>Facebook>Instagram>Facebook>Instagram>Facebook>Instagram\"],[\"Facebook>Instagram>Facebook>Instagram>Facebook>Instagram>Facebook>Instagram>Facebook>Instagram>Facebook>Instagram>Facebook\"],[\"Facebook>Instagram>Facebook>Instagram>Facebook>Instagram>Facebook>Instagram>Facebook>Instagram>Facebook>Instagram>Facebook>Instagram\"],[\"Facebook>Instagram>Facebook>Instagram>Facebook>Instagram>Facebook>Instagram>Facebook>Instagram>Facebook>Instagram>Facebook>Instagram>Facebook\"],[\"Facebook>Instagram>Facebook>Instagram>Facebook>Instagram>Facebook>Instagram>Facebook>Instagram>Facebook>Instagram>Facebook>Instagram>Facebook>Instagram\"],[\"Facebook>Instagram>Facebook>Instagram>Facebook>Instagram>Facebook>Instagram>Facebook>Instagram>Facebook>Instagram>Facebook>Instagram>Facebook>Instagram>Facebook\"],[\"Facebook>Instagram>Facebook>Instagram>Facebook>Instagram>Facebook>Instagram>Facebook>Instagram>Facebook>Instagram>Facebook>Instagram>Facebook>Instagram>Facebook>Instagram\"],[\"Facebook>Instagram>Facebook>Instagram>Facebook>Instagram>Facebook>Instagram>Facebook>Instagram>Facebook>Instagram>Facebook>Instagram>Facebook>Instagram>Facebook>Instagram>Facebook>Instagram\"],[\"Facebook>Instagram>Facebook>Instagram>Facebook>Instagram>Facebook>Instagram>Facebook>Instagram>Facebook>Instagram>Facebook>Instagram>Facebook>Instagram>Facebook>Instagram>Facebook>Instagram>Facebook>Instagram>Facebook>Instagram>Facebook>Instagram>Facebook>Instagram>Facebook>Instagram>Facebook>Instagram>Facebook>Instagram>Facebook>Instagram>Facebook>Instagram>Facebook>Instagram>Facebook>Instagram\"],[\"Facebook>Instagram>Facebook>Instagram>Facebook>Instagram>Facebook>Instagram>Facebook>Instagram>Facebook>Instagram>Facebook>Instagram>Facebook>Instagram>Online Video\"],[\"Facebook>Instagram>Facebook>Instagram>Facebook>Instagram>Facebook>Instagram>Facebook>Instagram>Facebook>Instagram>Facebook>Instagram>Facebook>Online Video\"],[\"Facebook>Instagram>Facebook>Instagram>Facebook>Instagram>Facebook>Instagram>Facebook>Instagram>Facebook>Online Video>Instagram>Facebook>Instagram>Facebook>Instagram>Facebook>Online Video>Facebook>Paid Search>Facebook\"],[\"Facebook>Instagram>Facebook>Instagram>Facebook>Instagram>Facebook>Online Display\"],[\"Facebook>Instagram>Facebook>Instagram>Facebook>Instagram>Facebook>Paid Search>Facebook\"],[\"Facebook>Instagram>Facebook>Instagram>Facebook>Instagram>Facebook>Paid Search>Facebook>Instagram\"],[\"Facebook>Instagram>Facebook>Instagram>Facebook>Instagram>Online Display>Facebook>Instagram>Facebook>Instagram\"],[\"Facebook>Instagram>Facebook>Instagram>Facebook>Instagram>Paid Search\"],[\"Facebook>Instagram>Facebook>Instagram>Facebook>Online Display\"],[\"Facebook>Instagram>Facebook>Instagram>Facebook>Online Display>Facebook\"],[\"Facebook>Instagram>Facebook>Instagram>Facebook>Online Display>Instagram>Facebook>Instagram>Facebook>Instagram>Facebook>Instagram>Facebook>Instagram>Facebook>Instagram>Facebook>Instagram\"],[\"Facebook>Instagram>Facebook>Instagram>Facebook>Online Video>Facebook\"],[\"Facebook>Instagram>Facebook>Instagram>Facebook>Online Video>Facebook>Instagram>Facebook\"],[\"Facebook>Instagram>Facebook>Instagram>Facebook>Paid Search\"],[\"Facebook>Instagram>Facebook>Instagram>Facebook>Paid Search>Instagram>Facebook>Instagram>Facebook>Instagram\"],[\"Facebook>Instagram>Facebook>Instagram>Online Display>Facebook>Instagram\"],[\"Facebook>Instagram>Facebook>Instagram>Online Display>Facebook>Instagram>Facebook\"],[\"Facebook>Instagram>Facebook>Instagram>Online Video>Facebook>Instagram>Online Video>Instagram>Online Video>Instagram>Online Video>Facebook>Instagram\"],[\"Facebook>Instagram>Facebook>Instagram>Online Video>Facebook>Online Video>Facebook>Instagram\"],[\"Facebook>Instagram>Facebook>Instagram>Paid Search>Facebook>Instagram>Facebook>Instagram>Facebook>Instagram\"],[\"Facebook>Instagram>Facebook>Instagram>Paid Search>Facebook>Instagram>Paid Search>Instagram>Facebook>Instagram>Facebook>Instagram>Paid Search>Instagram>Facebook>Instagram>Paid Search>Instagram>Facebook>Instagram>Facebook\"],[\"Facebook>Instagram>Facebook>Instagram>Paid Search>Facebook>Paid Search>Facebook>Instagram>Facebook>Paid Search\"],[\"Facebook>Instagram>Facebook>Instagram>Paid Search>Online Video>Paid Search>Instagram>Facebook>Online Video\"],[\"Facebook>Instagram>Facebook>Online Display\"],[\"Facebook>Instagram>Facebook>Online Display>Facebook>Instagram>Facebook\"],[\"Facebook>Instagram>Facebook>Online Display>Instagram>Facebook>Online Display\"],[\"Facebook>Instagram>Facebook>Online Video\"],[\"Facebook>Instagram>Facebook>Online Video>Facebook\"],[\"Facebook>Instagram>Facebook>Online Video>Facebook>Online Video>Facebook>Instagram>Facebook>Online Video>Facebook>Online Video>Facebook>Instagram>Online Video>Instagram>Facebook\"],[\"Facebook>Instagram>Facebook>Online Video>Instagram>Facebook>Instagram>Facebook>Instagram\"],[\"Facebook>Instagram>Facebook>Paid Search\"],[\"Facebook>Instagram>Facebook>Paid Search>Facebook\"],[\"Facebook>Instagram>Facebook>Paid Search>Facebook>Instagram\"],[\"Facebook>Instagram>Facebook>Paid Search>Facebook>Instagram>Facebook\"],[\"Facebook>Instagram>Facebook>Paid Search>Facebook>Instagram>Facebook>Instagram>Paid Search\"],[\"Facebook>Instagram>Facebook>Paid Search>Instagram>Facebook\"],[\"Facebook>Instagram>Facebook>Paid Search>Instagram>Facebook>Instagram>Facebook\"],[\"Facebook>Instagram>Facebook>Paid Search>Instagram>Facebook>Instagram>Facebook>Instagram>Facebook>Instagram>Facebook>Instagram>Facebook>Instagram>Facebook\"],[\"Facebook>Instagram>Facebook>Paid Search>Instagram>Facebook>Instagram>Facebook>Instagram>Paid Search>Facebook>Instagram\"],[\"Facebook>Instagram>Facebook>Paid Search>Online Display>Paid Search>Online Display>Facebook>Instagram>Facebook\"],[\"Facebook>Instagram>Online Display\"],[\"Facebook>Instagram>Online Display>Facebook\"],[\"Facebook>Instagram>Online Display>Facebook>Instagram>Paid Search>Facebook>Instagram>Facebook>Online Display>Instagram>Facebook>Instagram>Facebook>Instagram\"],[\"Facebook>Instagram>Online Display>Instagram\"],[\"Facebook>Instagram>Online Display>Instagram>Facebook\"],[\"Facebook>Instagram>Online Display>Online Video>Facebook>Instagram>Facebook>Instagram>Facebook>Online Video>Facebook>Online Video\"],[\"Facebook>Instagram>Online Video\"],[\"Facebook>Instagram>Online Video>Facebook>Instagram>Online Video\"],[\"Facebook>Instagram>Online Video>Instagram>Facebook>Instagram\"],[\"Facebook>Instagram>Online Video>Instagram>Online Video>Facebook>Instagram\"],[\"Facebook>Instagram>Online Video>Paid Search>Instagram>Paid Search>Instagram>Paid Search>Facebook>Paid Search>Facebook>Instagram>Paid Search>Facebook>Instagram>Facebook>Paid Search\"],[\"Facebook>Instagram>Online Video>Paid Search>Online Video>Facebook\"],[\"Facebook>Instagram>Paid Search\"],[\"Facebook>Instagram>Paid Search>Facebook\"],[\"Facebook>Instagram>Paid Search>Facebook>Instagram>Facebook>Instagram>Paid Search>Facebook>Paid Search>Instagram>Facebook>Instagram>Facebook>Instagram>Facebook\"],[\"Facebook>Instagram>Paid Search>Facebook>Instagram>Facebook>Paid Search>Facebook>Instagram\"],[\"Facebook>Instagram>Paid Search>Facebook>Instagram>Online Video>Facebook\"],[\"Facebook>Instagram>Paid Search>Facebook>Paid Search>Facebook>Paid Search>Facebook>Paid Search\"],[\"Facebook>Instagram>Paid Search>Instagram>Facebook\"],[\"Facebook>Instagram>Paid Search>Instagram>Facebook>Instagram\"],[\"Facebook>Instagram>Paid Search>Online Display>Paid Search>Instagram>Facebook\"],[\"Facebook>Instagram>Paid Search>Online Video\"],[\"Facebook>Online Display\"],[\"Facebook>Online Display>Facebook\"],[\"Facebook>Online Display>Facebook>Instagram>Facebook\"],[\"Facebook>Online Display>Facebook>Instagram>Facebook>Instagram>Facebook\"],[\"Facebook>Online Display>Facebook>Instagram>Facebook>Instagram>Facebook>Instagram\"],[\"Facebook>Online Display>Facebook>Instagram>Online Display\"],[\"Facebook>Online Display>Facebook>Online Display\"],[\"Facebook>Online Display>Facebook>Online Display>Facebook>Online Display>Instagram\"],[\"Facebook>Online Display>Facebook>Paid Search>Online Video>Facebook>Online Display>Online Video>Facebook>Instagram>Online Video>Facebook\"],[\"Facebook>Online Display>Instagram\"],[\"Facebook>Online Display>Instagram>Facebook>Instagram\"],[\"Facebook>Online Display>Instagram>Online Display\"],[\"Facebook>Online Display>Instagram>Online Display>Instagram>Facebook>Instagram>Facebook\"],[\"Facebook>Online Display>Instagram>Online Display>Paid Search>Online Display>Paid Search\"],[\"Facebook>Online Display>Paid Search\"],[\"Facebook>Online Display>Paid Search>Online Display>Paid Search>Facebook>Instagram>Facebook\"],[\"Facebook>Online Video\"],[\"Facebook>Online Video>Facebook\"],[\"Facebook>Online Video>Facebook>Instagram\"],[\"Facebook>Online Video>Facebook>Instagram>Facebook>Instagram>Facebook>Paid Search>Instagram>Facebook>Paid Search>Facebook>Instagram>Facebook>Instagram>Facebook>Instagram>Facebook>Instagram>Facebook>Paid Search\"],[\"Facebook>Online Video>Facebook>Instagram>Facebook>Instagram>Online Video\"],[\"Facebook>Online Video>Facebook>Instagram>Facebook>Online Video>Instagram>Facebook>Online Video>Instagram>Facebook>Online Video\"],[\"Facebook>Online Video>Facebook>Instagram>Online Video\"],[\"Facebook>Online Video>Facebook>Online Video\"],[\"Facebook>Online Video>Facebook>Online Video>Facebook>Instagram>Facebook\"],[\"Facebook>Online Video>Facebook>Online Video>Facebook>Instagram>Online Video\"],[\"Facebook>Online Video>Facebook>Online Video>Facebook>Online Video\"],[\"Facebook>Online Video>Facebook>Online Video>Facebook>Online Video>Instagram>Online Video>Instagram\"],[\"Facebook>Online Video>Facebook>Online Video>Facebook>Paid Search>Online Video>Facebook>Online Video>Paid Search>Online Video>Facebook>Online Video>Paid Search>Instagram>Facebook>Online Video\"],[\"Facebook>Online Video>Facebook>Paid Search\"],[\"Facebook>Online Video>Instagram\"],[\"Facebook>Online Video>Instagram>Facebook\"],[\"Facebook>Online Video>Instagram>Facebook>Instagram>Facebook\"],[\"Facebook>Online Video>Instagram>Online Video\"],[\"Facebook>Online Video>Instagram>Online Video>Facebook\"],[\"Facebook>Online Video>Online Display\"],[\"Facebook>Online Video>Paid Search\"],[\"Facebook>Online Video>Paid Search>Facebook>Online Video>Facebook\"],[\"Facebook>Online Video>Paid Search>Online Video\"],[\"Facebook>Online Video>Paid Search>Online Video>Paid Search\"],[\"Facebook>Online Video>Paid Search>Online Video>Paid Search>Online Video\"],[\"Facebook>Paid Search\"],[\"Facebook>Paid Search>Facebook\"],[\"Facebook>Paid Search>Facebook>Instagram\"],[\"Facebook>Paid Search>Facebook>Instagram>Facebook\"],[\"Facebook>Paid Search>Facebook>Instagram>Facebook>Instagram>Facebook\"],[\"Facebook>Paid Search>Facebook>Instagram>Facebook>Instagram>Facebook>Instagram>Facebook>Instagram\"],[\"Facebook>Paid Search>Facebook>Instagram>Facebook>Instagram>Facebook>Paid Search\"],[\"Facebook>Paid Search>Facebook>Instagram>Facebook>Instagram>Online Display>Instagram\"],[\"Facebook>Paid Search>Facebook>Instagram>Facebook>Instagram>Online Video\"],[\"Facebook>Paid Search>Facebook>Instagram>Facebook>Online Video>Facebook>Online Display\"],[\"Facebook>Paid Search>Facebook>Instagram>Paid Search>Facebook>Paid Search\"],[\"Facebook>Paid Search>Facebook>Online Display>Facebook\"],[\"Facebook>Paid Search>Facebook>Online Display>Facebook>Online Display>Instagram\"],[\"Facebook>Paid Search>Facebook>Online Video>Facebook\"],[\"Facebook>Paid Search>Facebook>Paid Search\"],[\"Facebook>Paid Search>Facebook>Paid Search>Facebook>Paid Search>Facebook>Instagram\"],[\"Facebook>Paid Search>Facebook>Paid Search>Facebook>Paid Search>Facebook>Paid Search>Facebook>Paid Search\"],[\"Facebook>Paid Search>Facebook>Paid Search>Online Video>Paid Search>Online Video>Paid Search\"],[\"Facebook>Paid Search>Instagram\"],[\"Facebook>Paid Search>Instagram>Facebook\"],[\"Facebook>Paid Search>Instagram>Facebook>Instagram\"],[\"Facebook>Paid Search>Instagram>Facebook>Instagram>Facebook>Instagram>Facebook\"],[\"Facebook>Paid Search>Instagram>Facebook>Online Video>Facebook>Instagram>Facebook\"],[\"Facebook>Paid Search>Instagram>Facebook>Paid Search>Online Video\"],[\"Facebook>Paid Search>Instagram>Online Display\"],[\"Facebook>Paid Search>Instagram>Paid Search\"],[\"Facebook>Paid Search>Instagram>Paid Search>Facebook\"],[\"Facebook>Paid Search>Online Display\"],[\"Facebook>Paid Search>Online Display>Facebook\"],[\"Facebook>Paid Search>Online Display>Facebook>Paid Search>Facebook>Paid Search\"],[\"Facebook>Paid Search>Online Display>Online Video\"],[\"Facebook>Paid Search>Online Display>Online Video>Instagram>Online Display\"],[\"Facebook>Paid Search>Online Display>Paid Search\"],[\"Facebook>Paid Search>Online Display>Paid Search>Facebook>Instagram>Facebook>Instagram\"],[\"Facebook>Paid Search>Online Video\"],[\"Facebook>Paid Search>Online Video>Facebook>Instagram\"],[\"Facebook>Paid Search>Online Video>Instagram>Facebook\"],[\"Instagram\"],[\"Instagram>Facebook\"],[\"Instagram>Facebook>Instagram\"],[\"Instagram>Facebook>Instagram>Facebook\"],[\"Instagram>Facebook>Instagram>Facebook>Instagram\"],[\"Instagram>Facebook>Instagram>Facebook>Instagram>Facebook\"],[\"Instagram>Facebook>Instagram>Facebook>Instagram>Facebook>Instagram\"],[\"Instagram>Facebook>Instagram>Facebook>Instagram>Facebook>Instagram>Facebook\"],[\"Instagram>Facebook>Instagram>Facebook>Instagram>Facebook>Instagram>Facebook>Instagram\"],[\"Instagram>Facebook>Instagram>Facebook>Instagram>Facebook>Instagram>Facebook>Instagram>Facebook\"],[\"Instagram>Facebook>Instagram>Facebook>Instagram>Facebook>Instagram>Facebook>Instagram>Facebook>Instagram\"],[\"Instagram>Facebook>Instagram>Facebook>Instagram>Facebook>Instagram>Facebook>Instagram>Facebook>Instagram>Facebook\"],[\"Instagram>Facebook>Instagram>Facebook>Instagram>Facebook>Instagram>Facebook>Instagram>Facebook>Instagram>Facebook>Instagram\"],[\"Instagram>Facebook>Instagram>Facebook>Instagram>Facebook>Instagram>Facebook>Instagram>Facebook>Instagram>Facebook>Instagram>Facebook>Instagram\"],[\"Instagram>Facebook>Instagram>Facebook>Instagram>Facebook>Instagram>Facebook>Instagram>Facebook>Instagram>Facebook>Instagram>Facebook>Instagram>Facebook>Instagram>Facebook\"],[\"Instagram>Facebook>Instagram>Facebook>Instagram>Facebook>Instagram>Facebook>Instagram>Facebook>Instagram>Facebook>Instagram>Facebook>Instagram>Facebook>Instagram>Facebook>Instagram>Facebook\"],[\"Instagram>Facebook>Instagram>Facebook>Instagram>Facebook>Instagram>Facebook>Instagram>Facebook>Instagram>Facebook>Instagram>Facebook>Instagram>Facebook>Instagram>Facebook>Instagram>Facebook>Instagram>Facebook>Instagram\"],[\"Instagram>Facebook>Instagram>Facebook>Instagram>Facebook>Instagram>Facebook>Instagram>Facebook>Instagram>Facebook>Instagram>Facebook>Instagram>Facebook>Instagram>Facebook>Instagram>Facebook>Instagram>Facebook>Instagram>Facebook>Instagram\"],[\"Instagram>Facebook>Instagram>Facebook>Instagram>Facebook>Instagram>Facebook>Instagram>Facebook>Instagram>Facebook>Instagram>Facebook>Instagram>Facebook>Instagram>Facebook>Instagram>Facebook>Instagram>Facebook>Instagram>Facebook>Instagram>Facebook>Instagram>Facebook\"],[\"Instagram>Facebook>Instagram>Facebook>Instagram>Facebook>Instagram>Facebook>Instagram>Facebook>Instagram>Facebook>Instagram>Facebook>Instagram>Facebook>Instagram>Facebook>Instagram>Facebook>Instagram>Facebook>Paid Search>Facebook>Instagram>Facebook>Instagram>Facebook\"],[\"Instagram>Facebook>Instagram>Facebook>Instagram>Facebook>Instagram>Facebook>Instagram>Facebook>Instagram>Facebook>Instagram>Facebook>Online Video>Facebook\"],[\"Instagram>Facebook>Instagram>Facebook>Instagram>Facebook>Instagram>Facebook>Instagram>Online Display\"],[\"Instagram>Facebook>Instagram>Facebook>Instagram>Facebook>Instagram>Facebook>Instagram>Paid Search>Facebook>Instagram>Facebook\"],[\"Instagram>Facebook>Instagram>Facebook>Instagram>Facebook>Instagram>Facebook>Paid Search>Facebook>Instagram>Facebook>Instagram>Facebook>Instagram>Facebook>Instagram>Facebook\"],[\"Instagram>Facebook>Instagram>Facebook>Instagram>Facebook>Online Display>Facebook\"],[\"Instagram>Facebook>Instagram>Facebook>Instagram>Facebook>Online Display>Paid Search\"],[\"Instagram>Facebook>Instagram>Facebook>Instagram>Facebook>Paid Search\"],[\"Instagram>Facebook>Instagram>Facebook>Instagram>Facebook>Paid Search>Facebook>Instagram>Facebook>Instagram\"],[\"Instagram>Facebook>Instagram>Facebook>Instagram>Online Display>Facebook>Instagram>Online Display>Facebook\"],[\"Instagram>Facebook>Instagram>Facebook>Instagram>Online Display>Instagram>Online Display>Instagram>Facebook>Online Display>Instagram>Paid Search>Facebook>Instagram>Facebook>Instagram\"],[\"Instagram>Facebook>Instagram>Facebook>Instagram>Paid Search>Instagram\"],[\"Instagram>Facebook>Instagram>Facebook>Online Display>Facebook\"],[\"Instagram>Facebook>Instagram>Facebook>Online Display>Facebook>Instagram>Facebook>Instagram>Facebook>Instagram>Facebook>Instagram>Facebook\"],[\"Instagram>Facebook>Instagram>Facebook>Online Display>Instagram\"],[\"Instagram>Facebook>Instagram>Facebook>Online Video\"],[\"Instagram>Facebook>Instagram>Facebook>Online Video>Paid Search>Instagram\"],[\"Instagram>Facebook>Instagram>Facebook>Paid Search\"],[\"Instagram>Facebook>Instagram>Facebook>Paid Search>Facebook\"],[\"Instagram>Facebook>Instagram>Facebook>Paid Search>Facebook>Instagram\"],[\"Instagram>Facebook>Instagram>Facebook>Paid Search>Facebook>Instagram>Facebook\"],[\"Instagram>Facebook>Instagram>Facebook>Paid Search>Facebook>Instagram>Facebook>Instagram\"],[\"Instagram>Facebook>Instagram>Facebook>Paid Search>Facebook>Instagram>Facebook>Paid Search>Facebook>Instagram>Facebook>Online Display\"],[\"Instagram>Facebook>Instagram>Facebook>Paid Search>Instagram\"],[\"Instagram>Facebook>Instagram>Online Display>Instagram\"],[\"Instagram>Facebook>Instagram>Online Display>Instagram>Online Display>Facebook>Instagram>Facebook\"],[\"Instagram>Facebook>Instagram>Online Video>Facebook\"],[\"Instagram>Facebook>Instagram>Online Video>Facebook>Paid Search>Instagram\"],[\"Instagram>Facebook>Instagram>Online Video>Instagram>Facebook>Online Video>Facebook>Instagram>Facebook>Instagram>Facebook>Online Video\"],[\"Instagram>Facebook>Instagram>Paid Search>Facebook\"],[\"Instagram>Facebook>Instagram>Paid Search>Instagram>Facebook>Instagram>Facebook>Instagram>Facebook>Instagram>Facebook>Instagram>Facebook>Instagram>Facebook>Instagram>Facebook>Instagram>Facebook>Instagram>Facebook>Instagram>Facebook>Instagram>Facebook>Instagram>Facebook>Instagram>Facebook>Instagram>Facebook>Instagram>Facebook>Instagram>Facebook>Instagram>Facebook>Instagram>Facebook>Instagram>Facebook>Instagram>Facebook>Instagram\"],[\"Instagram>Facebook>Instagram>Paid Search>Instagram>Facebook>Instagram>Paid Search>Facebook>Paid Search>Facebook>Paid Search>Facebook>Instagram>Facebook>Instagram>Facebook>Instagram>Facebook>Instagram>Facebook>Paid Search\"],[\"Instagram>Facebook>Instagram>Paid Search>Online Video>Facebook\"],[\"Instagram>Facebook>Online Display\"],[\"Instagram>Facebook>Online Display>Facebook\"],[\"Instagram>Facebook>Online Display>Facebook>Instagram\"],[\"Instagram>Facebook>Online Display>Facebook>Instagram>Facebook\"],[\"Instagram>Facebook>Online Display>Facebook>Instagram>Facebook>Instagram\"],[\"Instagram>Facebook>Online Display>Facebook>Instagram>Facebook>Instagram>Facebook>Instagram>Facebook>Instagram>Facebook>Instagram>Facebook>Instagram\"],[\"Instagram>Facebook>Online Display>Paid Search>Online Display\"],[\"Instagram>Facebook>Online Video\"],[\"Instagram>Facebook>Online Video>Instagram\"],[\"Instagram>Facebook>Online Video>Instagram>Facebook\"],[\"Instagram>Facebook>Online Video>Instagram>Facebook>Instagram\"],[\"Instagram>Facebook>Online Video>Instagram>Online Video\"],[\"Instagram>Facebook>Online Video>Instagram>Paid Search>Online Video>Facebook>Instagram\"],[\"Instagram>Facebook>Paid Search\"],[\"Instagram>Facebook>Paid Search>Facebook\"],[\"Instagram>Facebook>Paid Search>Facebook>Instagram\"],[\"Instagram>Facebook>Paid Search>Instagram\"],[\"Instagram>Facebook>Paid Search>Instagram>Facebook>Instagram>Facebook>Instagram>Facebook\"],[\"Instagram>Facebook>Paid Search>Online Display\"],[\"Instagram>Facebook>Paid Search>Online Display>Instagram\"],[\"Instagram>Facebook>Paid Search>Online Video\"],[\"Instagram>Facebook>Paid Search>Online Video>Paid Search>Facebook>Online Video>Paid Search>Facebook>Online Display\"],[\"Instagram>Online Display\"],[\"Instagram>Online Display>Facebook\"],[\"Instagram>Online Display>Facebook>Instagram>Facebook>Instagram>Online Display\"],[\"Instagram>Online Display>Facebook>Instagram>Online Display>Facebook>Online Display>Facebook\"],[\"Instagram>Online Display>Facebook>Online Display>Facebook\"],[\"Instagram>Online Display>Facebook>Online Display>Facebook>Paid Search>Facebook>Online Display>Facebook>Instagram>Facebook>Instagram>Facebook>Instagram\"],[\"Instagram>Online Display>Facebook>Online Video>Facebook\"],[\"Instagram>Online Display>Instagram\"],[\"Instagram>Online Display>Instagram>Facebook\"],[\"Instagram>Online Display>Instagram>Facebook>Instagram\"],[\"Instagram>Online Display>Instagram>Online Display>Facebook>Online Display>Facebook>Instagram>Facebook\"],[\"Instagram>Online Display>Online Video>Online Display\"],[\"Instagram>Online Display>Paid Search\"],[\"Instagram>Online Display>Paid Search>Facebook\"],[\"Instagram>Online Display>Paid Search>Instagram\"],[\"Instagram>Online Display>Paid Search>Online Display>Instagram>Online Display\"],[\"Instagram>Online Video\"],[\"Instagram>Online Video>Facebook\"],[\"Instagram>Online Video>Facebook>Instagram>Facebook>Online Video>Facebook>Instagram>Facebook>Online Video>Facebook\"],[\"Instagram>Online Video>Facebook>Online Video>Facebook\"],[\"Instagram>Online Video>Facebook>Online Video>Facebook>Online Video\"],[\"Instagram>Online Video>Facebook>Online Video>Facebook>Online Video>Instagram>Online Video>Facebook>Instagram>Online Video>Facebook>Online Video>Facebook\"],[\"Instagram>Online Video>Instagram\"],[\"Instagram>Online Video>Instagram>Facebook>Instagram>Online Video\"],[\"Instagram>Online Video>Instagram>Facebook>Online Video>Facebook\"],[\"Instagram>Online Video>Instagram>Online Video\"],[\"Instagram>Online Video>Paid Search>Online Video\"],[\"Instagram>Online Video>Paid Search>Online Video>Facebook\"],[\"Instagram>Online Video>Paid Search>Online Video>Paid Search\"],[\"Instagram>Paid Search\"],[\"Instagram>Paid Search>Facebook\"],[\"Instagram>Paid Search>Facebook>Instagram\"],[\"Instagram>Paid Search>Facebook>Instagram>Facebook\"],[\"Instagram>Paid Search>Facebook>Instagram>Facebook>Instagram\"],[\"Instagram>Paid Search>Facebook>Instagram>Facebook>Paid Search>Facebook>Instagram\"],[\"Instagram>Paid Search>Facebook>Instagram>Online Display>Instagram>Facebook\"],[\"Instagram>Paid Search>Facebook>Instagram>Paid Search\"],[\"Instagram>Paid Search>Facebook>Instagram>Paid Search>Facebook>Instagram>Facebook\"],[\"Instagram>Paid Search>Facebook>Online Video>Online Display\"],[\"Instagram>Paid Search>Facebook>Paid Search\"],[\"Instagram>Paid Search>Facebook>Paid Search>Facebook\"],[\"Instagram>Paid Search>Facebook>Paid Search>Online Display\"],[\"Instagram>Paid Search>Instagram\"],[\"Instagram>Paid Search>Instagram>Facebook\"],[\"Instagram>Paid Search>Instagram>Facebook>Instagram>Facebook>Instagram\"],[\"Instagram>Paid Search>Instagram>Facebook>Instagram>Paid Search\"],[\"Instagram>Paid Search>Instagram>Online Display>Facebook\"],[\"Instagram>Paid Search>Instagram>Paid Search>Instagram\"],[\"Instagram>Paid Search>Online Display>Facebook\"],[\"Instagram>Paid Search>Online Display>Paid Search>Facebook>Online Display>Facebook\"],[\"Instagram>Paid Search>Online Display>Paid Search>Instagram\"],[\"Instagram>Paid Search>Online Video\"],[\"Instagram>Paid Search>Online Video>Instagram\"],[\"Online Display\"],[\"Online Display>Facebook\"],[\"Online Display>Facebook>Instagram\"],[\"Online Display>Facebook>Instagram>Facebook\"],[\"Online Display>Facebook>Instagram>Facebook>Instagram>Facebook>Instagram>Facebook>Instagram\"],[\"Online Display>Facebook>Instagram>Facebook>Instagram>Facebook>Instagram>Facebook>Instagram>Facebook>Instagram\"],[\"Online Display>Facebook>Instagram>Facebook>Instagram>Online Display>Instagram>Online Display>Facebook>Paid Search>Facebook>Instagram>Paid Search\"],[\"Online Display>Facebook>Instagram>Facebook>Online Display\"],[\"Online Display>Facebook>Instagram>Facebook>Online Display>Facebook>Online Display>Instagram>Online Display>Facebook>Online Display>Facebook>Online Display>Facebook>Online Display>Facebook>Online Display>Facebook>Online Display>Paid Search>Facebook>Instagram>Online Display>Paid Search\"],[\"Online Display>Facebook>Instagram>Facebook>Paid Search\"],[\"Online Display>Facebook>Instagram>Online Display\"],[\"Online Display>Facebook>Instagram>Online Display>Facebook>Online Display>Instagram>Facebook>Online Display>Facebook>Instagram>Facebook>Instagram>Facebook>Instagram\"],[\"Online Display>Facebook>Instagram>Online Display>Paid Search>Facebook\"],[\"Online Display>Facebook>Instagram>Online Video>Online Display\"],[\"Online Display>Facebook>Instagram>Paid Search\"],[\"Online Display>Facebook>Online Display\"],[\"Online Display>Facebook>Online Display>Facebook>Instagram\"],[\"Online Display>Facebook>Online Display>Facebook>Paid Search>Online Display\"],[\"Online Display>Facebook>Online Display>Instagram>Paid Search>Online Display>Paid Search>Online Video>Facebook>Instagram>Facebook>Instagram>Facebook>Instagram>Facebook>Instagram>Facebook>Online Display>Facebook>Instagram\"],[\"Online Display>Facebook>Online Video\"],[\"Online Display>Facebook>Online Video>Paid Search\"],[\"Online Display>Facebook>Paid Search\"],[\"Online Display>Facebook>Paid Search>Facebook\"],[\"Online Display>Facebook>Paid Search>Facebook>Instagram>Facebook>Instagram>Facebook>Instagram>Facebook\"],[\"Online Display>Facebook>Paid Search>Facebook>Paid Search\"],[\"Online Display>Facebook>Paid Search>Instagram\"],[\"Online Display>Facebook>Paid Search>Instagram>Online Display\"],[\"Online Display>Facebook>Paid Search>Instagram>Paid Search>Facebook>Paid Search\"],[\"Online Display>Instagram\"],[\"Online Display>Instagram>Facebook\"],[\"Online Display>Instagram>Facebook>Instagram\"],[\"Online Display>Instagram>Facebook>Instagram>Facebook>Instagram>Facebook\"],[\"Online Display>Instagram>Facebook>Instagram>Facebook>Instagram>Facebook>Instagram\"],[\"Online Display>Instagram>Facebook>Instagram>Online Display>Facebook\"],[\"Online Display>Instagram>Facebook>Paid Search>Online Display\"],[\"Online Display>Instagram>Facebook>Paid Search>Online Display>Paid Search\"],[\"Online Display>Instagram>Online Display\"],[\"Online Display>Instagram>Paid Search\"],[\"Online Display>Instagram>Paid Search>Online Display\"],[\"Online Display>Online Video\"],[\"Online Display>Online Video>Facebook\"],[\"Online Display>Online Video>Facebook>Instagram\"],[\"Online Display>Online Video>Facebook>Online Video\"],[\"Online Display>Online Video>Facebook>Online Video>Paid Search>Online Display>Online Video>Online Display>Online Video\"],[\"Online Display>Online Video>Instagram>Facebook\"],[\"Online Display>Online Video>Instagram>Online Video\"],[\"Online Display>Online Video>Online Display\"],[\"Online Display>Online Video>Online Display>Online Video>Online Display>Online Video\"],[\"Online Display>Online Video>Online Display>Paid Search\"],[\"Online Display>Online Video>Paid Search\"],[\"Online Display>Paid Search\"],[\"Online Display>Paid Search>Facebook\"],[\"Online Display>Paid Search>Facebook>Instagram\"],[\"Online Display>Paid Search>Facebook>Online Display\"],[\"Online Display>Paid Search>Facebook>Online Display>Online Video>Facebook>Instagram>Facebook>Online Video>Facebook\"],[\"Online Display>Paid Search>Facebook>Online Display>Paid Search\"],[\"Online Display>Paid Search>Facebook>Online Video\"],[\"Online Display>Paid Search>Instagram\"],[\"Online Display>Paid Search>Instagram>Facebook>Paid Search>Facebook\"],[\"Online Display>Paid Search>Instagram>Facebook>Paid Search>Facebook>Paid Search>Online Display>Paid Search>Online Display\"],[\"Online Display>Paid Search>Instagram>Facebook>Paid Search>Instagram>Facebook\"],[\"Online Display>Paid Search>Instagram>Online Display\"],[\"Online Display>Paid Search>Instagram>Online Display>Instagram>Facebook>Instagram>Online Display\"],[\"Online Display>Paid Search>Online Display\"],[\"Online Display>Paid Search>Online Display>Facebook>Instagram\"],[\"Online Display>Paid Search>Online Display>Instagram\"],[\"Online Display>Paid Search>Online Display>Instagram>Facebook>Instagram>Facebook>Paid Search\"],[\"Online Display>Paid Search>Online Display>Instagram>Online Display\"],[\"Online Display>Paid Search>Online Display>Online Video>Online Display>Paid Search\"],[\"Online Display>Paid Search>Online Display>Online Video>Paid Search>Facebook>Instagram\"],[\"Online Display>Paid Search>Online Display>Online Video>Paid Search>Online Video\"],[\"Online Display>Paid Search>Online Display>Paid Search\"],[\"Online Display>Paid Search>Online Display>Paid Search>Facebook>Paid Search\"],[\"Online Display>Paid Search>Online Display>Paid Search>Online Display\"],[\"Online Display>Paid Search>Online Display>Paid Search>Online Display>Instagram\"],[\"Online Display>Paid Search>Online Display>Paid Search>Online Display>Paid Search\"],[\"Online Display>Paid Search>Online Video\"],[\"Online Display>Paid Search>Online Video>Facebook>Online Display\"],[\"Online Display>Paid Search>Online Video>Online Display>Paid Search\"],[\"Online Video\"],[\"Online Video>Facebook\"],[\"Online Video>Facebook>Instagram\"],[\"Online Video>Facebook>Instagram>Facebook\"],[\"Online Video>Facebook>Instagram>Facebook>Instagram\"],[\"Online Video>Facebook>Instagram>Facebook>Instagram>Facebook\"],[\"Online Video>Facebook>Instagram>Facebook>Instagram>Facebook>Instagram>Online Video>Facebook>Instagram>Facebook>Instagram>Facebook>Instagram>Facebook>Instagram>Facebook>Instagram>Facebook>Instagram>Facebook\"],[\"Online Video>Facebook>Instagram>Facebook>Instagram>Facebook>Online Video>Facebook>Instagram>Facebook>Online Video>Facebook>Instagram>Facebook>Online Video>Facebook>Instagram>Facebook>Instagram\"],[\"Online Video>Facebook>Instagram>Facebook>Online Video>Facebook>Online Video>Instagram>Facebook\"],[\"Online Video>Facebook>Instagram>Facebook>Online Video>Facebook>Online Video>Instagram>Online Video>Facebook>Online Video\"],[\"Online Video>Facebook>Instagram>Online Video\"],[\"Online Video>Facebook>Instagram>Online Video>Facebook\"],[\"Online Video>Facebook>Instagram>Paid Search>Facebook>Instagram>Facebook>Instagram>Facebook>Instagram>Online Video>Facebook>Instagram>Facebook>Instagram>Facebook>Instagram>Facebook>Instagram>Online Video>Facebook>Online Video>Facebook>Paid Search\"],[\"Online Video>Facebook>Instagram>Paid Search>Online Video>Paid Search>Instagram\"],[\"Online Video>Facebook>Online Display\"],[\"Online Video>Facebook>Online Display>Online Video>Facebook>Online Display\"],[\"Online Video>Facebook>Online Video\"],[\"Online Video>Facebook>Online Video>Facebook\"],[\"Online Video>Facebook>Online Video>Facebook>Instagram\"],[\"Online Video>Facebook>Online Video>Facebook>Online Video\"],[\"Online Video>Facebook>Online Video>Facebook>Online Video>Facebook\"],[\"Online Video>Facebook>Online Video>Facebook>Online Video>Instagram>Facebook\"],[\"Online Video>Facebook>Online Video>Facebook>Online Video>Paid Search\"],[\"Online Video>Facebook>Online Video>Instagram\"],[\"Online Video>Facebook>Online Video>Instagram>Facebook\"],[\"Online Video>Facebook>Online Video>Instagram>Online Video\"],[\"Online Video>Facebook>Online Video>Instagram>Online Video>Facebook\"],[\"Online Video>Facebook>Online Video>Paid Search\"],[\"Online Video>Facebook>Online Video>Paid Search>Online Video>Paid Search>Online Video>Online Display\"],[\"Online Video>Facebook>Paid Search\"],[\"Online Video>Facebook>Paid Search>Facebook>Paid Search\"],[\"Online Video>Facebook>Paid Search>Instagram>Facebook\"],[\"Online Video>Facebook>Paid Search>Online Video>Paid Search>Online Video>Paid Search>Facebook\"],[\"Online Video>Instagram\"],[\"Online Video>Instagram>Facebook\"],[\"Online Video>Instagram>Facebook>Instagram>Facebook>Instagram\"],[\"Online Video>Instagram>Facebook>Instagram>Online Video>Facebook>Online Video\"],[\"Online Video>Instagram>Facebook>Online Video\"],[\"Online Video>Instagram>Facebook>Online Video>Facebook\"],[\"Online Video>Instagram>Facebook>Online Video>Instagram>Facebook\"],[\"Online Video>Instagram>Online Display\"],[\"Online Video>Instagram>Online Video\"],[\"Online Video>Instagram>Online Video>Facebook\"],[\"Online Video>Instagram>Online Video>Facebook>Instagram\"],[\"Online Video>Instagram>Online Video>Facebook>Instagram>Facebook>Online Display>Facebook>Instagram\"],[\"Online Video>Instagram>Online Video>Facebook>Online Video\"],[\"Online Video>Instagram>Online Video>Facebook>Online Video>Facebook\"],[\"Online Video>Instagram>Online Video>Facebook>Online Video>Facebook>Online Video>Instagram>Online Video\"],[\"Online Video>Instagram>Online Video>Instagram\"],[\"Online Video>Instagram>Online Video>Instagram>Facebook>Instagram>Facebook>Online Video>Facebook>Online Video>Instagram>Facebook>Online Video>Facebook>Online Video>Facebook>Instagram>Facebook>Instagram>Facebook\"],[\"Online Video>Instagram>Online Video>Instagram>Facebook>Instagram>Online Video>Facebook\"],[\"Online Video>Instagram>Online Video>Online Display>Online Video\"],[\"Online Video>Instagram>Online Video>Paid Search\"],[\"Online Video>Instagram>Online Video>Paid Search>Online Video>Paid Search>Online Video>Facebook\"],[\"Online Video>Instagram>Paid Search>Online Video>Online Display>Online Video\"],[\"Online Video>Online Display\"],[\"Online Video>Online Display>Facebook\"],[\"Online Video>Online Display>Facebook>Instagram\"],[\"Online Video>Online Display>Instagram>Online Display\"],[\"Online Video>Online Display>Online Video\"],[\"Online Video>Online Display>Online Video>Facebook>Online Video\"],[\"Online Video>Online Display>Online Video>Instagram>Online Video\"],[\"Online Video>Online Display>Online Video>Paid Search\"],[\"Online Video>Online Display>Paid Search>Online Video\"],[\"Online Video>Paid Search\"],[\"Online Video>Paid Search>Facebook\"],[\"Online Video>Paid Search>Facebook>Online Video\"],[\"Online Video>Paid Search>Facebook>Online Video>Paid Search>Online Video\"],[\"Online Video>Paid Search>Facebook>Paid Search>Online Video>Paid Search>Online Video\"],[\"Online Video>Paid Search>Online Display>Paid Search>Online Video>Online Display>Online Video\"],[\"Online Video>Paid Search>Online Video\"],[\"Online Video>Paid Search>Online Video>Facebook\"],[\"Online Video>Paid Search>Online Video>Facebook>Instagram>Online Video\"],[\"Online Video>Paid Search>Online Video>Facebook>Online Video\"],[\"Online Video>Paid Search>Online Video>Facebook>Online Video>Facebook>Online Video>Facebook\"],[\"Online Video>Paid Search>Online Video>Instagram>Paid Search\"],[\"Online Video>Paid Search>Online Video>Online Display>Online Video>Online Display>Online Video>Online Display>Online Video>Online Display\"],[\"Online Video>Paid Search>Online Video>Paid Search\"],[\"Online Video>Paid Search>Online Video>Paid Search>Online Video\"],[\"Online Video>Paid Search>Online Video>Paid Search>Online Video>Instagram>Online Video>Facebook>Paid Search>Online Display>Facebook>Online Video>Facebook\"],[\"Online Video>Paid Search>Online Video>Paid Search>Online Video>Paid Search\"],[\"Online Video>Paid Search>Online Video>Paid Search>Online Video>Paid Search>Online Video>Paid Search\"],[\"Paid Search\"],[\"Paid Search>Facebook\"],[\"Paid Search>Facebook>Instagram\"],[\"Paid Search>Facebook>Instagram>Facebook\"],[\"Paid Search>Facebook>Instagram>Facebook>Instagram\"],[\"Paid Search>Facebook>Instagram>Facebook>Instagram>Facebook\"],[\"Paid Search>Facebook>Instagram>Facebook>Instagram>Facebook>Instagram>Facebook>Instagram>Facebook>Instagram\"],[\"Paid Search>Facebook>Instagram>Facebook>Instagram>Facebook>Instagram>Facebook>Instagram>Facebook>Instagram>Facebook\"],[\"Paid Search>Facebook>Instagram>Facebook>Instagram>Facebook>Instagram>Facebook>Instagram>Paid Search>Facebook>Instagram>Facebook>Instagram>Facebook>Instagram>Facebook>Instagram>Facebook>Instagram>Facebook>Instagram>Facebook\"],[\"Paid Search>Facebook>Instagram>Facebook>Instagram>Facebook>Instagram>Paid Search>Facebook>Instagram>Facebook>Instagram>Facebook>Instagram>Facebook>Instagram\"],[\"Paid Search>Facebook>Instagram>Facebook>Instagram>Paid Search>Instagram>Facebook>Instagram>Facebook>Instagram>Facebook>Paid Search\"],[\"Paid Search>Facebook>Instagram>Facebook>Online Video>Facebook\"],[\"Paid Search>Facebook>Instagram>Facebook>Paid Search>Facebook>Instagram\"],[\"Paid Search>Facebook>Instagram>Online Video>Facebook\"],[\"Paid Search>Facebook>Online Display\"],[\"Paid Search>Facebook>Online Display>Facebook\"],[\"Paid Search>Facebook>Online Display>Instagram\"],[\"Paid Search>Facebook>Online Display>Instagram>Online Display>Facebook>Instagram\"],[\"Paid Search>Facebook>Online Display>Online Video\"],[\"Paid Search>Facebook>Online Display>Paid Search\"],[\"Paid Search>Facebook>Online Display>Paid Search>Online Display\"],[\"Paid Search>Facebook>Online Video\"],[\"Paid Search>Facebook>Online Video>Facebook\"],[\"Paid Search>Facebook>Online Video>Instagram\"],[\"Paid Search>Facebook>Online Video>Instagram>Paid Search\"],[\"Paid Search>Facebook>Online Video>Paid Search>Facebook>Online Video\"],[\"Paid Search>Facebook>Online Video>Paid Search>Instagram>Facebook>Online Video>Instagram>Facebook\"],[\"Paid Search>Facebook>Paid Search\"],[\"Paid Search>Facebook>Paid Search>Facebook\"],[\"Paid Search>Facebook>Paid Search>Facebook>Instagram\"],[\"Paid Search>Facebook>Paid Search>Facebook>Instagram>Facebook>Instagram\"],[\"Paid Search>Facebook>Paid Search>Facebook>Instagram>Online Display>Paid Search\"],[\"Paid Search>Facebook>Paid Search>Facebook>Instagram>Paid Search>Facebook>Paid Search>Online Video>Paid Search>Facebook>Instagram>Paid Search>Instagram>Facebook>Instagram>Paid Search>Facebook\"],[\"Paid Search>Facebook>Paid Search>Facebook>Paid Search\"],[\"Paid Search>Facebook>Paid Search>Facebook>Paid Search>Facebook>Instagram>Facebook\"],[\"Paid Search>Facebook>Paid Search>Instagram\"],[\"Paid Search>Facebook>Paid Search>Instagram>Facebook\"],[\"Paid Search>Facebook>Paid Search>Instagram>Facebook>Instagram>Facebook>Instagram>Facebook>Instagram>Facebook>Instagram\"],[\"Paid Search>Facebook>Paid Search>Instagram>Facebook>Instagram>Facebook>Instagram>Paid Search>Facebook\"],[\"Paid Search>Facebook>Paid Search>Instagram>Facebook>Instagram>Facebook>Online Display\"],[\"Paid Search>Facebook>Paid Search>Instagram>Facebook>Instagram>Paid Search>Instagram>Facebook>Instagram>Paid Search\"],[\"Paid Search>Facebook>Paid Search>Online Display\"],[\"Paid Search>Facebook>Paid Search>Online Display>Facebook\"],[\"Paid Search>Instagram\"],[\"Paid Search>Instagram>Facebook\"],[\"Paid Search>Instagram>Facebook>Instagram\"],[\"Paid Search>Instagram>Facebook>Instagram>Facebook\"],[\"Paid Search>Instagram>Facebook>Instagram>Facebook>Instagram\"],[\"Paid Search>Instagram>Facebook>Online Display>Facebook>Instagram>Facebook>Instagram>Facebook>Instagram\"],[\"Paid Search>Instagram>Facebook>Paid Search\"],[\"Paid Search>Instagram>Facebook>Paid Search>Online Display>Facebook>Online Display\"],[\"Paid Search>Instagram>Online Display\"],[\"Paid Search>Instagram>Online Video\"],[\"Paid Search>Instagram>Paid Search\"],[\"Paid Search>Instagram>Paid Search>Facebook>Instagram>Facebook\"],[\"Paid Search>Instagram>Paid Search>Instagram\"],[\"Paid Search>Instagram>Paid Search>Instagram>Facebook\"],[\"Paid Search>Instagram>Paid Search>Online Display\"],[\"Paid Search>Instagram>Paid Search>Online Display>Paid Search\"],[\"Paid Search>Online Display\"],[\"Paid Search>Online Display>Facebook\"],[\"Paid Search>Online Display>Facebook>Paid Search>Instagram>Facebook>Online Display>Facebook\"],[\"Paid Search>Online Display>Facebook>Paid Search>Online Display>Paid Search>Facebook\"],[\"Paid Search>Online Display>Instagram\"],[\"Paid Search>Online Display>Instagram>Facebook\"],[\"Paid Search>Online Display>Instagram>Facebook>Instagram>Facebook>Instagram>Facebook\"],[\"Paid Search>Online Display>Instagram>Facebook>Instagram>Facebook>Online Display>Facebook>Paid Search>Online Display>Paid Search>Facebook>Paid Search>Instagram>Facebook>Online Display>Paid Search\"],[\"Paid Search>Online Display>Instagram>Online Display\"],[\"Paid Search>Online Display>Online Video>Paid Search\"],[\"Paid Search>Online Display>Paid Search\"],[\"Paid Search>Online Display>Paid Search>Facebook>Instagram>Facebook>Online Display>Facebook>Instagram>Facebook>Instagram>Facebook\"],[\"Paid Search>Online Display>Paid Search>Online Display\"],[\"Paid Search>Online Display>Paid Search>Online Display>Facebook>Online Display>Paid Search\"],[\"Paid Search>Online Display>Paid Search>Online Display>Instagram\"],[\"Paid Search>Online Display>Paid Search>Online Display>Online Video\"],[\"Paid Search>Online Display>Paid Search>Online Display>Paid Search\"],[\"Paid Search>Online Display>Paid Search>Online Video\"],[\"Paid Search>Online Video\"],[\"Paid Search>Online Video>Facebook\"],[\"Paid Search>Online Video>Facebook>Online Video\"],[\"Paid Search>Online Video>Facebook>Online Video>Facebook>Online Video>Facebook>Instagram>Facebook>Instagram>Facebook>Instagram\"],[\"Paid Search>Online Video>Facebook>Paid Search\"],[\"Paid Search>Online Video>Instagram\"],[\"Paid Search>Online Video>Instagram>Facebook>Instagram>Facebook>Online Video\"],[\"Paid Search>Online Video>Online Display\"],[\"Paid Search>Online Video>Paid Search\"],[\"Paid Search>Online Video>Paid Search>Facebook>Online Video\"],[\"Paid Search>Online Video>Paid Search>Online Video\"],[\"Paid Search>Online Video>Paid Search>Online Video>Paid Search\"]],\"hovertemplate\":\"path_count=%{x}<br>conversion=%{y}<br>conversion_rate=%{marker.color}<br>path=%{customdata[0]}<extra></extra>\",\"legendgroup\":\"\",\"marker\":{\"color\":[0.0655351374251972,0.0684701939190806,0.0564186426819296,0.0993031358885017,0.0736086175942549,0.0774193548387096,0.080188679245283,0.2285714285714285,0.1318681318681318,0.2,0.0338983050847457,0.0909090909090909,0.0384615384615384,0.25,0.1,0.2,0.1818181818181818,0.2,0.3333333333333333,1.0,1.0,1.0,1.0,0.5,0.25,1.0,1.0,0.25,0.2,0.1428571428571428,1.0,0.25,0.5,0.0666666666666666,1.0,1.0,0.5,1.0,1.0,1.0,1.0,0.5,1.0,0.0416666666666666,0.1666666666666666,1.0,0.064516129032258,0.1428571428571428,1.0,1.0,0.0606060606060606,0.0263157894736842,0.1666666666666666,0.1666666666666666,1.0,0.1111111111111111,0.3333333333333333,0.5,1.0,1.0,0.0806451612903225,0.0526315789473684,1.0,0.125,1.0,1.0,0.0617283950617283,0.5,0.5,1.0,1.0,1.0,0.072992700729927,0.0303030303030303,1.0,1.0,1.0,0.6666666666666666,0.2,1.0,1.0,0.25,0.0542521994134897,0.0129870129870129,0.1428571428571428,0.25,0.6666666666666666,0.3333333333333333,0.05,1.0,1.0,0.0625,0.3333333333333333,0.1333333333333333,1.0,1.0,0.0769230769230769,1.0,0.0502577319587628,0.0698924731182795,0.04,1.0,1.0,1.0,0.2857142857142857,0.025,0.5,1.0,0.3333333333333333,1.0,1.0,0.2,0.1578947368421052,0.0416666666666666,0.2,0.0833333333333333,0.25,0.1538461538461538,0.09375,1.0,0.1176470588235294,1.0,0.3333333333333333,0.0444596443228454,0.0641975308641975,0.015625,0.0697674418604651,0.1111111111111111,0.5,1.0,1.0,1.0,1.0,1.0,0.2,1.0,0.1666666666666666,0.1666666666666666,1.0,1.0,1.0,0.0448717948717948,0.0238095238095238,0.0769230769230769,0.5,1.0,1.0,0.25,0.4,0.3333333333333333,0.0151515151515151,0.125,1.0,0.25,1.0,0.2142857142857142,1.0,0.0638297872340425,0.3333333333333333,0.2,0.0602189781021897,0.0497165991902834,0.0929602888086642,0.079702444208289,0.1038961038961039,0.0785714285714285,0.2150537634408602,0.0666666666666666,0.1794871794871795,0.125,0.2272727272727272,0.0789473684210526,0.1111111111111111,0.1666666666666666,0.5,0.1666666666666666,0.5,0.3333333333333333,1.0,1.0,1.0,1.0,1.0,1.0,0.5,1.0,0.1666666666666666,1.0,1.0,1.0,0.5,0.25,1.0,0.5,0.2222222222222222,1.0,0.0666666666666666,0.1,0.2,0.3333333333333333,1.0,1.0,0.3333333333333333,0.3333333333333333,1.0,0.1428571428571428,1.0,1.0,0.1578947368421052,1.0,1.0,1.0,0.0808080808080808,0.1052631578947368,0.1666666666666666,0.1428571428571428,0.5,1.0,0.2,0.1071428571428571,0.1,0.1,0.6666666666666666,0.3333333333333333,1.0,0.0864864864864864,0.0769230769230769,0.0769230769230769,0.1,0.5,0.1666666666666666,1.0,0.125,1.0,0.0416666666666666,0.1111111111111111,1.0,1.0,0.1666666666666666,1.0,1.0,0.037037037037037,0.0909090909090909,0.2,1.0,0.5,0.125,0.3333333333333333,1.0,1.0,0.0629722921914357,0.064516129032258,1.0,0.3333333333333333,0.5,1.0,0.0526315789473684,1.0,1.0,0.25,0.1818181818181818,0.5,0.5,0.057057057057057,0.0769230769230769,0.0416666666666666,0.0526315789473684,0.1666666666666666,1.0,1.0,0.25,0.3333333333333333,0.5,0.1666666666666666,0.0909090909090909,0.5,0.0597014925373134,0.048780487804878,1.0,1.0,1.0,1.0,0.1666666666666666,1.0,0.5,0.0416666666666666,0.3333333333333333,0.0470441623179375,0.041860465116279,0.1212121212121212,0.1,1.0,1.0,1.0,0.25,1.0,1.0,0.0526315789473684,1.0,1.0,1.0,0.4,0.0380434782608695,0.1666666666666666,0.5,1.0,0.0454545454545454,0.5,0.0652173913043478,0.0769230769230769,1.0,0.5,0.2,0.5,1.0,0.0530973451327433,0.0566037735849056,0.1,1.0,0.3333333333333333,1.0,0.4,1.0,0.0735294117647058,0.0454545454545454,0.2,0.0465116279069767,0.0666666666666666,1.0,0.25,1.0,0.6666666666666666,0.3333333333333333,0.0806451612903225,0.25,0.125,0.0588235294117647,0.0512249443207126,0.0549450549450549,0.25,0.0555555555555555,1.0,0.3333333333333333,1.0,0.0571428571428571,1.0,1.0,1.0,0.1428571428571428,1.0,0.0428994082840236,0.2,0.1,1.0,0.5,1.0,1.0,1.0,0.040650406504065,1.0,0.0512820512820512,1.0,0.0714285714285714,0.1176470588235294,1.0,0.25,0.0498620194306883,0.0503211991434689,0.074074074074074,0.0588235294117647,0.2,0.3333333333333333,1.0,1.0,1.0,1.0,0.05,0.1111111111111111,1.0,1.0,0.1111111111111111,1.0,0.0544871794871794,0.048780487804878,0.2857142857142857,0.1379310344827586,0.1666666666666666,0.3333333333333333,0.5,0.1034482758620689,0.0909090909090909,0.25,0.5,0.3333333333333333,1.0,0.1333333333333333,1.0,1.0,1.0,0.0773638968481375,0.0612244897959183,1.0,1.0,0.0769230769230769,0.2,0.5,0.1428571428571428,0.112,0.1739130434782608,1.0,1.0,0.0769230769230769,0.5,1.0,0.1111111111111111,1.0,1.0,1.0,0.125,1.0,1.0,0.0536912751677852,0.0769230769230769,0.3333333333333333,1.0,0.02803738317757,0.4,1.0,0.6,0.1428571428571428,0.0588972431077694,0.1142857142857142,0.125,1.0,1.0,1.0,0.0474934036939313,0.1428571428571428,0.5,0.0909090909090909,1.0,1.0,1.0,0.0681818181818181,0.1470588235294117,1.0,0.125,0.5,0.0605684993382213,0.0448215839860748,0.0456140350877193,0.062111801242236,0.0416666666666666,0.125,1.0,0.5,1.0,1.0,1.0,0.3333333333333333,1.0,0.5,0.0491803278688524,0.1111111111111111,0.25,1.0,0.5,0.1428571428571428,0.2,0.0377358490566037,0.125,0.3333333333333333,0.5,1.0,1.0,0.0636363636363636,0.0843373493975903,0.0909090909090909,0.5,1.0,1.0,0.1818181818181818,1.0,0.0869565217391304,0.1538461538461538,1.0,1.0,1.0,1.0,0.0769230769230769,0.3333333333333333,0.046594982078853,0.0528169014084507,0.1020408163265306,0.0909090909090909,0.1818181818181818,1.0,0.0434782608695652,1.0,0.0833333333333333,0.1111111111111111,0.0875,0.5,0.1875,0.2,0.1666666666666666,1.0,0.0486680327868852,0.0294117647058823,1.0,1.0,0.027027027027027,0.1111111111111111,0.5,1.0,0.1428571428571428,0.2,0.0664739884393063,1.0,0.053030303030303,1.0,0.5,0.5,0.0606060606060606,0.25,0.0375426621160409,0.0533333333333333,0.0714285714285714,1.0,0.5,0.0625,1.0,0.0454545454545454,0.032520325203252,1.0,0.0394736842105263,0.0909090909090909],\"coloraxis\":\"coloraxis\",\"size\":[0.0655351374251972,0.0684701939190806,0.0564186426819296,0.0993031358885017,0.0736086175942549,0.0774193548387096,0.080188679245283,0.2285714285714285,0.1318681318681318,0.2,0.0338983050847457,0.0909090909090909,0.0384615384615384,0.25,0.1,0.2,0.1818181818181818,0.2,0.3333333333333333,1.0,1.0,1.0,1.0,0.5,0.25,1.0,1.0,0.25,0.2,0.1428571428571428,1.0,0.25,0.5,0.0666666666666666,1.0,1.0,0.5,1.0,1.0,1.0,1.0,0.5,1.0,0.0416666666666666,0.1666666666666666,1.0,0.064516129032258,0.1428571428571428,1.0,1.0,0.0606060606060606,0.0263157894736842,0.1666666666666666,0.1666666666666666,1.0,0.1111111111111111,0.3333333333333333,0.5,1.0,1.0,0.0806451612903225,0.0526315789473684,1.0,0.125,1.0,1.0,0.0617283950617283,0.5,0.5,1.0,1.0,1.0,0.072992700729927,0.0303030303030303,1.0,1.0,1.0,0.6666666666666666,0.2,1.0,1.0,0.25,0.0542521994134897,0.0129870129870129,0.1428571428571428,0.25,0.6666666666666666,0.3333333333333333,0.05,1.0,1.0,0.0625,0.3333333333333333,0.1333333333333333,1.0,1.0,0.0769230769230769,1.0,0.0502577319587628,0.0698924731182795,0.04,1.0,1.0,1.0,0.2857142857142857,0.025,0.5,1.0,0.3333333333333333,1.0,1.0,0.2,0.1578947368421052,0.0416666666666666,0.2,0.0833333333333333,0.25,0.1538461538461538,0.09375,1.0,0.1176470588235294,1.0,0.3333333333333333,0.0444596443228454,0.0641975308641975,0.015625,0.0697674418604651,0.1111111111111111,0.5,1.0,1.0,1.0,1.0,1.0,0.2,1.0,0.1666666666666666,0.1666666666666666,1.0,1.0,1.0,0.0448717948717948,0.0238095238095238,0.0769230769230769,0.5,1.0,1.0,0.25,0.4,0.3333333333333333,0.0151515151515151,0.125,1.0,0.25,1.0,0.2142857142857142,1.0,0.0638297872340425,0.3333333333333333,0.2,0.0602189781021897,0.0497165991902834,0.0929602888086642,0.079702444208289,0.1038961038961039,0.0785714285714285,0.2150537634408602,0.0666666666666666,0.1794871794871795,0.125,0.2272727272727272,0.0789473684210526,0.1111111111111111,0.1666666666666666,0.5,0.1666666666666666,0.5,0.3333333333333333,1.0,1.0,1.0,1.0,1.0,1.0,0.5,1.0,0.1666666666666666,1.0,1.0,1.0,0.5,0.25,1.0,0.5,0.2222222222222222,1.0,0.0666666666666666,0.1,0.2,0.3333333333333333,1.0,1.0,0.3333333333333333,0.3333333333333333,1.0,0.1428571428571428,1.0,1.0,0.1578947368421052,1.0,1.0,1.0,0.0808080808080808,0.1052631578947368,0.1666666666666666,0.1428571428571428,0.5,1.0,0.2,0.1071428571428571,0.1,0.1,0.6666666666666666,0.3333333333333333,1.0,0.0864864864864864,0.0769230769230769,0.0769230769230769,0.1,0.5,0.1666666666666666,1.0,0.125,1.0,0.0416666666666666,0.1111111111111111,1.0,1.0,0.1666666666666666,1.0,1.0,0.037037037037037,0.0909090909090909,0.2,1.0,0.5,0.125,0.3333333333333333,1.0,1.0,0.0629722921914357,0.064516129032258,1.0,0.3333333333333333,0.5,1.0,0.0526315789473684,1.0,1.0,0.25,0.1818181818181818,0.5,0.5,0.057057057057057,0.0769230769230769,0.0416666666666666,0.0526315789473684,0.1666666666666666,1.0,1.0,0.25,0.3333333333333333,0.5,0.1666666666666666,0.0909090909090909,0.5,0.0597014925373134,0.048780487804878,1.0,1.0,1.0,1.0,0.1666666666666666,1.0,0.5,0.0416666666666666,0.3333333333333333,0.0470441623179375,0.041860465116279,0.1212121212121212,0.1,1.0,1.0,1.0,0.25,1.0,1.0,0.0526315789473684,1.0,1.0,1.0,0.4,0.0380434782608695,0.1666666666666666,0.5,1.0,0.0454545454545454,0.5,0.0652173913043478,0.0769230769230769,1.0,0.5,0.2,0.5,1.0,0.0530973451327433,0.0566037735849056,0.1,1.0,0.3333333333333333,1.0,0.4,1.0,0.0735294117647058,0.0454545454545454,0.2,0.0465116279069767,0.0666666666666666,1.0,0.25,1.0,0.6666666666666666,0.3333333333333333,0.0806451612903225,0.25,0.125,0.0588235294117647,0.0512249443207126,0.0549450549450549,0.25,0.0555555555555555,1.0,0.3333333333333333,1.0,0.0571428571428571,1.0,1.0,1.0,0.1428571428571428,1.0,0.0428994082840236,0.2,0.1,1.0,0.5,1.0,1.0,1.0,0.040650406504065,1.0,0.0512820512820512,1.0,0.0714285714285714,0.1176470588235294,1.0,0.25,0.0498620194306883,0.0503211991434689,0.074074074074074,0.0588235294117647,0.2,0.3333333333333333,1.0,1.0,1.0,1.0,0.05,0.1111111111111111,1.0,1.0,0.1111111111111111,1.0,0.0544871794871794,0.048780487804878,0.2857142857142857,0.1379310344827586,0.1666666666666666,0.3333333333333333,0.5,0.1034482758620689,0.0909090909090909,0.25,0.5,0.3333333333333333,1.0,0.1333333333333333,1.0,1.0,1.0,0.0773638968481375,0.0612244897959183,1.0,1.0,0.0769230769230769,0.2,0.5,0.1428571428571428,0.112,0.1739130434782608,1.0,1.0,0.0769230769230769,0.5,1.0,0.1111111111111111,1.0,1.0,1.0,0.125,1.0,1.0,0.0536912751677852,0.0769230769230769,0.3333333333333333,1.0,0.02803738317757,0.4,1.0,0.6,0.1428571428571428,0.0588972431077694,0.1142857142857142,0.125,1.0,1.0,1.0,0.0474934036939313,0.1428571428571428,0.5,0.0909090909090909,1.0,1.0,1.0,0.0681818181818181,0.1470588235294117,1.0,0.125,0.5,0.0605684993382213,0.0448215839860748,0.0456140350877193,0.062111801242236,0.0416666666666666,0.125,1.0,0.5,1.0,1.0,1.0,0.3333333333333333,1.0,0.5,0.0491803278688524,0.1111111111111111,0.25,1.0,0.5,0.1428571428571428,0.2,0.0377358490566037,0.125,0.3333333333333333,0.5,1.0,1.0,0.0636363636363636,0.0843373493975903,0.0909090909090909,0.5,1.0,1.0,0.1818181818181818,1.0,0.0869565217391304,0.1538461538461538,1.0,1.0,1.0,1.0,0.0769230769230769,0.3333333333333333,0.046594982078853,0.0528169014084507,0.1020408163265306,0.0909090909090909,0.1818181818181818,1.0,0.0434782608695652,1.0,0.0833333333333333,0.1111111111111111,0.0875,0.5,0.1875,0.2,0.1666666666666666,1.0,0.0486680327868852,0.0294117647058823,1.0,1.0,0.027027027027027,0.1111111111111111,0.5,1.0,0.1428571428571428,0.2,0.0664739884393063,1.0,0.053030303030303,1.0,0.5,0.5,0.0606060606060606,0.25,0.0375426621160409,0.0533333333333333,0.0714285714285714,1.0,0.5,0.0625,1.0,0.0454545454545454,0.032520325203252,1.0,0.0394736842105263,0.0909090909090909],\"sizemode\":\"area\",\"sizeref\":0.0025,\"symbol\":\"circle\"},\"mode\":\"markers\",\"name\":\"\",\"orientation\":\"v\",\"showlegend\":false,\"x\":[37766,4177,2446,574,557,155,212,70,91,35,59,22,26,8,10,5,11,5,3,1,1,1,1,2,4,1,1,4,5,7,1,4,2,15,1,1,2,1,1,1,1,2,1,24,6,1,31,14,1,1,66,38,6,6,1,9,3,2,1,1,62,19,1,8,1,1,81,2,2,1,1,1,137,66,1,1,1,3,15,1,1,4,682,154,14,4,3,3,20,1,1,48,3,15,1,1,52,1,776,186,25,1,1,1,7,40,2,1,3,1,1,5,38,24,5,12,4,13,32,1,17,1,3,1462,405,64,43,9,2,1,1,1,1,1,5,1,6,18,1,1,1,156,84,13,2,1,1,4,5,6,66,8,1,4,1,14,1,47,3,5,18084,6175,1108,941,231,280,93,105,39,56,22,38,9,6,2,6,2,3,1,1,1,1,1,1,2,1,6,1,1,1,2,4,1,4,9,1,15,10,5,3,1,1,3,3,1,7,1,1,19,1,1,1,99,38,6,7,2,1,5,112,10,10,3,3,1,185,78,13,20,2,6,1,8,1,312,72,1,1,6,1,1,27,11,5,1,2,24,3,1,1,397,93,1,3,2,1,19,1,1,4,11,2,2,666,169,24,19,6,1,1,4,3,2,12,11,2,67,41,1,1,1,1,6,1,2,24,3,25678,860,99,40,1,1,1,4,1,1,19,1,1,1,5,184,6,2,1,22,2,46,13,1,2,5,2,1,339,106,20,1,3,1,5,1,68,22,5,344,15,1,4,1,3,3,62,4,8,17,1796,91,8,18,1,3,1,35,2,1,1,7,1,676,5,10,1,2,1,1,1,123,1,78,1,14,34,1,4,26453,934,108,34,5,3,1,1,1,1,20,9,1,1,9,1,312,41,7,29,6,3,2,29,11,8,2,6,1,30,1,1,1,349,98,1,1,26,5,2,7,125,23,1,1,13,2,1,9,1,1,1,8,1,1,298,13,3,1,107,5,1,5,7,798,35,8,1,1,1,379,21,2,11,1,1,1,44,34,1,8,4,47599,2298,285,161,24,24,1,2,1,1,1,3,1,2,61,18,4,1,2,7,5,53,8,3,2,1,1,220,83,11,2,1,1,11,1,23,13,1,1,1,1,13,3,837,284,49,33,11,1,23,1,24,18,80,4,16,5,6,1,1952,102,1,1,37,9,2,1,7,5,346,1,132,1,2,2,33,4,1172,75,14,1,2,16,1,22,123,1,76,11],\"xaxis\":\"x\",\"y\":[2475,286,138,57,41,12,17,16,12,7,2,2,1,2,1,1,2,1,1,1,1,1,1,1,1,1,1,1,1,1,1,1,1,1,1,1,1,1,1,1,1,1,1,1,1,1,2,2,1,1,4,1,1,1,1,1,1,1,1,1,5,1,1,1,1,1,5,1,1,1,1,1,10,2,1,1,1,2,3,1,1,1,37,2,2,1,2,1,1,1,1,3,1,2,1,1,4,1,39,13,1,1,1,1,2,1,1,1,1,1,1,1,6,1,1,1,1,2,3,1,2,1,1,65,26,1,3,1,1,1,1,1,1,1,1,1,1,3,1,1,1,7,2,1,1,1,1,1,2,2,1,1,1,1,1,3,1,3,1,1,1089,307,103,75,24,22,20,7,7,7,5,3,1,1,1,1,1,1,1,1,1,1,1,1,1,1,1,1,1,1,1,1,1,2,2,1,1,1,1,1,1,1,1,1,1,1,1,1,3,1,1,1,8,4,1,1,1,1,1,12,1,1,2,1,1,16,6,1,2,1,1,1,1,1,13,8,1,1,1,1,1,1,1,1,1,1,3,1,1,1,25,6,1,1,1,1,1,1,1,1,2,1,1,38,13,1,1,1,1,1,1,1,1,2,1,1,4,2,1,1,1,1,1,1,1,1,1,1208,36,12,4,1,1,1,1,1,1,1,1,1,1,2,7,1,1,1,1,1,3,1,1,1,1,1,1,18,6,2,1,1,1,2,1,5,1,1,16,1,1,1,1,2,1,5,1,1,1,92,5,2,1,1,1,1,2,2,1,1,1,1,29,1,1,1,1,1,1,1,5,1,4,1,1,4,1,1,1319,47,8,2,1,1,1,1,1,1,1,1,1,1,1,1,17,2,2,4,1,1,1,3,1,2,1,2,1,4,1,1,1,27,6,1,1,2,1,1,1,14,4,1,1,1,1,1,1,1,1,1,1,1,1,16,1,1,1,3,2,1,3,1,47,4,1,1,1,1,18,3,1,1,1,1,1,3,5,1,1,2,2883,103,13,10,1,3,1,1,1,1,1,1,1,1,3,2,1,1,1,1,1,2,1,1,1,1,1,14,7,1,1,1,1,2,1,2,2,1,1,1,1,1,1,39,15,5,3,2,1,1,1,2,2,7,2,3,1,1,1,95,3,1,1,1,1,1,1,1,1,23,1,7,1,1,1,2,1,44,4,1,1,1,1,1,1,4,1,3,1],\"yaxis\":\"y\",\"type\":\"scatter\"}],                        {\"template\":{\"data\":{\"barpolar\":[{\"marker\":{\"line\":{\"color\":\"white\",\"width\":0.5},\"pattern\":{\"fillmode\":\"overlay\",\"size\":10,\"solidity\":0.2}},\"type\":\"barpolar\"}],\"bar\":[{\"error_x\":{\"color\":\"#2a3f5f\"},\"error_y\":{\"color\":\"#2a3f5f\"},\"marker\":{\"line\":{\"color\":\"white\",\"width\":0.5},\"pattern\":{\"fillmode\":\"overlay\",\"size\":10,\"solidity\":0.2}},\"type\":\"bar\"}],\"carpet\":[{\"aaxis\":{\"endlinecolor\":\"#2a3f5f\",\"gridcolor\":\"#C8D4E3\",\"linecolor\":\"#C8D4E3\",\"minorgridcolor\":\"#C8D4E3\",\"startlinecolor\":\"#2a3f5f\"},\"baxis\":{\"endlinecolor\":\"#2a3f5f\",\"gridcolor\":\"#C8D4E3\",\"linecolor\":\"#C8D4E3\",\"minorgridcolor\":\"#C8D4E3\",\"startlinecolor\":\"#2a3f5f\"},\"type\":\"carpet\"}],\"choropleth\":[{\"colorbar\":{\"outlinewidth\":0,\"ticks\":\"\"},\"type\":\"choropleth\"}],\"contourcarpet\":[{\"colorbar\":{\"outlinewidth\":0,\"ticks\":\"\"},\"type\":\"contourcarpet\"}],\"contour\":[{\"colorbar\":{\"outlinewidth\":0,\"ticks\":\"\"},\"colorscale\":[[0.0,\"#0d0887\"],[0.1111111111111111,\"#46039f\"],[0.2222222222222222,\"#7201a8\"],[0.3333333333333333,\"#9c179e\"],[0.4444444444444444,\"#bd3786\"],[0.5555555555555556,\"#d8576b\"],[0.6666666666666666,\"#ed7953\"],[0.7777777777777778,\"#fb9f3a\"],[0.8888888888888888,\"#fdca26\"],[1.0,\"#f0f921\"]],\"type\":\"contour\"}],\"heatmapgl\":[{\"colorbar\":{\"outlinewidth\":0,\"ticks\":\"\"},\"colorscale\":[[0.0,\"#0d0887\"],[0.1111111111111111,\"#46039f\"],[0.2222222222222222,\"#7201a8\"],[0.3333333333333333,\"#9c179e\"],[0.4444444444444444,\"#bd3786\"],[0.5555555555555556,\"#d8576b\"],[0.6666666666666666,\"#ed7953\"],[0.7777777777777778,\"#fb9f3a\"],[0.8888888888888888,\"#fdca26\"],[1.0,\"#f0f921\"]],\"type\":\"heatmapgl\"}],\"heatmap\":[{\"colorbar\":{\"outlinewidth\":0,\"ticks\":\"\"},\"colorscale\":[[0.0,\"#0d0887\"],[0.1111111111111111,\"#46039f\"],[0.2222222222222222,\"#7201a8\"],[0.3333333333333333,\"#9c179e\"],[0.4444444444444444,\"#bd3786\"],[0.5555555555555556,\"#d8576b\"],[0.6666666666666666,\"#ed7953\"],[0.7777777777777778,\"#fb9f3a\"],[0.8888888888888888,\"#fdca26\"],[1.0,\"#f0f921\"]],\"type\":\"heatmap\"}],\"histogram2dcontour\":[{\"colorbar\":{\"outlinewidth\":0,\"ticks\":\"\"},\"colorscale\":[[0.0,\"#0d0887\"],[0.1111111111111111,\"#46039f\"],[0.2222222222222222,\"#7201a8\"],[0.3333333333333333,\"#9c179e\"],[0.4444444444444444,\"#bd3786\"],[0.5555555555555556,\"#d8576b\"],[0.6666666666666666,\"#ed7953\"],[0.7777777777777778,\"#fb9f3a\"],[0.8888888888888888,\"#fdca26\"],[1.0,\"#f0f921\"]],\"type\":\"histogram2dcontour\"}],\"histogram2d\":[{\"colorbar\":{\"outlinewidth\":0,\"ticks\":\"\"},\"colorscale\":[[0.0,\"#0d0887\"],[0.1111111111111111,\"#46039f\"],[0.2222222222222222,\"#7201a8\"],[0.3333333333333333,\"#9c179e\"],[0.4444444444444444,\"#bd3786\"],[0.5555555555555556,\"#d8576b\"],[0.6666666666666666,\"#ed7953\"],[0.7777777777777778,\"#fb9f3a\"],[0.8888888888888888,\"#fdca26\"],[1.0,\"#f0f921\"]],\"type\":\"histogram2d\"}],\"histogram\":[{\"marker\":{\"pattern\":{\"fillmode\":\"overlay\",\"size\":10,\"solidity\":0.2}},\"type\":\"histogram\"}],\"mesh3d\":[{\"colorbar\":{\"outlinewidth\":0,\"ticks\":\"\"},\"type\":\"mesh3d\"}],\"parcoords\":[{\"line\":{\"colorbar\":{\"outlinewidth\":0,\"ticks\":\"\"}},\"type\":\"parcoords\"}],\"pie\":[{\"automargin\":true,\"type\":\"pie\"}],\"scatter3d\":[{\"line\":{\"colorbar\":{\"outlinewidth\":0,\"ticks\":\"\"}},\"marker\":{\"colorbar\":{\"outlinewidth\":0,\"ticks\":\"\"}},\"type\":\"scatter3d\"}],\"scattercarpet\":[{\"marker\":{\"colorbar\":{\"outlinewidth\":0,\"ticks\":\"\"}},\"type\":\"scattercarpet\"}],\"scattergeo\":[{\"marker\":{\"colorbar\":{\"outlinewidth\":0,\"ticks\":\"\"}},\"type\":\"scattergeo\"}],\"scattergl\":[{\"marker\":{\"colorbar\":{\"outlinewidth\":0,\"ticks\":\"\"}},\"type\":\"scattergl\"}],\"scattermapbox\":[{\"marker\":{\"colorbar\":{\"outlinewidth\":0,\"ticks\":\"\"}},\"type\":\"scattermapbox\"}],\"scatterpolargl\":[{\"marker\":{\"colorbar\":{\"outlinewidth\":0,\"ticks\":\"\"}},\"type\":\"scatterpolargl\"}],\"scatterpolar\":[{\"marker\":{\"colorbar\":{\"outlinewidth\":0,\"ticks\":\"\"}},\"type\":\"scatterpolar\"}],\"scatter\":[{\"fillpattern\":{\"fillmode\":\"overlay\",\"size\":10,\"solidity\":0.2},\"type\":\"scatter\"}],\"scatterternary\":[{\"marker\":{\"colorbar\":{\"outlinewidth\":0,\"ticks\":\"\"}},\"type\":\"scatterternary\"}],\"surface\":[{\"colorbar\":{\"outlinewidth\":0,\"ticks\":\"\"},\"colorscale\":[[0.0,\"#0d0887\"],[0.1111111111111111,\"#46039f\"],[0.2222222222222222,\"#7201a8\"],[0.3333333333333333,\"#9c179e\"],[0.4444444444444444,\"#bd3786\"],[0.5555555555555556,\"#d8576b\"],[0.6666666666666666,\"#ed7953\"],[0.7777777777777778,\"#fb9f3a\"],[0.8888888888888888,\"#fdca26\"],[1.0,\"#f0f921\"]],\"type\":\"surface\"}],\"table\":[{\"cells\":{\"fill\":{\"color\":\"#EBF0F8\"},\"line\":{\"color\":\"white\"}},\"header\":{\"fill\":{\"color\":\"#C8D4E3\"},\"line\":{\"color\":\"white\"}},\"type\":\"table\"}]},\"layout\":{\"annotationdefaults\":{\"arrowcolor\":\"#2a3f5f\",\"arrowhead\":0,\"arrowwidth\":1},\"autotypenumbers\":\"strict\",\"coloraxis\":{\"colorbar\":{\"outlinewidth\":0,\"ticks\":\"\"}},\"colorscale\":{\"diverging\":[[0,\"#8e0152\"],[0.1,\"#c51b7d\"],[0.2,\"#de77ae\"],[0.3,\"#f1b6da\"],[0.4,\"#fde0ef\"],[0.5,\"#f7f7f7\"],[0.6,\"#e6f5d0\"],[0.7,\"#b8e186\"],[0.8,\"#7fbc41\"],[0.9,\"#4d9221\"],[1,\"#276419\"]],\"sequential\":[[0.0,\"#0d0887\"],[0.1111111111111111,\"#46039f\"],[0.2222222222222222,\"#7201a8\"],[0.3333333333333333,\"#9c179e\"],[0.4444444444444444,\"#bd3786\"],[0.5555555555555556,\"#d8576b\"],[0.6666666666666666,\"#ed7953\"],[0.7777777777777778,\"#fb9f3a\"],[0.8888888888888888,\"#fdca26\"],[1.0,\"#f0f921\"]],\"sequentialminus\":[[0.0,\"#0d0887\"],[0.1111111111111111,\"#46039f\"],[0.2222222222222222,\"#7201a8\"],[0.3333333333333333,\"#9c179e\"],[0.4444444444444444,\"#bd3786\"],[0.5555555555555556,\"#d8576b\"],[0.6666666666666666,\"#ed7953\"],[0.7777777777777778,\"#fb9f3a\"],[0.8888888888888888,\"#fdca26\"],[1.0,\"#f0f921\"]]},\"colorway\":[\"#636efa\",\"#EF553B\",\"#00cc96\",\"#ab63fa\",\"#FFA15A\",\"#19d3f3\",\"#FF6692\",\"#B6E880\",\"#FF97FF\",\"#FECB52\"],\"font\":{\"color\":\"#2a3f5f\"},\"geo\":{\"bgcolor\":\"white\",\"lakecolor\":\"white\",\"landcolor\":\"white\",\"showlakes\":true,\"showland\":true,\"subunitcolor\":\"#C8D4E3\"},\"hoverlabel\":{\"align\":\"left\"},\"hovermode\":\"closest\",\"mapbox\":{\"style\":\"light\"},\"paper_bgcolor\":\"white\",\"plot_bgcolor\":\"white\",\"polar\":{\"angularaxis\":{\"gridcolor\":\"#EBF0F8\",\"linecolor\":\"#EBF0F8\",\"ticks\":\"\"},\"bgcolor\":\"white\",\"radialaxis\":{\"gridcolor\":\"#EBF0F8\",\"linecolor\":\"#EBF0F8\",\"ticks\":\"\"}},\"scene\":{\"xaxis\":{\"backgroundcolor\":\"white\",\"gridcolor\":\"#DFE8F3\",\"gridwidth\":2,\"linecolor\":\"#EBF0F8\",\"showbackground\":true,\"ticks\":\"\",\"zerolinecolor\":\"#EBF0F8\"},\"yaxis\":{\"backgroundcolor\":\"white\",\"gridcolor\":\"#DFE8F3\",\"gridwidth\":2,\"linecolor\":\"#EBF0F8\",\"showbackground\":true,\"ticks\":\"\",\"zerolinecolor\":\"#EBF0F8\"},\"zaxis\":{\"backgroundcolor\":\"white\",\"gridcolor\":\"#DFE8F3\",\"gridwidth\":2,\"linecolor\":\"#EBF0F8\",\"showbackground\":true,\"ticks\":\"\",\"zerolinecolor\":\"#EBF0F8\"}},\"shapedefaults\":{\"line\":{\"color\":\"#2a3f5f\"}},\"ternary\":{\"aaxis\":{\"gridcolor\":\"#DFE8F3\",\"linecolor\":\"#A2B1C6\",\"ticks\":\"\"},\"baxis\":{\"gridcolor\":\"#DFE8F3\",\"linecolor\":\"#A2B1C6\",\"ticks\":\"\"},\"bgcolor\":\"white\",\"caxis\":{\"gridcolor\":\"#DFE8F3\",\"linecolor\":\"#A2B1C6\",\"ticks\":\"\"}},\"title\":{\"x\":0.05},\"xaxis\":{\"automargin\":true,\"gridcolor\":\"#EBF0F8\",\"linecolor\":\"#EBF0F8\",\"ticks\":\"\",\"title\":{\"standoff\":15},\"zerolinecolor\":\"#EBF0F8\",\"zerolinewidth\":2},\"yaxis\":{\"automargin\":true,\"gridcolor\":\"#EBF0F8\",\"linecolor\":\"#EBF0F8\",\"ticks\":\"\",\"title\":{\"standoff\":15},\"zerolinecolor\":\"#EBF0F8\",\"zerolinewidth\":2}}},\"xaxis\":{\"anchor\":\"y\",\"domain\":[0.0,1.0],\"title\":{\"text\":\"Number of Paths\"},\"type\":\"log\"},\"yaxis\":{\"anchor\":\"x\",\"domain\":[0.0,1.0],\"title\":{\"text\":\"Number of Conversions\"},\"type\":\"log\"},\"coloraxis\":{\"colorbar\":{\"title\":{\"text\":\"Rate\"}},\"colorscale\":[[0.0,\"#0d0887\"],[0.1111111111111111,\"#46039f\"],[0.2222222222222222,\"#7201a8\"],[0.3333333333333333,\"#9c179e\"],[0.4444444444444444,\"#bd3786\"],[0.5555555555555556,\"#d8576b\"],[0.6666666666666666,\"#ed7953\"],[0.7777777777777778,\"#fb9f3a\"],[0.8888888888888888,\"#fdca26\"],[1.0,\"#f0f921\"]]},\"legend\":{\"tracegroupgap\":0,\"itemsizing\":\"constant\"},\"margin\":{\"t\":60},\"plot_bgcolor\":\"white\",\"paper_bgcolor\":\"white\",\"height\":100,\"width\":100},                        {\"responsive\": true}                    ).then(function(){\n",
       "                            \n",
       "var gd = document.getElementById('376e384d-7173-4c77-baab-14e372abbf16');\n",
       "var x = new MutationObserver(function (mutations, observer) {{\n",
       "        var display = window.getComputedStyle(gd).display;\n",
       "        if (!display || display === 'none') {{\n",
       "            console.log([gd, 'removed!']);\n",
       "            Plotly.purge(gd);\n",
       "            observer.disconnect();\n",
       "        }}\n",
       "}});\n",
       "\n",
       "// Listen for the removal of the full notebook cells\n",
       "var notebookContainer = gd.closest('#notebook-container');\n",
       "if (notebookContainer) {{\n",
       "    x.observe(notebookContainer, {childList: true});\n",
       "}}\n",
       "\n",
       "// Listen for the clearing of the current output cell\n",
       "var outputEl = gd.closest('.output');\n",
       "if (outputEl) {{\n",
       "    x.observe(outputEl, {childList: true});\n",
       "}}\n",
       "\n",
       "                        })                };                });            </script>        </div>"
      ]
     },
     "metadata": {},
     "output_type": "display_data"
    }
   ],
   "source": [
    "\n",
    "#bubble chart\n",
    "channel_stacks = pd.read_csv('conversion-path.csv')\n",
    "fig = px.scatter(channel_stacks, x='path_count', y='conversion', color='conversion_rate', size='conversion_rate', hover_data = ['path'])\n",
    "fig.update_layout(\n",
    "    xaxis=dict(type='log', title='Number of Paths'),\n",
    "    yaxis=dict(type='log', title='Number of Conversions'),\n",
    "    coloraxis=dict(colorbar=dict(title='Rate'),\n",
    "))\n",
    "fig.update_layout(template='plotly_white', plot_bgcolor='white', paper_bgcolor='white')\n",
    "fig.update_layout(height=100,\n",
    "    width=100)\n",
    "pio.renderers.default = 'notebook_connected'\n",
    "fig.show()\n",
    "\n"
   ]
  },
  {
   "cell_type": "code",
   "execution_count": 5,
   "id": "b3173c46-32b5-4f8f-8088-6d9b1c07a73d",
   "metadata": {
    "extensions": {
     "jupyter_dashboards": {
      "activeView": "grid_default",
      "views": {
       "grid_default": {
        "col": null,
        "height": 2,
        "hidden": true,
        "locked": true,
        "row": null,
        "width": 2
       }
      }
     }
    }
   },
   "outputs": [
    {
     "data": {
      "text/html": [
       "        <script type=\"text/javascript\">\n",
       "        window.PlotlyConfig = {MathJaxConfig: 'local'};\n",
       "        if (window.MathJax && window.MathJax.Hub && window.MathJax.Hub.Config) {window.MathJax.Hub.Config({SVG: {font: \"STIX-Web\"}});}\n",
       "        if (typeof require !== 'undefined') {\n",
       "        require.undef(\"plotly\");\n",
       "        requirejs.config({\n",
       "            paths: {\n",
       "                'plotly': ['https://cdn.plot.ly/plotly-2.18.2.min']\n",
       "            }\n",
       "        });\n",
       "        require(['plotly'], function(Plotly) {\n",
       "            window._Plotly = Plotly;\n",
       "        });\n",
       "        }\n",
       "        </script>\n",
       "        "
      ]
     },
     "metadata": {},
     "output_type": "display_data"
    },
    {
     "data": {
      "text/html": [
       "<div>                            <div id=\"5b93c095-9bed-4898-8bd7-3f80c988959f\" class=\"plotly-graph-div\" style=\"height:350px; width:300px;\"></div>            <script type=\"text/javascript\">                require([\"plotly\"], function(Plotly) {                    window.PLOTLYENV=window.PLOTLYENV || {};                                    if (document.getElementById(\"5b93c095-9bed-4898-8bd7-3f80c988959f\")) {                    Plotly.newPlot(                        \"5b93c095-9bed-4898-8bd7-3f80c988959f\",                        [{\"alignmentgroup\":\"True\",\"hovertemplate\":\"Channel=%{x}<br>Conversion Count=%{y}<extra></extra>\",\"legendgroup\":\"Facebook\",\"marker\":{\"color\":\"#0072B2\",\"pattern\":{\"shape\":\"\"}},\"name\":\"Facebook\",\"offsetgroup\":\"Facebook\",\"orientation\":\"v\",\"showlegend\":true,\"textposition\":\"auto\",\"x\":[\"Facebook\"],\"xaxis\":\"x\",\"y\":[5301],\"yaxis\":\"y\",\"type\":\"bar\"},{\"alignmentgroup\":\"True\",\"hovertemplate\":\"Channel=%{x}<br>Conversion Count=%{y}<extra></extra>\",\"legendgroup\":\"Instagram\",\"marker\":{\"color\":\"#009E73\",\"pattern\":{\"shape\":\"\"}},\"name\":\"Instagram\",\"offsetgroup\":\"Instagram\",\"orientation\":\"v\",\"showlegend\":true,\"textposition\":\"auto\",\"x\":[\"Instagram\"],\"xaxis\":\"x\",\"y\":[2244],\"yaxis\":\"y\",\"type\":\"bar\"},{\"alignmentgroup\":\"True\",\"hovertemplate\":\"Channel=%{x}<br>Conversion Count=%{y}<extra></extra>\",\"legendgroup\":\"Online Display\",\"marker\":{\"color\":\"#19d3f3\",\"pattern\":{\"shape\":\"\"}},\"name\":\"Online Display\",\"offsetgroup\":\"Online Display\",\"orientation\":\"v\",\"showlegend\":true,\"textposition\":\"auto\",\"x\":[\"Online Display\"],\"xaxis\":\"x\",\"y\":[2139],\"yaxis\":\"y\",\"type\":\"bar\"},{\"alignmentgroup\":\"True\",\"hovertemplate\":\"Channel=%{x}<br>Conversion Count=%{y}<extra></extra>\",\"legendgroup\":\"Online Video\",\"marker\":{\"color\":\"#FF6692\",\"pattern\":{\"shape\":\"\"}},\"name\":\"Online Video\",\"offsetgroup\":\"Online Video\",\"orientation\":\"v\",\"showlegend\":true,\"textposition\":\"auto\",\"x\":[\"Online Video\"],\"xaxis\":\"x\",\"y\":[3408],\"yaxis\":\"y\",\"type\":\"bar\"},{\"alignmentgroup\":\"True\",\"hovertemplate\":\"Channel=%{x}<br>Conversion Count=%{y}<extra></extra>\",\"legendgroup\":\"Paid Search\",\"marker\":{\"color\":\"#B6E880\",\"pattern\":{\"shape\":\"\"}},\"name\":\"Paid Search\",\"offsetgroup\":\"Paid Search\",\"orientation\":\"v\",\"showlegend\":true,\"textposition\":\"auto\",\"x\":[\"Paid Search\"],\"xaxis\":\"x\",\"y\":[4547],\"yaxis\":\"y\",\"type\":\"bar\"}],                        {\"template\":{\"data\":{\"barpolar\":[{\"marker\":{\"line\":{\"color\":\"white\",\"width\":0.5},\"pattern\":{\"fillmode\":\"overlay\",\"size\":10,\"solidity\":0.2}},\"type\":\"barpolar\"}],\"bar\":[{\"error_x\":{\"color\":\"#2a3f5f\"},\"error_y\":{\"color\":\"#2a3f5f\"},\"marker\":{\"line\":{\"color\":\"white\",\"width\":0.5},\"pattern\":{\"fillmode\":\"overlay\",\"size\":10,\"solidity\":0.2}},\"type\":\"bar\"}],\"carpet\":[{\"aaxis\":{\"endlinecolor\":\"#2a3f5f\",\"gridcolor\":\"#C8D4E3\",\"linecolor\":\"#C8D4E3\",\"minorgridcolor\":\"#C8D4E3\",\"startlinecolor\":\"#2a3f5f\"},\"baxis\":{\"endlinecolor\":\"#2a3f5f\",\"gridcolor\":\"#C8D4E3\",\"linecolor\":\"#C8D4E3\",\"minorgridcolor\":\"#C8D4E3\",\"startlinecolor\":\"#2a3f5f\"},\"type\":\"carpet\"}],\"choropleth\":[{\"colorbar\":{\"outlinewidth\":0,\"ticks\":\"\"},\"type\":\"choropleth\"}],\"contourcarpet\":[{\"colorbar\":{\"outlinewidth\":0,\"ticks\":\"\"},\"type\":\"contourcarpet\"}],\"contour\":[{\"colorbar\":{\"outlinewidth\":0,\"ticks\":\"\"},\"colorscale\":[[0.0,\"#0d0887\"],[0.1111111111111111,\"#46039f\"],[0.2222222222222222,\"#7201a8\"],[0.3333333333333333,\"#9c179e\"],[0.4444444444444444,\"#bd3786\"],[0.5555555555555556,\"#d8576b\"],[0.6666666666666666,\"#ed7953\"],[0.7777777777777778,\"#fb9f3a\"],[0.8888888888888888,\"#fdca26\"],[1.0,\"#f0f921\"]],\"type\":\"contour\"}],\"heatmapgl\":[{\"colorbar\":{\"outlinewidth\":0,\"ticks\":\"\"},\"colorscale\":[[0.0,\"#0d0887\"],[0.1111111111111111,\"#46039f\"],[0.2222222222222222,\"#7201a8\"],[0.3333333333333333,\"#9c179e\"],[0.4444444444444444,\"#bd3786\"],[0.5555555555555556,\"#d8576b\"],[0.6666666666666666,\"#ed7953\"],[0.7777777777777778,\"#fb9f3a\"],[0.8888888888888888,\"#fdca26\"],[1.0,\"#f0f921\"]],\"type\":\"heatmapgl\"}],\"heatmap\":[{\"colorbar\":{\"outlinewidth\":0,\"ticks\":\"\"},\"colorscale\":[[0.0,\"#0d0887\"],[0.1111111111111111,\"#46039f\"],[0.2222222222222222,\"#7201a8\"],[0.3333333333333333,\"#9c179e\"],[0.4444444444444444,\"#bd3786\"],[0.5555555555555556,\"#d8576b\"],[0.6666666666666666,\"#ed7953\"],[0.7777777777777778,\"#fb9f3a\"],[0.8888888888888888,\"#fdca26\"],[1.0,\"#f0f921\"]],\"type\":\"heatmap\"}],\"histogram2dcontour\":[{\"colorbar\":{\"outlinewidth\":0,\"ticks\":\"\"},\"colorscale\":[[0.0,\"#0d0887\"],[0.1111111111111111,\"#46039f\"],[0.2222222222222222,\"#7201a8\"],[0.3333333333333333,\"#9c179e\"],[0.4444444444444444,\"#bd3786\"],[0.5555555555555556,\"#d8576b\"],[0.6666666666666666,\"#ed7953\"],[0.7777777777777778,\"#fb9f3a\"],[0.8888888888888888,\"#fdca26\"],[1.0,\"#f0f921\"]],\"type\":\"histogram2dcontour\"}],\"histogram2d\":[{\"colorbar\":{\"outlinewidth\":0,\"ticks\":\"\"},\"colorscale\":[[0.0,\"#0d0887\"],[0.1111111111111111,\"#46039f\"],[0.2222222222222222,\"#7201a8\"],[0.3333333333333333,\"#9c179e\"],[0.4444444444444444,\"#bd3786\"],[0.5555555555555556,\"#d8576b\"],[0.6666666666666666,\"#ed7953\"],[0.7777777777777778,\"#fb9f3a\"],[0.8888888888888888,\"#fdca26\"],[1.0,\"#f0f921\"]],\"type\":\"histogram2d\"}],\"histogram\":[{\"marker\":{\"pattern\":{\"fillmode\":\"overlay\",\"size\":10,\"solidity\":0.2}},\"type\":\"histogram\"}],\"mesh3d\":[{\"colorbar\":{\"outlinewidth\":0,\"ticks\":\"\"},\"type\":\"mesh3d\"}],\"parcoords\":[{\"line\":{\"colorbar\":{\"outlinewidth\":0,\"ticks\":\"\"}},\"type\":\"parcoords\"}],\"pie\":[{\"automargin\":true,\"type\":\"pie\"}],\"scatter3d\":[{\"line\":{\"colorbar\":{\"outlinewidth\":0,\"ticks\":\"\"}},\"marker\":{\"colorbar\":{\"outlinewidth\":0,\"ticks\":\"\"}},\"type\":\"scatter3d\"}],\"scattercarpet\":[{\"marker\":{\"colorbar\":{\"outlinewidth\":0,\"ticks\":\"\"}},\"type\":\"scattercarpet\"}],\"scattergeo\":[{\"marker\":{\"colorbar\":{\"outlinewidth\":0,\"ticks\":\"\"}},\"type\":\"scattergeo\"}],\"scattergl\":[{\"marker\":{\"colorbar\":{\"outlinewidth\":0,\"ticks\":\"\"}},\"type\":\"scattergl\"}],\"scattermapbox\":[{\"marker\":{\"colorbar\":{\"outlinewidth\":0,\"ticks\":\"\"}},\"type\":\"scattermapbox\"}],\"scatterpolargl\":[{\"marker\":{\"colorbar\":{\"outlinewidth\":0,\"ticks\":\"\"}},\"type\":\"scatterpolargl\"}],\"scatterpolar\":[{\"marker\":{\"colorbar\":{\"outlinewidth\":0,\"ticks\":\"\"}},\"type\":\"scatterpolar\"}],\"scatter\":[{\"fillpattern\":{\"fillmode\":\"overlay\",\"size\":10,\"solidity\":0.2},\"type\":\"scatter\"}],\"scatterternary\":[{\"marker\":{\"colorbar\":{\"outlinewidth\":0,\"ticks\":\"\"}},\"type\":\"scatterternary\"}],\"surface\":[{\"colorbar\":{\"outlinewidth\":0,\"ticks\":\"\"},\"colorscale\":[[0.0,\"#0d0887\"],[0.1111111111111111,\"#46039f\"],[0.2222222222222222,\"#7201a8\"],[0.3333333333333333,\"#9c179e\"],[0.4444444444444444,\"#bd3786\"],[0.5555555555555556,\"#d8576b\"],[0.6666666666666666,\"#ed7953\"],[0.7777777777777778,\"#fb9f3a\"],[0.8888888888888888,\"#fdca26\"],[1.0,\"#f0f921\"]],\"type\":\"surface\"}],\"table\":[{\"cells\":{\"fill\":{\"color\":\"#EBF0F8\"},\"line\":{\"color\":\"white\"}},\"header\":{\"fill\":{\"color\":\"#C8D4E3\"},\"line\":{\"color\":\"white\"}},\"type\":\"table\"}]},\"layout\":{\"annotationdefaults\":{\"arrowcolor\":\"#2a3f5f\",\"arrowhead\":0,\"arrowwidth\":1},\"autotypenumbers\":\"strict\",\"coloraxis\":{\"colorbar\":{\"outlinewidth\":0,\"ticks\":\"\"}},\"colorscale\":{\"diverging\":[[0,\"#8e0152\"],[0.1,\"#c51b7d\"],[0.2,\"#de77ae\"],[0.3,\"#f1b6da\"],[0.4,\"#fde0ef\"],[0.5,\"#f7f7f7\"],[0.6,\"#e6f5d0\"],[0.7,\"#b8e186\"],[0.8,\"#7fbc41\"],[0.9,\"#4d9221\"],[1,\"#276419\"]],\"sequential\":[[0.0,\"#0d0887\"],[0.1111111111111111,\"#46039f\"],[0.2222222222222222,\"#7201a8\"],[0.3333333333333333,\"#9c179e\"],[0.4444444444444444,\"#bd3786\"],[0.5555555555555556,\"#d8576b\"],[0.6666666666666666,\"#ed7953\"],[0.7777777777777778,\"#fb9f3a\"],[0.8888888888888888,\"#fdca26\"],[1.0,\"#f0f921\"]],\"sequentialminus\":[[0.0,\"#0d0887\"],[0.1111111111111111,\"#46039f\"],[0.2222222222222222,\"#7201a8\"],[0.3333333333333333,\"#9c179e\"],[0.4444444444444444,\"#bd3786\"],[0.5555555555555556,\"#d8576b\"],[0.6666666666666666,\"#ed7953\"],[0.7777777777777778,\"#fb9f3a\"],[0.8888888888888888,\"#fdca26\"],[1.0,\"#f0f921\"]]},\"colorway\":[\"#636efa\",\"#EF553B\",\"#00cc96\",\"#ab63fa\",\"#FFA15A\",\"#19d3f3\",\"#FF6692\",\"#B6E880\",\"#FF97FF\",\"#FECB52\"],\"font\":{\"color\":\"#2a3f5f\"},\"geo\":{\"bgcolor\":\"white\",\"lakecolor\":\"white\",\"landcolor\":\"white\",\"showlakes\":true,\"showland\":true,\"subunitcolor\":\"#C8D4E3\"},\"hoverlabel\":{\"align\":\"left\"},\"hovermode\":\"closest\",\"mapbox\":{\"style\":\"light\"},\"paper_bgcolor\":\"white\",\"plot_bgcolor\":\"white\",\"polar\":{\"angularaxis\":{\"gridcolor\":\"#EBF0F8\",\"linecolor\":\"#EBF0F8\",\"ticks\":\"\"},\"bgcolor\":\"white\",\"radialaxis\":{\"gridcolor\":\"#EBF0F8\",\"linecolor\":\"#EBF0F8\",\"ticks\":\"\"}},\"scene\":{\"xaxis\":{\"backgroundcolor\":\"white\",\"gridcolor\":\"#DFE8F3\",\"gridwidth\":2,\"linecolor\":\"#EBF0F8\",\"showbackground\":true,\"ticks\":\"\",\"zerolinecolor\":\"#EBF0F8\"},\"yaxis\":{\"backgroundcolor\":\"white\",\"gridcolor\":\"#DFE8F3\",\"gridwidth\":2,\"linecolor\":\"#EBF0F8\",\"showbackground\":true,\"ticks\":\"\",\"zerolinecolor\":\"#EBF0F8\"},\"zaxis\":{\"backgroundcolor\":\"white\",\"gridcolor\":\"#DFE8F3\",\"gridwidth\":2,\"linecolor\":\"#EBF0F8\",\"showbackground\":true,\"ticks\":\"\",\"zerolinecolor\":\"#EBF0F8\"}},\"shapedefaults\":{\"line\":{\"color\":\"#2a3f5f\"}},\"ternary\":{\"aaxis\":{\"gridcolor\":\"#DFE8F3\",\"linecolor\":\"#A2B1C6\",\"ticks\":\"\"},\"baxis\":{\"gridcolor\":\"#DFE8F3\",\"linecolor\":\"#A2B1C6\",\"ticks\":\"\"},\"bgcolor\":\"white\",\"caxis\":{\"gridcolor\":\"#DFE8F3\",\"linecolor\":\"#A2B1C6\",\"ticks\":\"\"}},\"title\":{\"x\":0.05},\"xaxis\":{\"automargin\":true,\"gridcolor\":\"#EBF0F8\",\"linecolor\":\"#EBF0F8\",\"ticks\":\"\",\"title\":{\"standoff\":15},\"zerolinecolor\":\"#EBF0F8\",\"zerolinewidth\":2},\"yaxis\":{\"automargin\":true,\"gridcolor\":\"#EBF0F8\",\"linecolor\":\"#EBF0F8\",\"ticks\":\"\",\"title\":{\"standoff\":15},\"zerolinecolor\":\"#EBF0F8\",\"zerolinewidth\":2}}},\"xaxis\":{\"anchor\":\"y\",\"domain\":[0.0,1.0],\"title\":{\"text\":\"Channel\"},\"categoryorder\":\"array\",\"categoryarray\":[\"Facebook\",\"Instagram\",\"Online Display\",\"Online Video\",\"Paid Search\"]},\"yaxis\":{\"anchor\":\"x\",\"domain\":[0.0,1.0],\"title\":{\"text\":\"Number of Conversions\"}},\"legend\":{\"title\":{\"text\":\"Channel\"},\"tracegroupgap\":0},\"title\":{\"text\":\"Conversion Counts by Channel\"},\"barmode\":\"relative\",\"font\":{\"size\":12},\"showlegend\":false,\"plot_bgcolor\":\"white\",\"paper_bgcolor\":\"white\",\"height\":350,\"width\":300},                        {\"responsive\": true}                    ).then(function(){\n",
       "                            \n",
       "var gd = document.getElementById('5b93c095-9bed-4898-8bd7-3f80c988959f');\n",
       "var x = new MutationObserver(function (mutations, observer) {{\n",
       "        var display = window.getComputedStyle(gd).display;\n",
       "        if (!display || display === 'none') {{\n",
       "            console.log([gd, 'removed!']);\n",
       "            Plotly.purge(gd);\n",
       "            observer.disconnect();\n",
       "        }}\n",
       "}});\n",
       "\n",
       "// Listen for the removal of the full notebook cells\n",
       "var notebookContainer = gd.closest('#notebook-container');\n",
       "if (notebookContainer) {{\n",
       "    x.observe(notebookContainer, {childList: true});\n",
       "}}\n",
       "\n",
       "// Listen for the clearing of the current output cell\n",
       "var outputEl = gd.closest('.output');\n",
       "if (outputEl) {{\n",
       "    x.observe(outputEl, {childList: true});\n",
       "}}\n",
       "\n",
       "                        })                };                });            </script>        </div>"
      ]
     },
     "metadata": {},
     "output_type": "display_data"
    }
   ],
   "source": [
    "#barchart\n",
    "# Set template with white background and dark theme\n",
    "template = 'plotly_white'\n",
    "plot_bgcolor = 'white'\n",
    "paper_bgcolor = 'white'\n",
    "\n",
    "# Read the data\n",
    "data = pd.read_csv('attribution data.csv')\n",
    "#Colour\n",
    "sns.set_palette(\"colorblind\")\n",
    "color_map = {\n",
    "    'Facebook': '#0072B2',\n",
    "    'Instagram': '#009E73',\n",
    "    'Online display': '#D55E00',\n",
    "    'Online video': '#CC79A7',\n",
    "    'Paid search': '#F0E442'\n",
    "}\n",
    "# Filter for conversions (conversion = 1)\n",
    "conversions = data[data['conversion'] == 1]\n",
    "\n",
    "# Group by channel and count the number of conversions\n",
    "conversion_counts = conversions.groupby('campaign').size()\n",
    "\n",
    "# Create a dataframe for the chart\n",
    "df = pd.DataFrame({'Channel': conversion_counts.index, 'Conversion Count': conversion_counts.values})\n",
    "\n",
    "# Create the plotly chart\n",
    "fig = px.bar(df, x='Channel', y='Conversion Count', color='Channel', title='Conversion Counts by Channel', color_discrete_map=color_map)\n",
    "fig.update_layout(xaxis_title='Channel', yaxis_title='Number of Conversions', font=dict(size=12), showlegend=False, template=template, plot_bgcolor=plot_bgcolor, paper_bgcolor=paper_bgcolor)\n",
    "fig.update_layout(height=350,\n",
    "    width=300)\n",
    "pio.renderers.default = 'notebook_connected'\n",
    "fig.show()"
   ]
  },
  {
   "cell_type": "code",
   "execution_count": 6,
   "id": "2947b581-d28c-4e39-9789-ee99ea976a7b",
   "metadata": {
    "extensions": {
     "jupyter_dashboards": {
      "activeView": "grid_default",
      "views": {
       "grid_default": {
        "col": 5,
        "height": 7,
        "hidden": false,
        "locked": true,
        "row": 5,
        "width": 3
       }
      }
     }
    },
    "tags": []
   },
   "outputs": [
    {
     "data": {
      "text/html": [
       "        <script type=\"text/javascript\">\n",
       "        window.PlotlyConfig = {MathJaxConfig: 'local'};\n",
       "        if (window.MathJax && window.MathJax.Hub && window.MathJax.Hub.Config) {window.MathJax.Hub.Config({SVG: {font: \"STIX-Web\"}});}\n",
       "        if (typeof require !== 'undefined') {\n",
       "        require.undef(\"plotly\");\n",
       "        requirejs.config({\n",
       "            paths: {\n",
       "                'plotly': ['https://cdn.plot.ly/plotly-2.18.2.min']\n",
       "            }\n",
       "        });\n",
       "        require(['plotly'], function(Plotly) {\n",
       "            window._Plotly = Plotly;\n",
       "        });\n",
       "        }\n",
       "        </script>\n",
       "        "
      ]
     },
     "metadata": {},
     "output_type": "display_data"
    },
    {
     "data": {
      "text/html": [
       "<div>                            <div id=\"39478a15-b86c-4a15-818f-d6db67651a11\" class=\"plotly-graph-div\" style=\"height:400px; width:400px;\"></div>            <script type=\"text/javascript\">                require([\"plotly\"], function(Plotly) {                    window.PLOTLYENV=window.PLOTLYENV || {};                                    if (document.getElementById(\"39478a15-b86c-4a15-818f-d6db67651a11\")) {                    Plotly.newPlot(                        \"39478a15-b86c-4a15-818f-d6db67651a11\",                        [{\"alignmentgroup\":\"True\",\"hovertemplate\":\"Channel=%{y}<br>Touchpoint Count=%{x}<extra></extra>\",\"legendgroup\":\"Facebook\",\"marker\":{\"color\":\"#0072B2\",\"pattern\":{\"shape\":\"\"}},\"name\":\"Facebook\",\"offsetgroup\":\"Facebook\",\"orientation\":\"h\",\"showlegend\":true,\"textposition\":\"auto\",\"x\":[175741],\"xaxis\":\"x\",\"y\":[\"Facebook\"],\"yaxis\":\"y\",\"type\":\"bar\"},{\"alignmentgroup\":\"True\",\"hovertemplate\":\"Channel=%{y}<br>Touchpoint Count=%{x}<extra></extra>\",\"legendgroup\":\"Paid Search\",\"marker\":{\"color\":\"#19d3f3\",\"pattern\":{\"shape\":\"\"}},\"name\":\"Paid Search\",\"offsetgroup\":\"Paid Search\",\"orientation\":\"h\",\"showlegend\":true,\"textposition\":\"auto\",\"x\":[151440],\"xaxis\":\"x\",\"y\":[\"Paid Search\"],\"yaxis\":\"y\",\"type\":\"bar\"},{\"alignmentgroup\":\"True\",\"hovertemplate\":\"Channel=%{y}<br>Touchpoint Count=%{x}<extra></extra>\",\"legendgroup\":\"Online Video\",\"marker\":{\"color\":\"#FF6692\",\"pattern\":{\"shape\":\"\"}},\"name\":\"Online Video\",\"offsetgroup\":\"Online Video\",\"orientation\":\"h\",\"showlegend\":true,\"textposition\":\"auto\",\"x\":[113302],\"xaxis\":\"x\",\"y\":[\"Online Video\"],\"yaxis\":\"y\",\"type\":\"bar\"},{\"alignmentgroup\":\"True\",\"hovertemplate\":\"Channel=%{y}<br>Touchpoint Count=%{x}<extra></extra>\",\"legendgroup\":\"Instagram\",\"marker\":{\"color\":\"#009E73\",\"pattern\":{\"shape\":\"\"}},\"name\":\"Instagram\",\"offsetgroup\":\"Instagram\",\"orientation\":\"h\",\"showlegend\":true,\"textposition\":\"auto\",\"x\":[75201],\"xaxis\":\"x\",\"y\":[\"Instagram\"],\"yaxis\":\"y\",\"type\":\"bar\"},{\"alignmentgroup\":\"True\",\"hovertemplate\":\"Channel=%{y}<br>Touchpoint Count=%{x}<extra></extra>\",\"legendgroup\":\"Online Display\",\"marker\":{\"color\":\"#B6E880\",\"pattern\":{\"shape\":\"\"}},\"name\":\"Online Display\",\"offsetgroup\":\"Online Display\",\"orientation\":\"h\",\"showlegend\":true,\"textposition\":\"auto\",\"x\":[71053],\"xaxis\":\"x\",\"y\":[\"Online Display\"],\"yaxis\":\"y\",\"type\":\"bar\"}],                        {\"template\":{\"data\":{\"histogram2dcontour\":[{\"type\":\"histogram2dcontour\",\"colorbar\":{\"outlinewidth\":0,\"ticks\":\"\"},\"colorscale\":[[0.0,\"#0d0887\"],[0.1111111111111111,\"#46039f\"],[0.2222222222222222,\"#7201a8\"],[0.3333333333333333,\"#9c179e\"],[0.4444444444444444,\"#bd3786\"],[0.5555555555555556,\"#d8576b\"],[0.6666666666666666,\"#ed7953\"],[0.7777777777777778,\"#fb9f3a\"],[0.8888888888888888,\"#fdca26\"],[1.0,\"#f0f921\"]]}],\"choropleth\":[{\"type\":\"choropleth\",\"colorbar\":{\"outlinewidth\":0,\"ticks\":\"\"}}],\"histogram2d\":[{\"type\":\"histogram2d\",\"colorbar\":{\"outlinewidth\":0,\"ticks\":\"\"},\"colorscale\":[[0.0,\"#0d0887\"],[0.1111111111111111,\"#46039f\"],[0.2222222222222222,\"#7201a8\"],[0.3333333333333333,\"#9c179e\"],[0.4444444444444444,\"#bd3786\"],[0.5555555555555556,\"#d8576b\"],[0.6666666666666666,\"#ed7953\"],[0.7777777777777778,\"#fb9f3a\"],[0.8888888888888888,\"#fdca26\"],[1.0,\"#f0f921\"]]}],\"heatmap\":[{\"type\":\"heatmap\",\"colorbar\":{\"outlinewidth\":0,\"ticks\":\"\"},\"colorscale\":[[0.0,\"#0d0887\"],[0.1111111111111111,\"#46039f\"],[0.2222222222222222,\"#7201a8\"],[0.3333333333333333,\"#9c179e\"],[0.4444444444444444,\"#bd3786\"],[0.5555555555555556,\"#d8576b\"],[0.6666666666666666,\"#ed7953\"],[0.7777777777777778,\"#fb9f3a\"],[0.8888888888888888,\"#fdca26\"],[1.0,\"#f0f921\"]]}],\"heatmapgl\":[{\"type\":\"heatmapgl\",\"colorbar\":{\"outlinewidth\":0,\"ticks\":\"\"},\"colorscale\":[[0.0,\"#0d0887\"],[0.1111111111111111,\"#46039f\"],[0.2222222222222222,\"#7201a8\"],[0.3333333333333333,\"#9c179e\"],[0.4444444444444444,\"#bd3786\"],[0.5555555555555556,\"#d8576b\"],[0.6666666666666666,\"#ed7953\"],[0.7777777777777778,\"#fb9f3a\"],[0.8888888888888888,\"#fdca26\"],[1.0,\"#f0f921\"]]}],\"contourcarpet\":[{\"type\":\"contourcarpet\",\"colorbar\":{\"outlinewidth\":0,\"ticks\":\"\"}}],\"contour\":[{\"type\":\"contour\",\"colorbar\":{\"outlinewidth\":0,\"ticks\":\"\"},\"colorscale\":[[0.0,\"#0d0887\"],[0.1111111111111111,\"#46039f\"],[0.2222222222222222,\"#7201a8\"],[0.3333333333333333,\"#9c179e\"],[0.4444444444444444,\"#bd3786\"],[0.5555555555555556,\"#d8576b\"],[0.6666666666666666,\"#ed7953\"],[0.7777777777777778,\"#fb9f3a\"],[0.8888888888888888,\"#fdca26\"],[1.0,\"#f0f921\"]]}],\"surface\":[{\"type\":\"surface\",\"colorbar\":{\"outlinewidth\":0,\"ticks\":\"\"},\"colorscale\":[[0.0,\"#0d0887\"],[0.1111111111111111,\"#46039f\"],[0.2222222222222222,\"#7201a8\"],[0.3333333333333333,\"#9c179e\"],[0.4444444444444444,\"#bd3786\"],[0.5555555555555556,\"#d8576b\"],[0.6666666666666666,\"#ed7953\"],[0.7777777777777778,\"#fb9f3a\"],[0.8888888888888888,\"#fdca26\"],[1.0,\"#f0f921\"]]}],\"mesh3d\":[{\"type\":\"mesh3d\",\"colorbar\":{\"outlinewidth\":0,\"ticks\":\"\"}}],\"scatter\":[{\"fillpattern\":{\"fillmode\":\"overlay\",\"size\":10,\"solidity\":0.2},\"type\":\"scatter\"}],\"parcoords\":[{\"type\":\"parcoords\",\"line\":{\"colorbar\":{\"outlinewidth\":0,\"ticks\":\"\"}}}],\"scatterpolargl\":[{\"type\":\"scatterpolargl\",\"marker\":{\"colorbar\":{\"outlinewidth\":0,\"ticks\":\"\"}}}],\"bar\":[{\"error_x\":{\"color\":\"#2a3f5f\"},\"error_y\":{\"color\":\"#2a3f5f\"},\"marker\":{\"line\":{\"color\":\"#E5ECF6\",\"width\":0.5},\"pattern\":{\"fillmode\":\"overlay\",\"size\":10,\"solidity\":0.2}},\"type\":\"bar\"}],\"scattergeo\":[{\"type\":\"scattergeo\",\"marker\":{\"colorbar\":{\"outlinewidth\":0,\"ticks\":\"\"}}}],\"scatterpolar\":[{\"type\":\"scatterpolar\",\"marker\":{\"colorbar\":{\"outlinewidth\":0,\"ticks\":\"\"}}}],\"histogram\":[{\"marker\":{\"pattern\":{\"fillmode\":\"overlay\",\"size\":10,\"solidity\":0.2}},\"type\":\"histogram\"}],\"scattergl\":[{\"type\":\"scattergl\",\"marker\":{\"colorbar\":{\"outlinewidth\":0,\"ticks\":\"\"}}}],\"scatter3d\":[{\"type\":\"scatter3d\",\"line\":{\"colorbar\":{\"outlinewidth\":0,\"ticks\":\"\"}},\"marker\":{\"colorbar\":{\"outlinewidth\":0,\"ticks\":\"\"}}}],\"scattermapbox\":[{\"type\":\"scattermapbox\",\"marker\":{\"colorbar\":{\"outlinewidth\":0,\"ticks\":\"\"}}}],\"scatterternary\":[{\"type\":\"scatterternary\",\"marker\":{\"colorbar\":{\"outlinewidth\":0,\"ticks\":\"\"}}}],\"scattercarpet\":[{\"type\":\"scattercarpet\",\"marker\":{\"colorbar\":{\"outlinewidth\":0,\"ticks\":\"\"}}}],\"carpet\":[{\"aaxis\":{\"endlinecolor\":\"#2a3f5f\",\"gridcolor\":\"white\",\"linecolor\":\"white\",\"minorgridcolor\":\"white\",\"startlinecolor\":\"#2a3f5f\"},\"baxis\":{\"endlinecolor\":\"#2a3f5f\",\"gridcolor\":\"white\",\"linecolor\":\"white\",\"minorgridcolor\":\"white\",\"startlinecolor\":\"#2a3f5f\"},\"type\":\"carpet\"}],\"table\":[{\"cells\":{\"fill\":{\"color\":\"#EBF0F8\"},\"line\":{\"color\":\"white\"}},\"header\":{\"fill\":{\"color\":\"#C8D4E3\"},\"line\":{\"color\":\"white\"}},\"type\":\"table\"}],\"barpolar\":[{\"marker\":{\"line\":{\"color\":\"#E5ECF6\",\"width\":0.5},\"pattern\":{\"fillmode\":\"overlay\",\"size\":10,\"solidity\":0.2}},\"type\":\"barpolar\"}],\"pie\":[{\"automargin\":true,\"type\":\"pie\"}]},\"layout\":{\"autotypenumbers\":\"strict\",\"colorway\":[\"#636efa\",\"#EF553B\",\"#00cc96\",\"#ab63fa\",\"#FFA15A\",\"#19d3f3\",\"#FF6692\",\"#B6E880\",\"#FF97FF\",\"#FECB52\"],\"font\":{\"color\":\"#2a3f5f\"},\"hovermode\":\"closest\",\"hoverlabel\":{\"align\":\"left\"},\"paper_bgcolor\":\"white\",\"plot_bgcolor\":\"#E5ECF6\",\"polar\":{\"bgcolor\":\"#E5ECF6\",\"angularaxis\":{\"gridcolor\":\"white\",\"linecolor\":\"white\",\"ticks\":\"\"},\"radialaxis\":{\"gridcolor\":\"white\",\"linecolor\":\"white\",\"ticks\":\"\"}},\"ternary\":{\"bgcolor\":\"#E5ECF6\",\"aaxis\":{\"gridcolor\":\"white\",\"linecolor\":\"white\",\"ticks\":\"\"},\"baxis\":{\"gridcolor\":\"white\",\"linecolor\":\"white\",\"ticks\":\"\"},\"caxis\":{\"gridcolor\":\"white\",\"linecolor\":\"white\",\"ticks\":\"\"}},\"coloraxis\":{\"colorbar\":{\"outlinewidth\":0,\"ticks\":\"\"}},\"colorscale\":{\"sequential\":[[0.0,\"#0d0887\"],[0.1111111111111111,\"#46039f\"],[0.2222222222222222,\"#7201a8\"],[0.3333333333333333,\"#9c179e\"],[0.4444444444444444,\"#bd3786\"],[0.5555555555555556,\"#d8576b\"],[0.6666666666666666,\"#ed7953\"],[0.7777777777777778,\"#fb9f3a\"],[0.8888888888888888,\"#fdca26\"],[1.0,\"#f0f921\"]],\"sequentialminus\":[[0.0,\"#0d0887\"],[0.1111111111111111,\"#46039f\"],[0.2222222222222222,\"#7201a8\"],[0.3333333333333333,\"#9c179e\"],[0.4444444444444444,\"#bd3786\"],[0.5555555555555556,\"#d8576b\"],[0.6666666666666666,\"#ed7953\"],[0.7777777777777778,\"#fb9f3a\"],[0.8888888888888888,\"#fdca26\"],[1.0,\"#f0f921\"]],\"diverging\":[[0,\"#8e0152\"],[0.1,\"#c51b7d\"],[0.2,\"#de77ae\"],[0.3,\"#f1b6da\"],[0.4,\"#fde0ef\"],[0.5,\"#f7f7f7\"],[0.6,\"#e6f5d0\"],[0.7,\"#b8e186\"],[0.8,\"#7fbc41\"],[0.9,\"#4d9221\"],[1,\"#276419\"]]},\"xaxis\":{\"gridcolor\":\"white\",\"linecolor\":\"white\",\"ticks\":\"\",\"title\":{\"standoff\":15},\"zerolinecolor\":\"white\",\"automargin\":true,\"zerolinewidth\":2},\"yaxis\":{\"gridcolor\":\"white\",\"linecolor\":\"white\",\"ticks\":\"\",\"title\":{\"standoff\":15},\"zerolinecolor\":\"white\",\"automargin\":true,\"zerolinewidth\":2},\"scene\":{\"xaxis\":{\"backgroundcolor\":\"#E5ECF6\",\"gridcolor\":\"white\",\"linecolor\":\"white\",\"showbackground\":true,\"ticks\":\"\",\"zerolinecolor\":\"white\",\"gridwidth\":2},\"yaxis\":{\"backgroundcolor\":\"#E5ECF6\",\"gridcolor\":\"white\",\"linecolor\":\"white\",\"showbackground\":true,\"ticks\":\"\",\"zerolinecolor\":\"white\",\"gridwidth\":2},\"zaxis\":{\"backgroundcolor\":\"#E5ECF6\",\"gridcolor\":\"white\",\"linecolor\":\"white\",\"showbackground\":true,\"ticks\":\"\",\"zerolinecolor\":\"white\",\"gridwidth\":2}},\"shapedefaults\":{\"line\":{\"color\":\"#2a3f5f\"}},\"annotationdefaults\":{\"arrowcolor\":\"#2a3f5f\",\"arrowhead\":0,\"arrowwidth\":1},\"geo\":{\"bgcolor\":\"white\",\"landcolor\":\"#E5ECF6\",\"subunitcolor\":\"white\",\"showland\":true,\"showlakes\":true,\"lakecolor\":\"white\"},\"title\":{\"x\":0.05},\"mapbox\":{\"style\":\"light\"}}},\"xaxis\":{\"anchor\":\"y\",\"domain\":[0.0,1.0],\"title\":{\"text\":\"Touchpoint Count\"}},\"yaxis\":{\"anchor\":\"x\",\"domain\":[0.0,1.0],\"title\":{\"text\":\"Channel\"},\"categoryorder\":\"array\",\"categoryarray\":[\"Online Display\",\"Instagram\",\"Online Video\",\"Paid Search\",\"Facebook\"]},\"legend\":{\"title\":{\"text\":\"Channel\"},\"tracegroupgap\":0},\"title\":{\"text\":\"Most Common Touchpoints\"},\"barmode\":\"relative\",\"showlegend\":false,\"plot_bgcolor\":\"white\",\"paper_bgcolor\":\"white\",\"font\":{\"size\":12},\"height\":400,\"width\":400},                        {\"responsive\": true}                    ).then(function(){\n",
       "                            \n",
       "var gd = document.getElementById('39478a15-b86c-4a15-818f-d6db67651a11');\n",
       "var x = new MutationObserver(function (mutations, observer) {{\n",
       "        var display = window.getComputedStyle(gd).display;\n",
       "        if (!display || display === 'none') {{\n",
       "            console.log([gd, 'removed!']);\n",
       "            Plotly.purge(gd);\n",
       "            observer.disconnect();\n",
       "        }}\n",
       "}});\n",
       "\n",
       "// Listen for the removal of the full notebook cells\n",
       "var notebookContainer = gd.closest('#notebook-container');\n",
       "if (notebookContainer) {{\n",
       "    x.observe(notebookContainer, {childList: true});\n",
       "}}\n",
       "\n",
       "// Listen for the clearing of the current output cell\n",
       "var outputEl = gd.closest('.output');\n",
       "if (outputEl) {{\n",
       "    x.observe(outputEl, {childList: true});\n",
       "}}\n",
       "\n",
       "                        })                };                });            </script>        </div>"
      ]
     },
     "metadata": {},
     "output_type": "display_data"
    }
   ],
   "source": [
    "#colum chart\n",
    "import pandas as pd\n",
    "import plotly.express as px\n",
    "import seaborn as sns\n",
    "\n",
    "data = pd.read_csv('attribution data.csv')\n",
    "\n",
    "# count the number of occurrences of each campaign\n",
    "campaign_counts = data['campaign'].value_counts()\n",
    "\n",
    "# set the color palette to Seaborn's colorblind palette\n",
    "sns.set_palette(\"colorblind\")\n",
    "color_map = {\n",
    "    'Facebook': '#0072B2',\n",
    "    'Instagram': '#009E73',\n",
    "    'Online display': '#D55E00',\n",
    "    'Online video': '#CC79A7',\n",
    "    'Paid search': '#F0E442'\n",
    "}\n",
    "\n",
    "#create a dataframe\n",
    "df = pd.DataFrame({'Channel': campaign_counts.index, 'Touchpoint Count': campaign_counts.values})\n",
    "\n",
    "\n",
    "# create a bar chart of the campaign counts\n",
    "fig = px.bar(df, x = 'Touchpoint Count', y = 'Channel', color = 'Channel',\n",
    "    orientation='h',\n",
    "    title='Most Common Touchpoints',\n",
    "    color_discrete_map=color_map,\n",
    "    labels={'x': 'Count', 'y': 'Channel'},\n",
    ")\n",
    "\n",
    "# remove the legend\n",
    "fig.update_layout(showlegend=False)\n",
    "fig.update_layout(plot_bgcolor=plot_bgcolor, paper_bgcolor=paper_bgcolor)\n",
    "fig.update_layout(height=400,\n",
    "    width=400, font=dict(size=12))\n",
    "pio.renderers.default = 'notebook_connected'\n",
    "fig.show()"
   ]
  },
  {
   "cell_type": "code",
   "execution_count": 7,
   "id": "563c8e22-41ab-4a42-8079-dbae7157e120",
   "metadata": {
    "extensions": {
     "jupyter_dashboards": {
      "activeView": "grid_default",
      "views": {
       "grid_default": {
        "col": 8,
        "height": 7,
        "hidden": false,
        "locked": true,
        "row": 5,
        "width": 4
       }
      }
     }
    },
    "tags": []
   },
   "outputs": [
    {
     "data": {
      "text/html": [
       "<div>                            <div id=\"604571f2-09d4-49af-a72a-872c9b98df8c\" class=\"plotly-graph-div\" style=\"height:100px; width:200px;\"></div>            <script type=\"text/javascript\">                require([\"plotly\"], function(Plotly) {                    window.PLOTLYENV=window.PLOTLYENV || {};                                    if (document.getElementById(\"604571f2-09d4-49af-a72a-872c9b98df8c\")) {                    Plotly.newPlot(                        \"604571f2-09d4-49af-a72a-872c9b98df8c\",                        [{\"alignmentgroup\":\"True\",\"hovertemplate\":\"Channel=%{x}<br>Conversion Count=%{y}<extra></extra>\",\"legendgroup\":\"Facebook\",\"marker\":{\"color\":\"#0072B2\",\"pattern\":{\"shape\":\"\"}},\"name\":\"Facebook\",\"offsetgroup\":\"Facebook\",\"orientation\":\"v\",\"showlegend\":true,\"textposition\":\"auto\",\"x\":[\"Facebook\"],\"xaxis\":\"x\",\"y\":[5301],\"yaxis\":\"y\",\"type\":\"bar\"},{\"alignmentgroup\":\"True\",\"hovertemplate\":\"Channel=%{x}<br>Conversion Count=%{y}<extra></extra>\",\"legendgroup\":\"Instagram\",\"marker\":{\"color\":\"#009E73\",\"pattern\":{\"shape\":\"\"}},\"name\":\"Instagram\",\"offsetgroup\":\"Instagram\",\"orientation\":\"v\",\"showlegend\":true,\"textposition\":\"auto\",\"x\":[\"Instagram\"],\"xaxis\":\"x\",\"y\":[2244],\"yaxis\":\"y\",\"type\":\"bar\"},{\"alignmentgroup\":\"True\",\"hovertemplate\":\"Channel=%{x}<br>Conversion Count=%{y}<extra></extra>\",\"legendgroup\":\"Online Display\",\"marker\":{\"color\":\"#19d3f3\",\"pattern\":{\"shape\":\"\"}},\"name\":\"Online Display\",\"offsetgroup\":\"Online Display\",\"orientation\":\"v\",\"showlegend\":true,\"textposition\":\"auto\",\"x\":[\"Online Display\"],\"xaxis\":\"x\",\"y\":[2139],\"yaxis\":\"y\",\"type\":\"bar\"},{\"alignmentgroup\":\"True\",\"hovertemplate\":\"Channel=%{x}<br>Conversion Count=%{y}<extra></extra>\",\"legendgroup\":\"Online Video\",\"marker\":{\"color\":\"#FF6692\",\"pattern\":{\"shape\":\"\"}},\"name\":\"Online Video\",\"offsetgroup\":\"Online Video\",\"orientation\":\"v\",\"showlegend\":true,\"textposition\":\"auto\",\"x\":[\"Online Video\"],\"xaxis\":\"x\",\"y\":[3408],\"yaxis\":\"y\",\"type\":\"bar\"},{\"alignmentgroup\":\"True\",\"hovertemplate\":\"Channel=%{x}<br>Conversion Count=%{y}<extra></extra>\",\"legendgroup\":\"Paid Search\",\"marker\":{\"color\":\"#B6E880\",\"pattern\":{\"shape\":\"\"}},\"name\":\"Paid Search\",\"offsetgroup\":\"Paid Search\",\"orientation\":\"v\",\"showlegend\":true,\"textposition\":\"auto\",\"x\":[\"Paid Search\"],\"xaxis\":\"x\",\"y\":[4547],\"yaxis\":\"y\",\"type\":\"bar\"}],                        {\"template\":{\"data\":{\"barpolar\":[{\"marker\":{\"line\":{\"color\":\"white\",\"width\":0.5},\"pattern\":{\"fillmode\":\"overlay\",\"size\":10,\"solidity\":0.2}},\"type\":\"barpolar\"}],\"bar\":[{\"error_x\":{\"color\":\"#2a3f5f\"},\"error_y\":{\"color\":\"#2a3f5f\"},\"marker\":{\"line\":{\"color\":\"white\",\"width\":0.5},\"pattern\":{\"fillmode\":\"overlay\",\"size\":10,\"solidity\":0.2}},\"type\":\"bar\"}],\"carpet\":[{\"aaxis\":{\"endlinecolor\":\"#2a3f5f\",\"gridcolor\":\"#C8D4E3\",\"linecolor\":\"#C8D4E3\",\"minorgridcolor\":\"#C8D4E3\",\"startlinecolor\":\"#2a3f5f\"},\"baxis\":{\"endlinecolor\":\"#2a3f5f\",\"gridcolor\":\"#C8D4E3\",\"linecolor\":\"#C8D4E3\",\"minorgridcolor\":\"#C8D4E3\",\"startlinecolor\":\"#2a3f5f\"},\"type\":\"carpet\"}],\"choropleth\":[{\"colorbar\":{\"outlinewidth\":0,\"ticks\":\"\"},\"type\":\"choropleth\"}],\"contourcarpet\":[{\"colorbar\":{\"outlinewidth\":0,\"ticks\":\"\"},\"type\":\"contourcarpet\"}],\"contour\":[{\"colorbar\":{\"outlinewidth\":0,\"ticks\":\"\"},\"colorscale\":[[0.0,\"#0d0887\"],[0.1111111111111111,\"#46039f\"],[0.2222222222222222,\"#7201a8\"],[0.3333333333333333,\"#9c179e\"],[0.4444444444444444,\"#bd3786\"],[0.5555555555555556,\"#d8576b\"],[0.6666666666666666,\"#ed7953\"],[0.7777777777777778,\"#fb9f3a\"],[0.8888888888888888,\"#fdca26\"],[1.0,\"#f0f921\"]],\"type\":\"contour\"}],\"heatmapgl\":[{\"colorbar\":{\"outlinewidth\":0,\"ticks\":\"\"},\"colorscale\":[[0.0,\"#0d0887\"],[0.1111111111111111,\"#46039f\"],[0.2222222222222222,\"#7201a8\"],[0.3333333333333333,\"#9c179e\"],[0.4444444444444444,\"#bd3786\"],[0.5555555555555556,\"#d8576b\"],[0.6666666666666666,\"#ed7953\"],[0.7777777777777778,\"#fb9f3a\"],[0.8888888888888888,\"#fdca26\"],[1.0,\"#f0f921\"]],\"type\":\"heatmapgl\"}],\"heatmap\":[{\"colorbar\":{\"outlinewidth\":0,\"ticks\":\"\"},\"colorscale\":[[0.0,\"#0d0887\"],[0.1111111111111111,\"#46039f\"],[0.2222222222222222,\"#7201a8\"],[0.3333333333333333,\"#9c179e\"],[0.4444444444444444,\"#bd3786\"],[0.5555555555555556,\"#d8576b\"],[0.6666666666666666,\"#ed7953\"],[0.7777777777777778,\"#fb9f3a\"],[0.8888888888888888,\"#fdca26\"],[1.0,\"#f0f921\"]],\"type\":\"heatmap\"}],\"histogram2dcontour\":[{\"colorbar\":{\"outlinewidth\":0,\"ticks\":\"\"},\"colorscale\":[[0.0,\"#0d0887\"],[0.1111111111111111,\"#46039f\"],[0.2222222222222222,\"#7201a8\"],[0.3333333333333333,\"#9c179e\"],[0.4444444444444444,\"#bd3786\"],[0.5555555555555556,\"#d8576b\"],[0.6666666666666666,\"#ed7953\"],[0.7777777777777778,\"#fb9f3a\"],[0.8888888888888888,\"#fdca26\"],[1.0,\"#f0f921\"]],\"type\":\"histogram2dcontour\"}],\"histogram2d\":[{\"colorbar\":{\"outlinewidth\":0,\"ticks\":\"\"},\"colorscale\":[[0.0,\"#0d0887\"],[0.1111111111111111,\"#46039f\"],[0.2222222222222222,\"#7201a8\"],[0.3333333333333333,\"#9c179e\"],[0.4444444444444444,\"#bd3786\"],[0.5555555555555556,\"#d8576b\"],[0.6666666666666666,\"#ed7953\"],[0.7777777777777778,\"#fb9f3a\"],[0.8888888888888888,\"#fdca26\"],[1.0,\"#f0f921\"]],\"type\":\"histogram2d\"}],\"histogram\":[{\"marker\":{\"pattern\":{\"fillmode\":\"overlay\",\"size\":10,\"solidity\":0.2}},\"type\":\"histogram\"}],\"mesh3d\":[{\"colorbar\":{\"outlinewidth\":0,\"ticks\":\"\"},\"type\":\"mesh3d\"}],\"parcoords\":[{\"line\":{\"colorbar\":{\"outlinewidth\":0,\"ticks\":\"\"}},\"type\":\"parcoords\"}],\"pie\":[{\"automargin\":true,\"type\":\"pie\"}],\"scatter3d\":[{\"line\":{\"colorbar\":{\"outlinewidth\":0,\"ticks\":\"\"}},\"marker\":{\"colorbar\":{\"outlinewidth\":0,\"ticks\":\"\"}},\"type\":\"scatter3d\"}],\"scattercarpet\":[{\"marker\":{\"colorbar\":{\"outlinewidth\":0,\"ticks\":\"\"}},\"type\":\"scattercarpet\"}],\"scattergeo\":[{\"marker\":{\"colorbar\":{\"outlinewidth\":0,\"ticks\":\"\"}},\"type\":\"scattergeo\"}],\"scattergl\":[{\"marker\":{\"colorbar\":{\"outlinewidth\":0,\"ticks\":\"\"}},\"type\":\"scattergl\"}],\"scattermapbox\":[{\"marker\":{\"colorbar\":{\"outlinewidth\":0,\"ticks\":\"\"}},\"type\":\"scattermapbox\"}],\"scatterpolargl\":[{\"marker\":{\"colorbar\":{\"outlinewidth\":0,\"ticks\":\"\"}},\"type\":\"scatterpolargl\"}],\"scatterpolar\":[{\"marker\":{\"colorbar\":{\"outlinewidth\":0,\"ticks\":\"\"}},\"type\":\"scatterpolar\"}],\"scatter\":[{\"fillpattern\":{\"fillmode\":\"overlay\",\"size\":10,\"solidity\":0.2},\"type\":\"scatter\"}],\"scatterternary\":[{\"marker\":{\"colorbar\":{\"outlinewidth\":0,\"ticks\":\"\"}},\"type\":\"scatterternary\"}],\"surface\":[{\"colorbar\":{\"outlinewidth\":0,\"ticks\":\"\"},\"colorscale\":[[0.0,\"#0d0887\"],[0.1111111111111111,\"#46039f\"],[0.2222222222222222,\"#7201a8\"],[0.3333333333333333,\"#9c179e\"],[0.4444444444444444,\"#bd3786\"],[0.5555555555555556,\"#d8576b\"],[0.6666666666666666,\"#ed7953\"],[0.7777777777777778,\"#fb9f3a\"],[0.8888888888888888,\"#fdca26\"],[1.0,\"#f0f921\"]],\"type\":\"surface\"}],\"table\":[{\"cells\":{\"fill\":{\"color\":\"#EBF0F8\"},\"line\":{\"color\":\"white\"}},\"header\":{\"fill\":{\"color\":\"#C8D4E3\"},\"line\":{\"color\":\"white\"}},\"type\":\"table\"}]},\"layout\":{\"annotationdefaults\":{\"arrowcolor\":\"#2a3f5f\",\"arrowhead\":0,\"arrowwidth\":1},\"autotypenumbers\":\"strict\",\"coloraxis\":{\"colorbar\":{\"outlinewidth\":0,\"ticks\":\"\"}},\"colorscale\":{\"diverging\":[[0,\"#8e0152\"],[0.1,\"#c51b7d\"],[0.2,\"#de77ae\"],[0.3,\"#f1b6da\"],[0.4,\"#fde0ef\"],[0.5,\"#f7f7f7\"],[0.6,\"#e6f5d0\"],[0.7,\"#b8e186\"],[0.8,\"#7fbc41\"],[0.9,\"#4d9221\"],[1,\"#276419\"]],\"sequential\":[[0.0,\"#0d0887\"],[0.1111111111111111,\"#46039f\"],[0.2222222222222222,\"#7201a8\"],[0.3333333333333333,\"#9c179e\"],[0.4444444444444444,\"#bd3786\"],[0.5555555555555556,\"#d8576b\"],[0.6666666666666666,\"#ed7953\"],[0.7777777777777778,\"#fb9f3a\"],[0.8888888888888888,\"#fdca26\"],[1.0,\"#f0f921\"]],\"sequentialminus\":[[0.0,\"#0d0887\"],[0.1111111111111111,\"#46039f\"],[0.2222222222222222,\"#7201a8\"],[0.3333333333333333,\"#9c179e\"],[0.4444444444444444,\"#bd3786\"],[0.5555555555555556,\"#d8576b\"],[0.6666666666666666,\"#ed7953\"],[0.7777777777777778,\"#fb9f3a\"],[0.8888888888888888,\"#fdca26\"],[1.0,\"#f0f921\"]]},\"colorway\":[\"#636efa\",\"#EF553B\",\"#00cc96\",\"#ab63fa\",\"#FFA15A\",\"#19d3f3\",\"#FF6692\",\"#B6E880\",\"#FF97FF\",\"#FECB52\"],\"font\":{\"color\":\"#2a3f5f\"},\"geo\":{\"bgcolor\":\"white\",\"lakecolor\":\"white\",\"landcolor\":\"white\",\"showlakes\":true,\"showland\":true,\"subunitcolor\":\"#C8D4E3\"},\"hoverlabel\":{\"align\":\"left\"},\"hovermode\":\"closest\",\"mapbox\":{\"style\":\"light\"},\"paper_bgcolor\":\"white\",\"plot_bgcolor\":\"white\",\"polar\":{\"angularaxis\":{\"gridcolor\":\"#EBF0F8\",\"linecolor\":\"#EBF0F8\",\"ticks\":\"\"},\"bgcolor\":\"white\",\"radialaxis\":{\"gridcolor\":\"#EBF0F8\",\"linecolor\":\"#EBF0F8\",\"ticks\":\"\"}},\"scene\":{\"xaxis\":{\"backgroundcolor\":\"white\",\"gridcolor\":\"#DFE8F3\",\"gridwidth\":2,\"linecolor\":\"#EBF0F8\",\"showbackground\":true,\"ticks\":\"\",\"zerolinecolor\":\"#EBF0F8\"},\"yaxis\":{\"backgroundcolor\":\"white\",\"gridcolor\":\"#DFE8F3\",\"gridwidth\":2,\"linecolor\":\"#EBF0F8\",\"showbackground\":true,\"ticks\":\"\",\"zerolinecolor\":\"#EBF0F8\"},\"zaxis\":{\"backgroundcolor\":\"white\",\"gridcolor\":\"#DFE8F3\",\"gridwidth\":2,\"linecolor\":\"#EBF0F8\",\"showbackground\":true,\"ticks\":\"\",\"zerolinecolor\":\"#EBF0F8\"}},\"shapedefaults\":{\"line\":{\"color\":\"#2a3f5f\"}},\"ternary\":{\"aaxis\":{\"gridcolor\":\"#DFE8F3\",\"linecolor\":\"#A2B1C6\",\"ticks\":\"\"},\"baxis\":{\"gridcolor\":\"#DFE8F3\",\"linecolor\":\"#A2B1C6\",\"ticks\":\"\"},\"bgcolor\":\"white\",\"caxis\":{\"gridcolor\":\"#DFE8F3\",\"linecolor\":\"#A2B1C6\",\"ticks\":\"\"}},\"title\":{\"x\":0.05},\"xaxis\":{\"automargin\":true,\"gridcolor\":\"#EBF0F8\",\"linecolor\":\"#EBF0F8\",\"ticks\":\"\",\"title\":{\"standoff\":15},\"zerolinecolor\":\"#EBF0F8\",\"zerolinewidth\":2},\"yaxis\":{\"automargin\":true,\"gridcolor\":\"#EBF0F8\",\"linecolor\":\"#EBF0F8\",\"ticks\":\"\",\"title\":{\"standoff\":15},\"zerolinecolor\":\"#EBF0F8\",\"zerolinewidth\":2}}},\"xaxis\":{\"anchor\":\"y\",\"domain\":[0.0,1.0],\"title\":{\"text\":\"Channel\"},\"categoryorder\":\"array\",\"categoryarray\":[\"Facebook\",\"Instagram\",\"Online Display\",\"Online Video\",\"Paid Search\"]},\"yaxis\":{\"anchor\":\"x\",\"domain\":[0.0,1.0],\"title\":{\"text\":\"Number of Conversions\"}},\"legend\":{\"title\":{\"text\":\"Channel\"},\"tracegroupgap\":0},\"title\":{\"text\":\"Conversion Counts by Channel\"},\"barmode\":\"relative\",\"showlegend\":false,\"plot_bgcolor\":\"white\",\"paper_bgcolor\":\"white\",\"height\":100,\"width\":200},                        {\"responsive\": true}                    ).then(function(){\n",
       "                            \n",
       "var gd = document.getElementById('604571f2-09d4-49af-a72a-872c9b98df8c');\n",
       "var x = new MutationObserver(function (mutations, observer) {{\n",
       "        var display = window.getComputedStyle(gd).display;\n",
       "        if (!display || display === 'none') {{\n",
       "            console.log([gd, 'removed!']);\n",
       "            Plotly.purge(gd);\n",
       "            observer.disconnect();\n",
       "        }}\n",
       "}});\n",
       "\n",
       "// Listen for the removal of the full notebook cells\n",
       "var notebookContainer = gd.closest('#notebook-container');\n",
       "if (notebookContainer) {{\n",
       "    x.observe(notebookContainer, {childList: true});\n",
       "}}\n",
       "\n",
       "// Listen for the clearing of the current output cell\n",
       "var outputEl = gd.closest('.output');\n",
       "if (outputEl) {{\n",
       "    x.observe(outputEl, {childList: true});\n",
       "}}\n",
       "\n",
       "                        })                };                });            </script>        </div>"
      ]
     },
     "metadata": {},
     "output_type": "display_data"
    }
   ],
   "source": [
    "#Colum\n",
    "# Set template with white background and dark theme\n",
    "template = 'plotly_white'\n",
    "plot_bgcolor = 'white'\n",
    "paper_bgcolor = 'white'\n",
    "\n",
    "# Read the data\n",
    "data = pd.read_csv('attribution data.csv')\n",
    "#Colour\n",
    "sns.set_palette(\"colorblind\")\n",
    "color_map = {\n",
    "    'Facebook': '#0072B2',\n",
    "    'Instagram': '#009E73',\n",
    "    'Online display': '#D55E00',\n",
    "    'Online video': '#CC79A7',\n",
    "    'Paid search': '#F0E442'\n",
    "}\n",
    "# Filter for conversions (conversion = 1)\n",
    "conversions = data[data['conversion'] == 1]\n",
    "\n",
    "# Group by channel and count the number of conversions\n",
    "conversion_counts = conversions.groupby('campaign').size()\n",
    "\n",
    "# Create a dataframe for the chart\n",
    "df = pd.DataFrame({'Channel': conversion_counts.index, 'Conversion Count': conversion_counts.values})\n",
    "\n",
    "# Create the plotly chart\n",
    "fig = px.bar(df, x='Channel', y='Conversion Count', color='Channel', title='Conversion Counts by Channel', color_discrete_map=color_map)\n",
    "fig.update_layout(xaxis_title='Channel', yaxis_title='Number of Conversions',showlegend=False, template=template, plot_bgcolor=plot_bgcolor, paper_bgcolor=paper_bgcolor)\n",
    "fig.update_layout(height=100,\n",
    "    width=200)\n"
   ]
  },
  {
   "cell_type": "code",
   "execution_count": 8,
   "id": "c60117a5-0982-4961-bcaa-3580e90c38ca",
   "metadata": {
    "collapsed": true,
    "extensions": {
     "jupyter_dashboards": {
      "activeView": "grid_default",
      "views": {
       "grid_default": {
        "col": 5,
        "height": 8,
        "hidden": false,
        "locked": true,
        "row": 12,
        "width": 7
       }
      }
     }
    },
    "jupyter": {
     "outputs_hidden": true
    },
    "tags": []
   },
   "outputs": [
    {
     "data": {
      "text/html": [
       "        <script type=\"text/javascript\">\n",
       "        window.PlotlyConfig = {MathJaxConfig: 'local'};\n",
       "        if (window.MathJax && window.MathJax.Hub && window.MathJax.Hub.Config) {window.MathJax.Hub.Config({SVG: {font: \"STIX-Web\"}});}\n",
       "        if (typeof require !== 'undefined') {\n",
       "        require.undef(\"plotly\");\n",
       "        requirejs.config({\n",
       "            paths: {\n",
       "                'plotly': ['https://cdn.plot.ly/plotly-2.18.2.min']\n",
       "            }\n",
       "        });\n",
       "        require(['plotly'], function(Plotly) {\n",
       "            window._Plotly = Plotly;\n",
       "        });\n",
       "        }\n",
       "        </script>\n",
       "        "
      ]
     },
     "metadata": {},
     "output_type": "display_data"
    },
    {
     "data": {
      "text/html": [
       "<div>                            <div id=\"38dd82ac-2c7d-4863-b076-cd473ef2618b\" class=\"plotly-graph-div\" style=\"height:525px; width:100%;\"></div>            <script type=\"text/javascript\">                require([\"plotly\"], function(Plotly) {                    window.PLOTLYENV=window.PLOTLYENV || {};                                    if (document.getElementById(\"38dd82ac-2c7d-4863-b076-cd473ef2618b\")) {                    Plotly.newPlot(                        \"38dd82ac-2c7d-4863-b076-cd473ef2618b\",                        [{\"customdata\":[[\"Facebook\"],[\"Facebook>Instagram\"],[\"Facebook>Instagram>Facebook\"],[\"Facebook>Instagram>Facebook>Instagram\"],[\"Facebook>Instagram>Facebook>Instagram>Facebook\"],[\"Facebook>Instagram>Facebook>Instagram>Facebook>Instagram\"],[\"Facebook>Instagram>Facebook>Instagram>Facebook>Instagram>Facebook\"],[\"Facebook>Instagram>Facebook>Instagram>Facebook>Instagram>Facebook>Instagram\"],[\"Facebook>Instagram>Facebook>Instagram>Facebook>Instagram>Facebook>Instagram>Facebook\"],[\"Facebook>Instagram>Facebook>Instagram>Facebook>Instagram>Facebook>Instagram>Facebook>Instagram\"],[\"Facebook>Instagram>Facebook>Instagram>Facebook>Instagram>Facebook>Instagram>Facebook>Instagram>Facebook\"],[\"Facebook>Instagram>Facebook>Instagram>Facebook>Instagram>Facebook>Instagram>Facebook>Instagram>Facebook>Instagram\"],[\"Facebook>Instagram>Facebook>Instagram>Facebook>Instagram>Facebook>Instagram>Facebook>Instagram>Facebook>Instagram>Facebook\"],[\"Facebook>Instagram>Facebook>Instagram>Facebook>Instagram>Facebook>Instagram>Facebook>Instagram>Facebook>Instagram>Facebook>Instagram\"],[\"Facebook>Instagram>Facebook>Instagram>Facebook>Instagram>Facebook>Instagram>Facebook>Instagram>Facebook>Instagram>Facebook>Instagram>Facebook\"],[\"Facebook>Instagram>Facebook>Instagram>Facebook>Instagram>Facebook>Instagram>Facebook>Instagram>Facebook>Instagram>Facebook>Instagram>Facebook>Instagram\"],[\"Facebook>Instagram>Facebook>Instagram>Facebook>Instagram>Facebook>Instagram>Facebook>Instagram>Facebook>Instagram>Facebook>Instagram>Facebook>Instagram>Facebook\"],[\"Facebook>Instagram>Facebook>Instagram>Facebook>Instagram>Facebook>Instagram>Facebook>Instagram>Facebook>Instagram>Facebook>Instagram>Facebook>Instagram>Facebook>Instagram\"],[\"Facebook>Instagram>Facebook>Instagram>Facebook>Instagram>Facebook>Instagram>Facebook>Instagram>Facebook>Instagram>Facebook>Instagram>Facebook>Instagram>Facebook>Instagram>Facebook>Instagram\"],[\"Facebook>Instagram>Facebook>Instagram>Facebook>Instagram>Facebook>Instagram>Facebook>Instagram>Facebook>Instagram>Facebook>Instagram>Facebook>Instagram>Facebook>Instagram>Facebook>Instagram>Facebook>Instagram>Facebook>Instagram>Facebook>Instagram>Facebook>Instagram>Facebook>Instagram>Facebook>Instagram>Facebook>Instagram>Facebook>Instagram>Facebook>Instagram>Facebook>Instagram>Facebook>Instagram\"],[\"Facebook>Instagram>Facebook>Instagram>Facebook>Instagram>Facebook>Instagram>Facebook>Instagram>Facebook>Instagram>Facebook>Instagram>Facebook>Instagram>Online Video\"],[\"Facebook>Instagram>Facebook>Instagram>Facebook>Instagram>Facebook>Instagram>Facebook>Instagram>Facebook>Instagram>Facebook>Instagram>Facebook>Online Video\"],[\"Facebook>Instagram>Facebook>Instagram>Facebook>Instagram>Facebook>Instagram>Facebook>Instagram>Facebook>Online Video>Instagram>Facebook>Instagram>Facebook>Instagram>Facebook>Online Video>Facebook>Paid Search>Facebook\"],[\"Facebook>Instagram>Facebook>Instagram>Facebook>Instagram>Facebook>Online Display\"],[\"Facebook>Instagram>Facebook>Instagram>Facebook>Instagram>Facebook>Paid Search>Facebook\"],[\"Facebook>Instagram>Facebook>Instagram>Facebook>Instagram>Facebook>Paid Search>Facebook>Instagram\"],[\"Facebook>Instagram>Facebook>Instagram>Facebook>Instagram>Online Display>Facebook>Instagram>Facebook>Instagram\"],[\"Facebook>Instagram>Facebook>Instagram>Facebook>Instagram>Paid Search\"],[\"Facebook>Instagram>Facebook>Instagram>Facebook>Online Display\"],[\"Facebook>Instagram>Facebook>Instagram>Facebook>Online Display>Facebook\"],[\"Facebook>Instagram>Facebook>Instagram>Facebook>Online Display>Instagram>Facebook>Instagram>Facebook>Instagram>Facebook>Instagram>Facebook>Instagram>Facebook>Instagram>Facebook>Instagram\"],[\"Facebook>Instagram>Facebook>Instagram>Facebook>Online Video>Facebook\"],[\"Facebook>Instagram>Facebook>Instagram>Facebook>Online Video>Facebook>Instagram>Facebook\"],[\"Facebook>Instagram>Facebook>Instagram>Facebook>Paid Search\"],[\"Facebook>Instagram>Facebook>Instagram>Facebook>Paid Search>Instagram>Facebook>Instagram>Facebook>Instagram\"],[\"Facebook>Instagram>Facebook>Instagram>Online Display>Facebook>Instagram\"],[\"Facebook>Instagram>Facebook>Instagram>Online Display>Facebook>Instagram>Facebook\"],[\"Facebook>Instagram>Facebook>Instagram>Online Video>Facebook>Instagram>Online Video>Instagram>Online Video>Instagram>Online Video>Facebook>Instagram\"],[\"Facebook>Instagram>Facebook>Instagram>Online Video>Facebook>Online Video>Facebook>Instagram\"],[\"Facebook>Instagram>Facebook>Instagram>Paid Search>Facebook>Instagram>Facebook>Instagram>Facebook>Instagram\"],[\"Facebook>Instagram>Facebook>Instagram>Paid Search>Facebook>Instagram>Paid Search>Instagram>Facebook>Instagram>Facebook>Instagram>Paid Search>Instagram>Facebook>Instagram>Paid Search>Instagram>Facebook>Instagram>Facebook\"],[\"Facebook>Instagram>Facebook>Instagram>Paid Search>Facebook>Paid Search>Facebook>Instagram>Facebook>Paid Search\"],[\"Facebook>Instagram>Facebook>Instagram>Paid Search>Online Video>Paid Search>Instagram>Facebook>Online Video\"],[\"Facebook>Instagram>Facebook>Online Display\"],[\"Facebook>Instagram>Facebook>Online Display>Facebook>Instagram>Facebook\"],[\"Facebook>Instagram>Facebook>Online Display>Instagram>Facebook>Online Display\"],[\"Facebook>Instagram>Facebook>Online Video\"],[\"Facebook>Instagram>Facebook>Online Video>Facebook\"],[\"Facebook>Instagram>Facebook>Online Video>Facebook>Online Video>Facebook>Instagram>Facebook>Online Video>Facebook>Online Video>Facebook>Instagram>Online Video>Instagram>Facebook\"],[\"Facebook>Instagram>Facebook>Online Video>Instagram>Facebook>Instagram>Facebook>Instagram\"],[\"Facebook>Instagram>Facebook>Paid Search\"],[\"Facebook>Instagram>Facebook>Paid Search>Facebook\"],[\"Facebook>Instagram>Facebook>Paid Search>Facebook>Instagram\"],[\"Facebook>Instagram>Facebook>Paid Search>Facebook>Instagram>Facebook\"],[\"Facebook>Instagram>Facebook>Paid Search>Facebook>Instagram>Facebook>Instagram>Paid Search\"],[\"Facebook>Instagram>Facebook>Paid Search>Instagram>Facebook\"],[\"Facebook>Instagram>Facebook>Paid Search>Instagram>Facebook>Instagram>Facebook\"],[\"Facebook>Instagram>Facebook>Paid Search>Instagram>Facebook>Instagram>Facebook>Instagram>Facebook>Instagram>Facebook>Instagram>Facebook>Instagram>Facebook\"],[\"Facebook>Instagram>Facebook>Paid Search>Instagram>Facebook>Instagram>Facebook>Instagram>Paid Search>Facebook>Instagram\"],[\"Facebook>Instagram>Facebook>Paid Search>Online Display>Paid Search>Online Display>Facebook>Instagram>Facebook\"],[\"Facebook>Instagram>Online Display\"],[\"Facebook>Instagram>Online Display>Facebook\"],[\"Facebook>Instagram>Online Display>Facebook>Instagram>Paid Search>Facebook>Instagram>Facebook>Online Display>Instagram>Facebook>Instagram>Facebook>Instagram\"],[\"Facebook>Instagram>Online Display>Instagram\"],[\"Facebook>Instagram>Online Display>Instagram>Facebook\"],[\"Facebook>Instagram>Online Display>Online Video>Facebook>Instagram>Facebook>Instagram>Facebook>Online Video>Facebook>Online Video\"],[\"Facebook>Instagram>Online Video\"],[\"Facebook>Instagram>Online Video>Facebook>Instagram>Online Video\"],[\"Facebook>Instagram>Online Video>Instagram>Facebook>Instagram\"],[\"Facebook>Instagram>Online Video>Instagram>Online Video>Facebook>Instagram\"],[\"Facebook>Instagram>Online Video>Paid Search>Instagram>Paid Search>Instagram>Paid Search>Facebook>Paid Search>Facebook>Instagram>Paid Search>Facebook>Instagram>Facebook>Paid Search\"],[\"Facebook>Instagram>Online Video>Paid Search>Online Video>Facebook\"],[\"Facebook>Instagram>Paid Search\"],[\"Facebook>Instagram>Paid Search>Facebook\"],[\"Facebook>Instagram>Paid Search>Facebook>Instagram>Facebook>Instagram>Paid Search>Facebook>Paid Search>Instagram>Facebook>Instagram>Facebook>Instagram>Facebook\"],[\"Facebook>Instagram>Paid Search>Facebook>Instagram>Facebook>Paid Search>Facebook>Instagram\"],[\"Facebook>Instagram>Paid Search>Facebook>Instagram>Online Video>Facebook\"],[\"Facebook>Instagram>Paid Search>Facebook>Paid Search>Facebook>Paid Search>Facebook>Paid Search\"],[\"Facebook>Instagram>Paid Search>Instagram>Facebook\"],[\"Facebook>Instagram>Paid Search>Instagram>Facebook>Instagram\"],[\"Facebook>Instagram>Paid Search>Online Display>Paid Search>Instagram>Facebook\"],[\"Facebook>Instagram>Paid Search>Online Video\"],[\"Facebook>Online Display\"],[\"Facebook>Online Display>Facebook\"],[\"Facebook>Online Display>Facebook>Instagram>Facebook\"],[\"Facebook>Online Display>Facebook>Instagram>Facebook>Instagram>Facebook\"],[\"Facebook>Online Display>Facebook>Instagram>Facebook>Instagram>Facebook>Instagram\"],[\"Facebook>Online Display>Facebook>Instagram>Online Display\"],[\"Facebook>Online Display>Facebook>Online Display\"],[\"Facebook>Online Display>Facebook>Online Display>Facebook>Online Display>Instagram\"],[\"Facebook>Online Display>Facebook>Paid Search>Online Video>Facebook>Online Display>Online Video>Facebook>Instagram>Online Video>Facebook\"],[\"Facebook>Online Display>Instagram\"],[\"Facebook>Online Display>Instagram>Facebook>Instagram\"],[\"Facebook>Online Display>Instagram>Online Display\"],[\"Facebook>Online Display>Instagram>Online Display>Instagram>Facebook>Instagram>Facebook\"],[\"Facebook>Online Display>Instagram>Online Display>Paid Search>Online Display>Paid Search\"],[\"Facebook>Online Display>Paid Search\"],[\"Facebook>Online Display>Paid Search>Online Display>Paid Search>Facebook>Instagram>Facebook\"],[\"Facebook>Online Video\"],[\"Facebook>Online Video>Facebook\"],[\"Facebook>Online Video>Facebook>Instagram\"],[\"Facebook>Online Video>Facebook>Instagram>Facebook>Instagram>Facebook>Paid Search>Instagram>Facebook>Paid Search>Facebook>Instagram>Facebook>Instagram>Facebook>Instagram>Facebook>Instagram>Facebook>Paid Search\"],[\"Facebook>Online Video>Facebook>Instagram>Facebook>Instagram>Online Video\"],[\"Facebook>Online Video>Facebook>Instagram>Facebook>Online Video>Instagram>Facebook>Online Video>Instagram>Facebook>Online Video\"],[\"Facebook>Online Video>Facebook>Instagram>Online Video\"],[\"Facebook>Online Video>Facebook>Online Video\"],[\"Facebook>Online Video>Facebook>Online Video>Facebook>Instagram>Facebook\"],[\"Facebook>Online Video>Facebook>Online Video>Facebook>Instagram>Online Video\"],[\"Facebook>Online Video>Facebook>Online Video>Facebook>Online Video\"],[\"Facebook>Online Video>Facebook>Online Video>Facebook>Online Video>Instagram>Online Video>Instagram\"],[\"Facebook>Online Video>Facebook>Online Video>Facebook>Paid Search>Online Video>Facebook>Online Video>Paid Search>Online Video>Facebook>Online Video>Paid Search>Instagram>Facebook>Online Video\"],[\"Facebook>Online Video>Facebook>Paid Search\"],[\"Facebook>Online Video>Instagram\"],[\"Facebook>Online Video>Instagram>Facebook\"],[\"Facebook>Online Video>Instagram>Facebook>Instagram>Facebook\"],[\"Facebook>Online Video>Instagram>Online Video\"],[\"Facebook>Online Video>Instagram>Online Video>Facebook\"],[\"Facebook>Online Video>Online Display\"],[\"Facebook>Online Video>Paid Search\"],[\"Facebook>Online Video>Paid Search>Facebook>Online Video>Facebook\"],[\"Facebook>Online Video>Paid Search>Online Video\"],[\"Facebook>Online Video>Paid Search>Online Video>Paid Search\"],[\"Facebook>Online Video>Paid Search>Online Video>Paid Search>Online Video\"],[\"Facebook>Paid Search\"],[\"Facebook>Paid Search>Facebook\"],[\"Facebook>Paid Search>Facebook>Instagram\"],[\"Facebook>Paid Search>Facebook>Instagram>Facebook\"],[\"Facebook>Paid Search>Facebook>Instagram>Facebook>Instagram>Facebook\"],[\"Facebook>Paid Search>Facebook>Instagram>Facebook>Instagram>Facebook>Instagram>Facebook>Instagram\"],[\"Facebook>Paid Search>Facebook>Instagram>Facebook>Instagram>Facebook>Paid Search\"],[\"Facebook>Paid Search>Facebook>Instagram>Facebook>Instagram>Online Display>Instagram\"],[\"Facebook>Paid Search>Facebook>Instagram>Facebook>Instagram>Online Video\"],[\"Facebook>Paid Search>Facebook>Instagram>Facebook>Online Video>Facebook>Online Display\"],[\"Facebook>Paid Search>Facebook>Instagram>Paid Search>Facebook>Paid Search\"],[\"Facebook>Paid Search>Facebook>Online Display>Facebook\"],[\"Facebook>Paid Search>Facebook>Online Display>Facebook>Online Display>Instagram\"],[\"Facebook>Paid Search>Facebook>Online Video>Facebook\"],[\"Facebook>Paid Search>Facebook>Paid Search\"],[\"Facebook>Paid Search>Facebook>Paid Search>Facebook>Paid Search>Facebook>Instagram\"],[\"Facebook>Paid Search>Facebook>Paid Search>Facebook>Paid Search>Facebook>Paid Search>Facebook>Paid Search\"],[\"Facebook>Paid Search>Facebook>Paid Search>Online Video>Paid Search>Online Video>Paid Search\"],[\"Facebook>Paid Search>Instagram\"],[\"Facebook>Paid Search>Instagram>Facebook\"],[\"Facebook>Paid Search>Instagram>Facebook>Instagram\"],[\"Facebook>Paid Search>Instagram>Facebook>Instagram>Facebook>Instagram>Facebook\"],[\"Facebook>Paid Search>Instagram>Facebook>Online Video>Facebook>Instagram>Facebook\"],[\"Facebook>Paid Search>Instagram>Facebook>Paid Search>Online Video\"],[\"Facebook>Paid Search>Instagram>Online Display\"],[\"Facebook>Paid Search>Instagram>Paid Search\"],[\"Facebook>Paid Search>Instagram>Paid Search>Facebook\"],[\"Facebook>Paid Search>Online Display\"],[\"Facebook>Paid Search>Online Display>Facebook\"],[\"Facebook>Paid Search>Online Display>Facebook>Paid Search>Facebook>Paid Search\"],[\"Facebook>Paid Search>Online Display>Online Video\"],[\"Facebook>Paid Search>Online Display>Online Video>Instagram>Online Display\"],[\"Facebook>Paid Search>Online Display>Paid Search\"],[\"Facebook>Paid Search>Online Display>Paid Search>Facebook>Instagram>Facebook>Instagram\"],[\"Facebook>Paid Search>Online Video\"],[\"Facebook>Paid Search>Online Video>Facebook>Instagram\"],[\"Facebook>Paid Search>Online Video>Instagram>Facebook\"],[\"Instagram\"],[\"Instagram>Facebook\"],[\"Instagram>Facebook>Instagram\"],[\"Instagram>Facebook>Instagram>Facebook\"],[\"Instagram>Facebook>Instagram>Facebook>Instagram\"],[\"Instagram>Facebook>Instagram>Facebook>Instagram>Facebook\"],[\"Instagram>Facebook>Instagram>Facebook>Instagram>Facebook>Instagram\"],[\"Instagram>Facebook>Instagram>Facebook>Instagram>Facebook>Instagram>Facebook\"],[\"Instagram>Facebook>Instagram>Facebook>Instagram>Facebook>Instagram>Facebook>Instagram\"],[\"Instagram>Facebook>Instagram>Facebook>Instagram>Facebook>Instagram>Facebook>Instagram>Facebook\"],[\"Instagram>Facebook>Instagram>Facebook>Instagram>Facebook>Instagram>Facebook>Instagram>Facebook>Instagram\"],[\"Instagram>Facebook>Instagram>Facebook>Instagram>Facebook>Instagram>Facebook>Instagram>Facebook>Instagram>Facebook\"],[\"Instagram>Facebook>Instagram>Facebook>Instagram>Facebook>Instagram>Facebook>Instagram>Facebook>Instagram>Facebook>Instagram\"],[\"Instagram>Facebook>Instagram>Facebook>Instagram>Facebook>Instagram>Facebook>Instagram>Facebook>Instagram>Facebook>Instagram>Facebook>Instagram\"],[\"Instagram>Facebook>Instagram>Facebook>Instagram>Facebook>Instagram>Facebook>Instagram>Facebook>Instagram>Facebook>Instagram>Facebook>Instagram>Facebook>Instagram>Facebook\"],[\"Instagram>Facebook>Instagram>Facebook>Instagram>Facebook>Instagram>Facebook>Instagram>Facebook>Instagram>Facebook>Instagram>Facebook>Instagram>Facebook>Instagram>Facebook>Instagram>Facebook\"],[\"Instagram>Facebook>Instagram>Facebook>Instagram>Facebook>Instagram>Facebook>Instagram>Facebook>Instagram>Facebook>Instagram>Facebook>Instagram>Facebook>Instagram>Facebook>Instagram>Facebook>Instagram>Facebook>Instagram\"],[\"Instagram>Facebook>Instagram>Facebook>Instagram>Facebook>Instagram>Facebook>Instagram>Facebook>Instagram>Facebook>Instagram>Facebook>Instagram>Facebook>Instagram>Facebook>Instagram>Facebook>Instagram>Facebook>Instagram>Facebook>Instagram\"],[\"Instagram>Facebook>Instagram>Facebook>Instagram>Facebook>Instagram>Facebook>Instagram>Facebook>Instagram>Facebook>Instagram>Facebook>Instagram>Facebook>Instagram>Facebook>Instagram>Facebook>Instagram>Facebook>Instagram>Facebook>Instagram>Facebook>Instagram>Facebook\"],[\"Instagram>Facebook>Instagram>Facebook>Instagram>Facebook>Instagram>Facebook>Instagram>Facebook>Instagram>Facebook>Instagram>Facebook>Instagram>Facebook>Instagram>Facebook>Instagram>Facebook>Instagram>Facebook>Paid Search>Facebook>Instagram>Facebook>Instagram>Facebook\"],[\"Instagram>Facebook>Instagram>Facebook>Instagram>Facebook>Instagram>Facebook>Instagram>Facebook>Instagram>Facebook>Instagram>Facebook>Online Video>Facebook\"],[\"Instagram>Facebook>Instagram>Facebook>Instagram>Facebook>Instagram>Facebook>Instagram>Online Display\"],[\"Instagram>Facebook>Instagram>Facebook>Instagram>Facebook>Instagram>Facebook>Instagram>Paid Search>Facebook>Instagram>Facebook\"],[\"Instagram>Facebook>Instagram>Facebook>Instagram>Facebook>Instagram>Facebook>Paid Search>Facebook>Instagram>Facebook>Instagram>Facebook>Instagram>Facebook>Instagram>Facebook\"],[\"Instagram>Facebook>Instagram>Facebook>Instagram>Facebook>Online Display>Facebook\"],[\"Instagram>Facebook>Instagram>Facebook>Instagram>Facebook>Online Display>Paid Search\"],[\"Instagram>Facebook>Instagram>Facebook>Instagram>Facebook>Paid Search\"],[\"Instagram>Facebook>Instagram>Facebook>Instagram>Facebook>Paid Search>Facebook>Instagram>Facebook>Instagram\"],[\"Instagram>Facebook>Instagram>Facebook>Instagram>Online Display>Facebook>Instagram>Online Display>Facebook\"],[\"Instagram>Facebook>Instagram>Facebook>Instagram>Online Display>Instagram>Online Display>Instagram>Facebook>Online Display>Instagram>Paid Search>Facebook>Instagram>Facebook>Instagram\"],[\"Instagram>Facebook>Instagram>Facebook>Instagram>Paid Search>Instagram\"],[\"Instagram>Facebook>Instagram>Facebook>Online Display>Facebook\"],[\"Instagram>Facebook>Instagram>Facebook>Online Display>Facebook>Instagram>Facebook>Instagram>Facebook>Instagram>Facebook>Instagram>Facebook\"],[\"Instagram>Facebook>Instagram>Facebook>Online Display>Instagram\"],[\"Instagram>Facebook>Instagram>Facebook>Online Video\"],[\"Instagram>Facebook>Instagram>Facebook>Online Video>Paid Search>Instagram\"],[\"Instagram>Facebook>Instagram>Facebook>Paid Search\"],[\"Instagram>Facebook>Instagram>Facebook>Paid Search>Facebook\"],[\"Instagram>Facebook>Instagram>Facebook>Paid Search>Facebook>Instagram\"],[\"Instagram>Facebook>Instagram>Facebook>Paid Search>Facebook>Instagram>Facebook\"],[\"Instagram>Facebook>Instagram>Facebook>Paid Search>Facebook>Instagram>Facebook>Instagram\"],[\"Instagram>Facebook>Instagram>Facebook>Paid Search>Facebook>Instagram>Facebook>Paid Search>Facebook>Instagram>Facebook>Online Display\"],[\"Instagram>Facebook>Instagram>Facebook>Paid Search>Instagram\"],[\"Instagram>Facebook>Instagram>Online Display>Instagram\"],[\"Instagram>Facebook>Instagram>Online Display>Instagram>Online Display>Facebook>Instagram>Facebook\"],[\"Instagram>Facebook>Instagram>Online Video>Facebook\"],[\"Instagram>Facebook>Instagram>Online Video>Facebook>Paid Search>Instagram\"],[\"Instagram>Facebook>Instagram>Online Video>Instagram>Facebook>Online Video>Facebook>Instagram>Facebook>Instagram>Facebook>Online Video\"],[\"Instagram>Facebook>Instagram>Paid Search>Facebook\"],[\"Instagram>Facebook>Instagram>Paid Search>Instagram>Facebook>Instagram>Facebook>Instagram>Facebook>Instagram>Facebook>Instagram>Facebook>Instagram>Facebook>Instagram>Facebook>Instagram>Facebook>Instagram>Facebook>Instagram>Facebook>Instagram>Facebook>Instagram>Facebook>Instagram>Facebook>Instagram>Facebook>Instagram>Facebook>Instagram>Facebook>Instagram>Facebook>Instagram>Facebook>Instagram>Facebook>Instagram>Facebook>Instagram\"],[\"Instagram>Facebook>Instagram>Paid Search>Instagram>Facebook>Instagram>Paid Search>Facebook>Paid Search>Facebook>Paid Search>Facebook>Instagram>Facebook>Instagram>Facebook>Instagram>Facebook>Instagram>Facebook>Paid Search\"],[\"Instagram>Facebook>Instagram>Paid Search>Online Video>Facebook\"],[\"Instagram>Facebook>Online Display\"],[\"Instagram>Facebook>Online Display>Facebook\"],[\"Instagram>Facebook>Online Display>Facebook>Instagram\"],[\"Instagram>Facebook>Online Display>Facebook>Instagram>Facebook\"],[\"Instagram>Facebook>Online Display>Facebook>Instagram>Facebook>Instagram\"],[\"Instagram>Facebook>Online Display>Facebook>Instagram>Facebook>Instagram>Facebook>Instagram>Facebook>Instagram>Facebook>Instagram>Facebook>Instagram\"],[\"Instagram>Facebook>Online Display>Paid Search>Online Display\"],[\"Instagram>Facebook>Online Video\"],[\"Instagram>Facebook>Online Video>Instagram\"],[\"Instagram>Facebook>Online Video>Instagram>Facebook\"],[\"Instagram>Facebook>Online Video>Instagram>Facebook>Instagram\"],[\"Instagram>Facebook>Online Video>Instagram>Online Video\"],[\"Instagram>Facebook>Online Video>Instagram>Paid Search>Online Video>Facebook>Instagram\"],[\"Instagram>Facebook>Paid Search\"],[\"Instagram>Facebook>Paid Search>Facebook\"],[\"Instagram>Facebook>Paid Search>Facebook>Instagram\"],[\"Instagram>Facebook>Paid Search>Instagram\"],[\"Instagram>Facebook>Paid Search>Instagram>Facebook>Instagram>Facebook>Instagram>Facebook\"],[\"Instagram>Facebook>Paid Search>Online Display\"],[\"Instagram>Facebook>Paid Search>Online Display>Instagram\"],[\"Instagram>Facebook>Paid Search>Online Video\"],[\"Instagram>Facebook>Paid Search>Online Video>Paid Search>Facebook>Online Video>Paid Search>Facebook>Online Display\"],[\"Instagram>Online Display\"],[\"Instagram>Online Display>Facebook\"],[\"Instagram>Online Display>Facebook>Instagram>Facebook>Instagram>Online Display\"],[\"Instagram>Online Display>Facebook>Instagram>Online Display>Facebook>Online Display>Facebook\"],[\"Instagram>Online Display>Facebook>Online Display>Facebook\"],[\"Instagram>Online Display>Facebook>Online Display>Facebook>Paid Search>Facebook>Online Display>Facebook>Instagram>Facebook>Instagram>Facebook>Instagram\"],[\"Instagram>Online Display>Facebook>Online Video>Facebook\"],[\"Instagram>Online Display>Instagram\"],[\"Instagram>Online Display>Instagram>Facebook\"],[\"Instagram>Online Display>Instagram>Facebook>Instagram\"],[\"Instagram>Online Display>Instagram>Online Display>Facebook>Online Display>Facebook>Instagram>Facebook\"],[\"Instagram>Online Display>Online Video>Online Display\"],[\"Instagram>Online Display>Paid Search\"],[\"Instagram>Online Display>Paid Search>Facebook\"],[\"Instagram>Online Display>Paid Search>Instagram\"],[\"Instagram>Online Display>Paid Search>Online Display>Instagram>Online Display\"],[\"Instagram>Online Video\"],[\"Instagram>Online Video>Facebook\"],[\"Instagram>Online Video>Facebook>Instagram>Facebook>Online Video>Facebook>Instagram>Facebook>Online Video>Facebook\"],[\"Instagram>Online Video>Facebook>Online Video>Facebook\"],[\"Instagram>Online Video>Facebook>Online Video>Facebook>Online Video\"],[\"Instagram>Online Video>Facebook>Online Video>Facebook>Online Video>Instagram>Online Video>Facebook>Instagram>Online Video>Facebook>Online Video>Facebook\"],[\"Instagram>Online Video>Instagram\"],[\"Instagram>Online Video>Instagram>Facebook>Instagram>Online Video\"],[\"Instagram>Online Video>Instagram>Facebook>Online Video>Facebook\"],[\"Instagram>Online Video>Instagram>Online Video\"],[\"Instagram>Online Video>Paid Search>Online Video\"],[\"Instagram>Online Video>Paid Search>Online Video>Facebook\"],[\"Instagram>Online Video>Paid Search>Online Video>Paid Search\"],[\"Instagram>Paid Search\"],[\"Instagram>Paid Search>Facebook\"],[\"Instagram>Paid Search>Facebook>Instagram\"],[\"Instagram>Paid Search>Facebook>Instagram>Facebook\"],[\"Instagram>Paid Search>Facebook>Instagram>Facebook>Instagram\"],[\"Instagram>Paid Search>Facebook>Instagram>Facebook>Paid Search>Facebook>Instagram\"],[\"Instagram>Paid Search>Facebook>Instagram>Online Display>Instagram>Facebook\"],[\"Instagram>Paid Search>Facebook>Instagram>Paid Search\"],[\"Instagram>Paid Search>Facebook>Instagram>Paid Search>Facebook>Instagram>Facebook\"],[\"Instagram>Paid Search>Facebook>Online Video>Online Display\"],[\"Instagram>Paid Search>Facebook>Paid Search\"],[\"Instagram>Paid Search>Facebook>Paid Search>Facebook\"],[\"Instagram>Paid Search>Facebook>Paid Search>Online Display\"],[\"Instagram>Paid Search>Instagram\"],[\"Instagram>Paid Search>Instagram>Facebook\"],[\"Instagram>Paid Search>Instagram>Facebook>Instagram>Facebook>Instagram\"],[\"Instagram>Paid Search>Instagram>Facebook>Instagram>Paid Search\"],[\"Instagram>Paid Search>Instagram>Online Display>Facebook\"],[\"Instagram>Paid Search>Instagram>Paid Search>Instagram\"],[\"Instagram>Paid Search>Online Display>Facebook\"],[\"Instagram>Paid Search>Online Display>Paid Search>Facebook>Online Display>Facebook\"],[\"Instagram>Paid Search>Online Display>Paid Search>Instagram\"],[\"Instagram>Paid Search>Online Video\"],[\"Instagram>Paid Search>Online Video>Instagram\"],[\"Online Display\"],[\"Online Display>Facebook\"],[\"Online Display>Facebook>Instagram\"],[\"Online Display>Facebook>Instagram>Facebook\"],[\"Online Display>Facebook>Instagram>Facebook>Instagram>Facebook>Instagram>Facebook>Instagram\"],[\"Online Display>Facebook>Instagram>Facebook>Instagram>Facebook>Instagram>Facebook>Instagram>Facebook>Instagram\"],[\"Online Display>Facebook>Instagram>Facebook>Instagram>Online Display>Instagram>Online Display>Facebook>Paid Search>Facebook>Instagram>Paid Search\"],[\"Online Display>Facebook>Instagram>Facebook>Online Display\"],[\"Online Display>Facebook>Instagram>Facebook>Online Display>Facebook>Online Display>Instagram>Online Display>Facebook>Online Display>Facebook>Online Display>Facebook>Online Display>Facebook>Online Display>Facebook>Online Display>Paid Search>Facebook>Instagram>Online Display>Paid Search\"],[\"Online Display>Facebook>Instagram>Facebook>Paid Search\"],[\"Online Display>Facebook>Instagram>Online Display\"],[\"Online Display>Facebook>Instagram>Online Display>Facebook>Online Display>Instagram>Facebook>Online Display>Facebook>Instagram>Facebook>Instagram>Facebook>Instagram\"],[\"Online Display>Facebook>Instagram>Online Display>Paid Search>Facebook\"],[\"Online Display>Facebook>Instagram>Online Video>Online Display\"],[\"Online Display>Facebook>Instagram>Paid Search\"],[\"Online Display>Facebook>Online Display\"],[\"Online Display>Facebook>Online Display>Facebook>Instagram\"],[\"Online Display>Facebook>Online Display>Facebook>Paid Search>Online Display\"],[\"Online Display>Facebook>Online Display>Instagram>Paid Search>Online Display>Paid Search>Online Video>Facebook>Instagram>Facebook>Instagram>Facebook>Instagram>Facebook>Instagram>Facebook>Online Display>Facebook>Instagram\"],[\"Online Display>Facebook>Online Video\"],[\"Online Display>Facebook>Online Video>Paid Search\"],[\"Online Display>Facebook>Paid Search\"],[\"Online Display>Facebook>Paid Search>Facebook\"],[\"Online Display>Facebook>Paid Search>Facebook>Instagram>Facebook>Instagram>Facebook>Instagram>Facebook\"],[\"Online Display>Facebook>Paid Search>Facebook>Paid Search\"],[\"Online Display>Facebook>Paid Search>Instagram\"],[\"Online Display>Facebook>Paid Search>Instagram>Online Display\"],[\"Online Display>Facebook>Paid Search>Instagram>Paid Search>Facebook>Paid Search\"],[\"Online Display>Instagram\"],[\"Online Display>Instagram>Facebook\"],[\"Online Display>Instagram>Facebook>Instagram\"],[\"Online Display>Instagram>Facebook>Instagram>Facebook>Instagram>Facebook\"],[\"Online Display>Instagram>Facebook>Instagram>Facebook>Instagram>Facebook>Instagram\"],[\"Online Display>Instagram>Facebook>Instagram>Online Display>Facebook\"],[\"Online Display>Instagram>Facebook>Paid Search>Online Display\"],[\"Online Display>Instagram>Facebook>Paid Search>Online Display>Paid Search\"],[\"Online Display>Instagram>Online Display\"],[\"Online Display>Instagram>Paid Search\"],[\"Online Display>Instagram>Paid Search>Online Display\"],[\"Online Display>Online Video\"],[\"Online Display>Online Video>Facebook\"],[\"Online Display>Online Video>Facebook>Instagram\"],[\"Online Display>Online Video>Facebook>Online Video\"],[\"Online Display>Online Video>Facebook>Online Video>Paid Search>Online Display>Online Video>Online Display>Online Video\"],[\"Online Display>Online Video>Instagram>Facebook\"],[\"Online Display>Online Video>Instagram>Online Video\"],[\"Online Display>Online Video>Online Display\"],[\"Online Display>Online Video>Online Display>Online Video>Online Display>Online Video\"],[\"Online Display>Online Video>Online Display>Paid Search\"],[\"Online Display>Online Video>Paid Search\"],[\"Online Display>Paid Search\"],[\"Online Display>Paid Search>Facebook\"],[\"Online Display>Paid Search>Facebook>Instagram\"],[\"Online Display>Paid Search>Facebook>Online Display\"],[\"Online Display>Paid Search>Facebook>Online Display>Online Video>Facebook>Instagram>Facebook>Online Video>Facebook\"],[\"Online Display>Paid Search>Facebook>Online Display>Paid Search\"],[\"Online Display>Paid Search>Facebook>Online Video\"],[\"Online Display>Paid Search>Instagram\"],[\"Online Display>Paid Search>Instagram>Facebook>Paid Search>Facebook\"],[\"Online Display>Paid Search>Instagram>Facebook>Paid Search>Facebook>Paid Search>Online Display>Paid Search>Online Display\"],[\"Online Display>Paid Search>Instagram>Facebook>Paid Search>Instagram>Facebook\"],[\"Online Display>Paid Search>Instagram>Online Display\"],[\"Online Display>Paid Search>Instagram>Online Display>Instagram>Facebook>Instagram>Online Display\"],[\"Online Display>Paid Search>Online Display\"],[\"Online Display>Paid Search>Online Display>Facebook>Instagram\"],[\"Online Display>Paid Search>Online Display>Instagram\"],[\"Online Display>Paid Search>Online Display>Instagram>Facebook>Instagram>Facebook>Paid Search\"],[\"Online Display>Paid Search>Online Display>Instagram>Online Display\"],[\"Online Display>Paid Search>Online Display>Online Video>Online Display>Paid Search\"],[\"Online Display>Paid Search>Online Display>Online Video>Paid Search>Facebook>Instagram\"],[\"Online Display>Paid Search>Online Display>Online Video>Paid Search>Online Video\"],[\"Online Display>Paid Search>Online Display>Paid Search\"],[\"Online Display>Paid Search>Online Display>Paid Search>Facebook>Paid Search\"],[\"Online Display>Paid Search>Online Display>Paid Search>Online Display\"],[\"Online Display>Paid Search>Online Display>Paid Search>Online Display>Instagram\"],[\"Online Display>Paid Search>Online Display>Paid Search>Online Display>Paid Search\"],[\"Online Display>Paid Search>Online Video\"],[\"Online Display>Paid Search>Online Video>Facebook>Online Display\"],[\"Online Display>Paid Search>Online Video>Online Display>Paid Search\"],[\"Online Video\"],[\"Online Video>Facebook\"],[\"Online Video>Facebook>Instagram\"],[\"Online Video>Facebook>Instagram>Facebook\"],[\"Online Video>Facebook>Instagram>Facebook>Instagram\"],[\"Online Video>Facebook>Instagram>Facebook>Instagram>Facebook\"],[\"Online Video>Facebook>Instagram>Facebook>Instagram>Facebook>Instagram>Online Video>Facebook>Instagram>Facebook>Instagram>Facebook>Instagram>Facebook>Instagram>Facebook>Instagram>Facebook>Instagram>Facebook\"],[\"Online Video>Facebook>Instagram>Facebook>Instagram>Facebook>Online Video>Facebook>Instagram>Facebook>Online Video>Facebook>Instagram>Facebook>Online Video>Facebook>Instagram>Facebook>Instagram\"],[\"Online Video>Facebook>Instagram>Facebook>Online Video>Facebook>Online Video>Instagram>Facebook\"],[\"Online Video>Facebook>Instagram>Facebook>Online Video>Facebook>Online Video>Instagram>Online Video>Facebook>Online Video\"],[\"Online Video>Facebook>Instagram>Online Video\"],[\"Online Video>Facebook>Instagram>Online Video>Facebook\"],[\"Online Video>Facebook>Instagram>Paid Search>Facebook>Instagram>Facebook>Instagram>Facebook>Instagram>Online Video>Facebook>Instagram>Facebook>Instagram>Facebook>Instagram>Facebook>Instagram>Online Video>Facebook>Online Video>Facebook>Paid Search\"],[\"Online Video>Facebook>Instagram>Paid Search>Online Video>Paid Search>Instagram\"],[\"Online Video>Facebook>Online Display\"],[\"Online Video>Facebook>Online Display>Online Video>Facebook>Online Display\"],[\"Online Video>Facebook>Online Video\"],[\"Online Video>Facebook>Online Video>Facebook\"],[\"Online Video>Facebook>Online Video>Facebook>Instagram\"],[\"Online Video>Facebook>Online Video>Facebook>Online Video\"],[\"Online Video>Facebook>Online Video>Facebook>Online Video>Facebook\"],[\"Online Video>Facebook>Online Video>Facebook>Online Video>Instagram>Facebook\"],[\"Online Video>Facebook>Online Video>Facebook>Online Video>Paid Search\"],[\"Online Video>Facebook>Online Video>Instagram\"],[\"Online Video>Facebook>Online Video>Instagram>Facebook\"],[\"Online Video>Facebook>Online Video>Instagram>Online Video\"],[\"Online Video>Facebook>Online Video>Instagram>Online Video>Facebook\"],[\"Online Video>Facebook>Online Video>Paid Search\"],[\"Online Video>Facebook>Online Video>Paid Search>Online Video>Paid Search>Online Video>Online Display\"],[\"Online Video>Facebook>Paid Search\"],[\"Online Video>Facebook>Paid Search>Facebook>Paid Search\"],[\"Online Video>Facebook>Paid Search>Instagram>Facebook\"],[\"Online Video>Facebook>Paid Search>Online Video>Paid Search>Online Video>Paid Search>Facebook\"],[\"Online Video>Instagram\"],[\"Online Video>Instagram>Facebook\"],[\"Online Video>Instagram>Facebook>Instagram>Facebook>Instagram\"],[\"Online Video>Instagram>Facebook>Instagram>Online Video>Facebook>Online Video\"],[\"Online Video>Instagram>Facebook>Online Video\"],[\"Online Video>Instagram>Facebook>Online Video>Facebook\"],[\"Online Video>Instagram>Facebook>Online Video>Instagram>Facebook\"],[\"Online Video>Instagram>Online Display\"],[\"Online Video>Instagram>Online Video\"],[\"Online Video>Instagram>Online Video>Facebook\"],[\"Online Video>Instagram>Online Video>Facebook>Instagram\"],[\"Online Video>Instagram>Online Video>Facebook>Instagram>Facebook>Online Display>Facebook>Instagram\"],[\"Online Video>Instagram>Online Video>Facebook>Online Video\"],[\"Online Video>Instagram>Online Video>Facebook>Online Video>Facebook\"],[\"Online Video>Instagram>Online Video>Facebook>Online Video>Facebook>Online Video>Instagram>Online Video\"],[\"Online Video>Instagram>Online Video>Instagram\"],[\"Online Video>Instagram>Online Video>Instagram>Facebook>Instagram>Facebook>Online Video>Facebook>Online Video>Instagram>Facebook>Online Video>Facebook>Online Video>Facebook>Instagram>Facebook>Instagram>Facebook\"],[\"Online Video>Instagram>Online Video>Instagram>Facebook>Instagram>Online Video>Facebook\"],[\"Online Video>Instagram>Online Video>Online Display>Online Video\"],[\"Online Video>Instagram>Online Video>Paid Search\"],[\"Online Video>Instagram>Online Video>Paid Search>Online Video>Paid Search>Online Video>Facebook\"],[\"Online Video>Instagram>Paid Search>Online Video>Online Display>Online Video\"],[\"Online Video>Online Display\"],[\"Online Video>Online Display>Facebook\"],[\"Online Video>Online Display>Facebook>Instagram\"],[\"Online Video>Online Display>Instagram>Online Display\"],[\"Online Video>Online Display>Online Video\"],[\"Online Video>Online Display>Online Video>Facebook>Online Video\"],[\"Online Video>Online Display>Online Video>Instagram>Online Video\"],[\"Online Video>Online Display>Online Video>Paid Search\"],[\"Online Video>Online Display>Paid Search>Online Video\"],[\"Online Video>Paid Search\"],[\"Online Video>Paid Search>Facebook\"],[\"Online Video>Paid Search>Facebook>Online Video\"],[\"Online Video>Paid Search>Facebook>Online Video>Paid Search>Online Video\"],[\"Online Video>Paid Search>Facebook>Paid Search>Online Video>Paid Search>Online Video\"],[\"Online Video>Paid Search>Online Display>Paid Search>Online Video>Online Display>Online Video\"],[\"Online Video>Paid Search>Online Video\"],[\"Online Video>Paid Search>Online Video>Facebook\"],[\"Online Video>Paid Search>Online Video>Facebook>Instagram>Online Video\"],[\"Online Video>Paid Search>Online Video>Facebook>Online Video\"],[\"Online Video>Paid Search>Online Video>Facebook>Online Video>Facebook>Online Video>Facebook\"],[\"Online Video>Paid Search>Online Video>Instagram>Paid Search\"],[\"Online Video>Paid Search>Online Video>Online Display>Online Video>Online Display>Online Video>Online Display>Online Video>Online Display\"],[\"Online Video>Paid Search>Online Video>Paid Search\"],[\"Online Video>Paid Search>Online Video>Paid Search>Online Video\"],[\"Online Video>Paid Search>Online Video>Paid Search>Online Video>Instagram>Online Video>Facebook>Paid Search>Online Display>Facebook>Online Video>Facebook\"],[\"Online Video>Paid Search>Online Video>Paid Search>Online Video>Paid Search\"],[\"Online Video>Paid Search>Online Video>Paid Search>Online Video>Paid Search>Online Video>Paid Search\"],[\"Paid Search\"],[\"Paid Search>Facebook\"],[\"Paid Search>Facebook>Instagram\"],[\"Paid Search>Facebook>Instagram>Facebook\"],[\"Paid Search>Facebook>Instagram>Facebook>Instagram\"],[\"Paid Search>Facebook>Instagram>Facebook>Instagram>Facebook\"],[\"Paid Search>Facebook>Instagram>Facebook>Instagram>Facebook>Instagram>Facebook>Instagram>Facebook>Instagram\"],[\"Paid Search>Facebook>Instagram>Facebook>Instagram>Facebook>Instagram>Facebook>Instagram>Facebook>Instagram>Facebook\"],[\"Paid Search>Facebook>Instagram>Facebook>Instagram>Facebook>Instagram>Facebook>Instagram>Paid Search>Facebook>Instagram>Facebook>Instagram>Facebook>Instagram>Facebook>Instagram>Facebook>Instagram>Facebook>Instagram>Facebook\"],[\"Paid Search>Facebook>Instagram>Facebook>Instagram>Facebook>Instagram>Paid Search>Facebook>Instagram>Facebook>Instagram>Facebook>Instagram>Facebook>Instagram\"],[\"Paid Search>Facebook>Instagram>Facebook>Instagram>Paid Search>Instagram>Facebook>Instagram>Facebook>Instagram>Facebook>Paid Search\"],[\"Paid Search>Facebook>Instagram>Facebook>Online Video>Facebook\"],[\"Paid Search>Facebook>Instagram>Facebook>Paid Search>Facebook>Instagram\"],[\"Paid Search>Facebook>Instagram>Online Video>Facebook\"],[\"Paid Search>Facebook>Online Display\"],[\"Paid Search>Facebook>Online Display>Facebook\"],[\"Paid Search>Facebook>Online Display>Instagram\"],[\"Paid Search>Facebook>Online Display>Instagram>Online Display>Facebook>Instagram\"],[\"Paid Search>Facebook>Online Display>Online Video\"],[\"Paid Search>Facebook>Online Display>Paid Search\"],[\"Paid Search>Facebook>Online Display>Paid Search>Online Display\"],[\"Paid Search>Facebook>Online Video\"],[\"Paid Search>Facebook>Online Video>Facebook\"],[\"Paid Search>Facebook>Online Video>Instagram\"],[\"Paid Search>Facebook>Online Video>Instagram>Paid Search\"],[\"Paid Search>Facebook>Online Video>Paid Search>Facebook>Online Video\"],[\"Paid Search>Facebook>Online Video>Paid Search>Instagram>Facebook>Online Video>Instagram>Facebook\"],[\"Paid Search>Facebook>Paid Search\"],[\"Paid Search>Facebook>Paid Search>Facebook\"],[\"Paid Search>Facebook>Paid Search>Facebook>Instagram\"],[\"Paid Search>Facebook>Paid Search>Facebook>Instagram>Facebook>Instagram\"],[\"Paid Search>Facebook>Paid Search>Facebook>Instagram>Online Display>Paid Search\"],[\"Paid Search>Facebook>Paid Search>Facebook>Instagram>Paid Search>Facebook>Paid Search>Online Video>Paid Search>Facebook>Instagram>Paid Search>Instagram>Facebook>Instagram>Paid Search>Facebook\"],[\"Paid Search>Facebook>Paid Search>Facebook>Paid Search\"],[\"Paid Search>Facebook>Paid Search>Facebook>Paid Search>Facebook>Instagram>Facebook\"],[\"Paid Search>Facebook>Paid Search>Instagram\"],[\"Paid Search>Facebook>Paid Search>Instagram>Facebook\"],[\"Paid Search>Facebook>Paid Search>Instagram>Facebook>Instagram>Facebook>Instagram>Facebook>Instagram>Facebook>Instagram\"],[\"Paid Search>Facebook>Paid Search>Instagram>Facebook>Instagram>Facebook>Instagram>Paid Search>Facebook\"],[\"Paid Search>Facebook>Paid Search>Instagram>Facebook>Instagram>Facebook>Online Display\"],[\"Paid Search>Facebook>Paid Search>Instagram>Facebook>Instagram>Paid Search>Instagram>Facebook>Instagram>Paid Search\"],[\"Paid Search>Facebook>Paid Search>Online Display\"],[\"Paid Search>Facebook>Paid Search>Online Display>Facebook\"],[\"Paid Search>Instagram\"],[\"Paid Search>Instagram>Facebook\"],[\"Paid Search>Instagram>Facebook>Instagram\"],[\"Paid Search>Instagram>Facebook>Instagram>Facebook\"],[\"Paid Search>Instagram>Facebook>Instagram>Facebook>Instagram\"],[\"Paid Search>Instagram>Facebook>Online Display>Facebook>Instagram>Facebook>Instagram>Facebook>Instagram\"],[\"Paid Search>Instagram>Facebook>Paid Search\"],[\"Paid Search>Instagram>Facebook>Paid Search>Online Display>Facebook>Online Display\"],[\"Paid Search>Instagram>Online Display\"],[\"Paid Search>Instagram>Online Video\"],[\"Paid Search>Instagram>Paid Search\"],[\"Paid Search>Instagram>Paid Search>Facebook>Instagram>Facebook\"],[\"Paid Search>Instagram>Paid Search>Instagram\"],[\"Paid Search>Instagram>Paid Search>Instagram>Facebook\"],[\"Paid Search>Instagram>Paid Search>Online Display\"],[\"Paid Search>Instagram>Paid Search>Online Display>Paid Search\"],[\"Paid Search>Online Display\"],[\"Paid Search>Online Display>Facebook\"],[\"Paid Search>Online Display>Facebook>Paid Search>Instagram>Facebook>Online Display>Facebook\"],[\"Paid Search>Online Display>Facebook>Paid Search>Online Display>Paid Search>Facebook\"],[\"Paid Search>Online Display>Instagram\"],[\"Paid Search>Online Display>Instagram>Facebook\"],[\"Paid Search>Online Display>Instagram>Facebook>Instagram>Facebook>Instagram>Facebook\"],[\"Paid Search>Online Display>Instagram>Facebook>Instagram>Facebook>Online Display>Facebook>Paid Search>Online Display>Paid Search>Facebook>Paid Search>Instagram>Facebook>Online Display>Paid Search\"],[\"Paid Search>Online Display>Instagram>Online Display\"],[\"Paid Search>Online Display>Online Video>Paid Search\"],[\"Paid Search>Online Display>Paid Search\"],[\"Paid Search>Online Display>Paid Search>Facebook>Instagram>Facebook>Online Display>Facebook>Instagram>Facebook>Instagram>Facebook\"],[\"Paid Search>Online Display>Paid Search>Online Display\"],[\"Paid Search>Online Display>Paid Search>Online Display>Facebook>Online Display>Paid Search\"],[\"Paid Search>Online Display>Paid Search>Online Display>Instagram\"],[\"Paid Search>Online Display>Paid Search>Online Display>Online Video\"],[\"Paid Search>Online Display>Paid Search>Online Display>Paid Search\"],[\"Paid Search>Online Display>Paid Search>Online Video\"],[\"Paid Search>Online Video\"],[\"Paid Search>Online Video>Facebook\"],[\"Paid Search>Online Video>Facebook>Online Video\"],[\"Paid Search>Online Video>Facebook>Online Video>Facebook>Online Video>Facebook>Instagram>Facebook>Instagram>Facebook>Instagram\"],[\"Paid Search>Online Video>Facebook>Paid Search\"],[\"Paid Search>Online Video>Instagram\"],[\"Paid Search>Online Video>Instagram>Facebook>Instagram>Facebook>Online Video\"],[\"Paid Search>Online Video>Online Display\"],[\"Paid Search>Online Video>Paid Search\"],[\"Paid Search>Online Video>Paid Search>Facebook>Online Video\"],[\"Paid Search>Online Video>Paid Search>Online Video\"],[\"Paid Search>Online Video>Paid Search>Online Video>Paid Search\"]],\"hovertemplate\":\"path_count=%{x}<br>conversion=%{y}<br>conversion_rate=%{marker.color}<br>path=%{customdata[0]}<extra></extra>\",\"legendgroup\":\"\",\"marker\":{\"color\":[0.0655351374251972,0.0684701939190806,0.0564186426819296,0.0993031358885017,0.0736086175942549,0.0774193548387096,0.080188679245283,0.2285714285714285,0.1318681318681318,0.2,0.0338983050847457,0.0909090909090909,0.0384615384615384,0.25,0.1,0.2,0.1818181818181818,0.2,0.3333333333333333,1.0,1.0,1.0,1.0,0.5,0.25,1.0,1.0,0.25,0.2,0.1428571428571428,1.0,0.25,0.5,0.0666666666666666,1.0,1.0,0.5,1.0,1.0,1.0,1.0,0.5,1.0,0.0416666666666666,0.1666666666666666,1.0,0.064516129032258,0.1428571428571428,1.0,1.0,0.0606060606060606,0.0263157894736842,0.1666666666666666,0.1666666666666666,1.0,0.1111111111111111,0.3333333333333333,0.5,1.0,1.0,0.0806451612903225,0.0526315789473684,1.0,0.125,1.0,1.0,0.0617283950617283,0.5,0.5,1.0,1.0,1.0,0.072992700729927,0.0303030303030303,1.0,1.0,1.0,0.6666666666666666,0.2,1.0,1.0,0.25,0.0542521994134897,0.0129870129870129,0.1428571428571428,0.25,0.6666666666666666,0.3333333333333333,0.05,1.0,1.0,0.0625,0.3333333333333333,0.1333333333333333,1.0,1.0,0.0769230769230769,1.0,0.0502577319587628,0.0698924731182795,0.04,1.0,1.0,1.0,0.2857142857142857,0.025,0.5,1.0,0.3333333333333333,1.0,1.0,0.2,0.1578947368421052,0.0416666666666666,0.2,0.0833333333333333,0.25,0.1538461538461538,0.09375,1.0,0.1176470588235294,1.0,0.3333333333333333,0.0444596443228454,0.0641975308641975,0.015625,0.0697674418604651,0.1111111111111111,0.5,1.0,1.0,1.0,1.0,1.0,0.2,1.0,0.1666666666666666,0.1666666666666666,1.0,1.0,1.0,0.0448717948717948,0.0238095238095238,0.0769230769230769,0.5,1.0,1.0,0.25,0.4,0.3333333333333333,0.0151515151515151,0.125,1.0,0.25,1.0,0.2142857142857142,1.0,0.0638297872340425,0.3333333333333333,0.2,0.0602189781021897,0.0497165991902834,0.0929602888086642,0.079702444208289,0.1038961038961039,0.0785714285714285,0.2150537634408602,0.0666666666666666,0.1794871794871795,0.125,0.2272727272727272,0.0789473684210526,0.1111111111111111,0.1666666666666666,0.5,0.1666666666666666,0.5,0.3333333333333333,1.0,1.0,1.0,1.0,1.0,1.0,0.5,1.0,0.1666666666666666,1.0,1.0,1.0,0.5,0.25,1.0,0.5,0.2222222222222222,1.0,0.0666666666666666,0.1,0.2,0.3333333333333333,1.0,1.0,0.3333333333333333,0.3333333333333333,1.0,0.1428571428571428,1.0,1.0,0.1578947368421052,1.0,1.0,1.0,0.0808080808080808,0.1052631578947368,0.1666666666666666,0.1428571428571428,0.5,1.0,0.2,0.1071428571428571,0.1,0.1,0.6666666666666666,0.3333333333333333,1.0,0.0864864864864864,0.0769230769230769,0.0769230769230769,0.1,0.5,0.1666666666666666,1.0,0.125,1.0,0.0416666666666666,0.1111111111111111,1.0,1.0,0.1666666666666666,1.0,1.0,0.037037037037037,0.0909090909090909,0.2,1.0,0.5,0.125,0.3333333333333333,1.0,1.0,0.0629722921914357,0.064516129032258,1.0,0.3333333333333333,0.5,1.0,0.0526315789473684,1.0,1.0,0.25,0.1818181818181818,0.5,0.5,0.057057057057057,0.0769230769230769,0.0416666666666666,0.0526315789473684,0.1666666666666666,1.0,1.0,0.25,0.3333333333333333,0.5,0.1666666666666666,0.0909090909090909,0.5,0.0597014925373134,0.048780487804878,1.0,1.0,1.0,1.0,0.1666666666666666,1.0,0.5,0.0416666666666666,0.3333333333333333,0.0470441623179375,0.041860465116279,0.1212121212121212,0.1,1.0,1.0,1.0,0.25,1.0,1.0,0.0526315789473684,1.0,1.0,1.0,0.4,0.0380434782608695,0.1666666666666666,0.5,1.0,0.0454545454545454,0.5,0.0652173913043478,0.0769230769230769,1.0,0.5,0.2,0.5,1.0,0.0530973451327433,0.0566037735849056,0.1,1.0,0.3333333333333333,1.0,0.4,1.0,0.0735294117647058,0.0454545454545454,0.2,0.0465116279069767,0.0666666666666666,1.0,0.25,1.0,0.6666666666666666,0.3333333333333333,0.0806451612903225,0.25,0.125,0.0588235294117647,0.0512249443207126,0.0549450549450549,0.25,0.0555555555555555,1.0,0.3333333333333333,1.0,0.0571428571428571,1.0,1.0,1.0,0.1428571428571428,1.0,0.0428994082840236,0.2,0.1,1.0,0.5,1.0,1.0,1.0,0.040650406504065,1.0,0.0512820512820512,1.0,0.0714285714285714,0.1176470588235294,1.0,0.25,0.0498620194306883,0.0503211991434689,0.074074074074074,0.0588235294117647,0.2,0.3333333333333333,1.0,1.0,1.0,1.0,0.05,0.1111111111111111,1.0,1.0,0.1111111111111111,1.0,0.0544871794871794,0.048780487804878,0.2857142857142857,0.1379310344827586,0.1666666666666666,0.3333333333333333,0.5,0.1034482758620689,0.0909090909090909,0.25,0.5,0.3333333333333333,1.0,0.1333333333333333,1.0,1.0,1.0,0.0773638968481375,0.0612244897959183,1.0,1.0,0.0769230769230769,0.2,0.5,0.1428571428571428,0.112,0.1739130434782608,1.0,1.0,0.0769230769230769,0.5,1.0,0.1111111111111111,1.0,1.0,1.0,0.125,1.0,1.0,0.0536912751677852,0.0769230769230769,0.3333333333333333,1.0,0.02803738317757,0.4,1.0,0.6,0.1428571428571428,0.0588972431077694,0.1142857142857142,0.125,1.0,1.0,1.0,0.0474934036939313,0.1428571428571428,0.5,0.0909090909090909,1.0,1.0,1.0,0.0681818181818181,0.1470588235294117,1.0,0.125,0.5,0.0605684993382213,0.0448215839860748,0.0456140350877193,0.062111801242236,0.0416666666666666,0.125,1.0,0.5,1.0,1.0,1.0,0.3333333333333333,1.0,0.5,0.0491803278688524,0.1111111111111111,0.25,1.0,0.5,0.1428571428571428,0.2,0.0377358490566037,0.125,0.3333333333333333,0.5,1.0,1.0,0.0636363636363636,0.0843373493975903,0.0909090909090909,0.5,1.0,1.0,0.1818181818181818,1.0,0.0869565217391304,0.1538461538461538,1.0,1.0,1.0,1.0,0.0769230769230769,0.3333333333333333,0.046594982078853,0.0528169014084507,0.1020408163265306,0.0909090909090909,0.1818181818181818,1.0,0.0434782608695652,1.0,0.0833333333333333,0.1111111111111111,0.0875,0.5,0.1875,0.2,0.1666666666666666,1.0,0.0486680327868852,0.0294117647058823,1.0,1.0,0.027027027027027,0.1111111111111111,0.5,1.0,0.1428571428571428,0.2,0.0664739884393063,1.0,0.053030303030303,1.0,0.5,0.5,0.0606060606060606,0.25,0.0375426621160409,0.0533333333333333,0.0714285714285714,1.0,0.5,0.0625,1.0,0.0454545454545454,0.032520325203252,1.0,0.0394736842105263,0.0909090909090909],\"coloraxis\":\"coloraxis\",\"size\":[0.0655351374251972,0.0684701939190806,0.0564186426819296,0.0993031358885017,0.0736086175942549,0.0774193548387096,0.080188679245283,0.2285714285714285,0.1318681318681318,0.2,0.0338983050847457,0.0909090909090909,0.0384615384615384,0.25,0.1,0.2,0.1818181818181818,0.2,0.3333333333333333,1.0,1.0,1.0,1.0,0.5,0.25,1.0,1.0,0.25,0.2,0.1428571428571428,1.0,0.25,0.5,0.0666666666666666,1.0,1.0,0.5,1.0,1.0,1.0,1.0,0.5,1.0,0.0416666666666666,0.1666666666666666,1.0,0.064516129032258,0.1428571428571428,1.0,1.0,0.0606060606060606,0.0263157894736842,0.1666666666666666,0.1666666666666666,1.0,0.1111111111111111,0.3333333333333333,0.5,1.0,1.0,0.0806451612903225,0.0526315789473684,1.0,0.125,1.0,1.0,0.0617283950617283,0.5,0.5,1.0,1.0,1.0,0.072992700729927,0.0303030303030303,1.0,1.0,1.0,0.6666666666666666,0.2,1.0,1.0,0.25,0.0542521994134897,0.0129870129870129,0.1428571428571428,0.25,0.6666666666666666,0.3333333333333333,0.05,1.0,1.0,0.0625,0.3333333333333333,0.1333333333333333,1.0,1.0,0.0769230769230769,1.0,0.0502577319587628,0.0698924731182795,0.04,1.0,1.0,1.0,0.2857142857142857,0.025,0.5,1.0,0.3333333333333333,1.0,1.0,0.2,0.1578947368421052,0.0416666666666666,0.2,0.0833333333333333,0.25,0.1538461538461538,0.09375,1.0,0.1176470588235294,1.0,0.3333333333333333,0.0444596443228454,0.0641975308641975,0.015625,0.0697674418604651,0.1111111111111111,0.5,1.0,1.0,1.0,1.0,1.0,0.2,1.0,0.1666666666666666,0.1666666666666666,1.0,1.0,1.0,0.0448717948717948,0.0238095238095238,0.0769230769230769,0.5,1.0,1.0,0.25,0.4,0.3333333333333333,0.0151515151515151,0.125,1.0,0.25,1.0,0.2142857142857142,1.0,0.0638297872340425,0.3333333333333333,0.2,0.0602189781021897,0.0497165991902834,0.0929602888086642,0.079702444208289,0.1038961038961039,0.0785714285714285,0.2150537634408602,0.0666666666666666,0.1794871794871795,0.125,0.2272727272727272,0.0789473684210526,0.1111111111111111,0.1666666666666666,0.5,0.1666666666666666,0.5,0.3333333333333333,1.0,1.0,1.0,1.0,1.0,1.0,0.5,1.0,0.1666666666666666,1.0,1.0,1.0,0.5,0.25,1.0,0.5,0.2222222222222222,1.0,0.0666666666666666,0.1,0.2,0.3333333333333333,1.0,1.0,0.3333333333333333,0.3333333333333333,1.0,0.1428571428571428,1.0,1.0,0.1578947368421052,1.0,1.0,1.0,0.0808080808080808,0.1052631578947368,0.1666666666666666,0.1428571428571428,0.5,1.0,0.2,0.1071428571428571,0.1,0.1,0.6666666666666666,0.3333333333333333,1.0,0.0864864864864864,0.0769230769230769,0.0769230769230769,0.1,0.5,0.1666666666666666,1.0,0.125,1.0,0.0416666666666666,0.1111111111111111,1.0,1.0,0.1666666666666666,1.0,1.0,0.037037037037037,0.0909090909090909,0.2,1.0,0.5,0.125,0.3333333333333333,1.0,1.0,0.0629722921914357,0.064516129032258,1.0,0.3333333333333333,0.5,1.0,0.0526315789473684,1.0,1.0,0.25,0.1818181818181818,0.5,0.5,0.057057057057057,0.0769230769230769,0.0416666666666666,0.0526315789473684,0.1666666666666666,1.0,1.0,0.25,0.3333333333333333,0.5,0.1666666666666666,0.0909090909090909,0.5,0.0597014925373134,0.048780487804878,1.0,1.0,1.0,1.0,0.1666666666666666,1.0,0.5,0.0416666666666666,0.3333333333333333,0.0470441623179375,0.041860465116279,0.1212121212121212,0.1,1.0,1.0,1.0,0.25,1.0,1.0,0.0526315789473684,1.0,1.0,1.0,0.4,0.0380434782608695,0.1666666666666666,0.5,1.0,0.0454545454545454,0.5,0.0652173913043478,0.0769230769230769,1.0,0.5,0.2,0.5,1.0,0.0530973451327433,0.0566037735849056,0.1,1.0,0.3333333333333333,1.0,0.4,1.0,0.0735294117647058,0.0454545454545454,0.2,0.0465116279069767,0.0666666666666666,1.0,0.25,1.0,0.6666666666666666,0.3333333333333333,0.0806451612903225,0.25,0.125,0.0588235294117647,0.0512249443207126,0.0549450549450549,0.25,0.0555555555555555,1.0,0.3333333333333333,1.0,0.0571428571428571,1.0,1.0,1.0,0.1428571428571428,1.0,0.0428994082840236,0.2,0.1,1.0,0.5,1.0,1.0,1.0,0.040650406504065,1.0,0.0512820512820512,1.0,0.0714285714285714,0.1176470588235294,1.0,0.25,0.0498620194306883,0.0503211991434689,0.074074074074074,0.0588235294117647,0.2,0.3333333333333333,1.0,1.0,1.0,1.0,0.05,0.1111111111111111,1.0,1.0,0.1111111111111111,1.0,0.0544871794871794,0.048780487804878,0.2857142857142857,0.1379310344827586,0.1666666666666666,0.3333333333333333,0.5,0.1034482758620689,0.0909090909090909,0.25,0.5,0.3333333333333333,1.0,0.1333333333333333,1.0,1.0,1.0,0.0773638968481375,0.0612244897959183,1.0,1.0,0.0769230769230769,0.2,0.5,0.1428571428571428,0.112,0.1739130434782608,1.0,1.0,0.0769230769230769,0.5,1.0,0.1111111111111111,1.0,1.0,1.0,0.125,1.0,1.0,0.0536912751677852,0.0769230769230769,0.3333333333333333,1.0,0.02803738317757,0.4,1.0,0.6,0.1428571428571428,0.0588972431077694,0.1142857142857142,0.125,1.0,1.0,1.0,0.0474934036939313,0.1428571428571428,0.5,0.0909090909090909,1.0,1.0,1.0,0.0681818181818181,0.1470588235294117,1.0,0.125,0.5,0.0605684993382213,0.0448215839860748,0.0456140350877193,0.062111801242236,0.0416666666666666,0.125,1.0,0.5,1.0,1.0,1.0,0.3333333333333333,1.0,0.5,0.0491803278688524,0.1111111111111111,0.25,1.0,0.5,0.1428571428571428,0.2,0.0377358490566037,0.125,0.3333333333333333,0.5,1.0,1.0,0.0636363636363636,0.0843373493975903,0.0909090909090909,0.5,1.0,1.0,0.1818181818181818,1.0,0.0869565217391304,0.1538461538461538,1.0,1.0,1.0,1.0,0.0769230769230769,0.3333333333333333,0.046594982078853,0.0528169014084507,0.1020408163265306,0.0909090909090909,0.1818181818181818,1.0,0.0434782608695652,1.0,0.0833333333333333,0.1111111111111111,0.0875,0.5,0.1875,0.2,0.1666666666666666,1.0,0.0486680327868852,0.0294117647058823,1.0,1.0,0.027027027027027,0.1111111111111111,0.5,1.0,0.1428571428571428,0.2,0.0664739884393063,1.0,0.053030303030303,1.0,0.5,0.5,0.0606060606060606,0.25,0.0375426621160409,0.0533333333333333,0.0714285714285714,1.0,0.5,0.0625,1.0,0.0454545454545454,0.032520325203252,1.0,0.0394736842105263,0.0909090909090909],\"sizemode\":\"area\",\"sizeref\":0.0025,\"symbol\":\"circle\"},\"mode\":\"markers\",\"name\":\"\",\"orientation\":\"v\",\"showlegend\":false,\"x\":[37766,4177,2446,574,557,155,212,70,91,35,59,22,26,8,10,5,11,5,3,1,1,1,1,2,4,1,1,4,5,7,1,4,2,15,1,1,2,1,1,1,1,2,1,24,6,1,31,14,1,1,66,38,6,6,1,9,3,2,1,1,62,19,1,8,1,1,81,2,2,1,1,1,137,66,1,1,1,3,15,1,1,4,682,154,14,4,3,3,20,1,1,48,3,15,1,1,52,1,776,186,25,1,1,1,7,40,2,1,3,1,1,5,38,24,5,12,4,13,32,1,17,1,3,1462,405,64,43,9,2,1,1,1,1,1,5,1,6,18,1,1,1,156,84,13,2,1,1,4,5,6,66,8,1,4,1,14,1,47,3,5,18084,6175,1108,941,231,280,93,105,39,56,22,38,9,6,2,6,2,3,1,1,1,1,1,1,2,1,6,1,1,1,2,4,1,4,9,1,15,10,5,3,1,1,3,3,1,7,1,1,19,1,1,1,99,38,6,7,2,1,5,112,10,10,3,3,1,185,78,13,20,2,6,1,8,1,312,72,1,1,6,1,1,27,11,5,1,2,24,3,1,1,397,93,1,3,2,1,19,1,1,4,11,2,2,666,169,24,19,6,1,1,4,3,2,12,11,2,67,41,1,1,1,1,6,1,2,24,3,25678,860,99,40,1,1,1,4,1,1,19,1,1,1,5,184,6,2,1,22,2,46,13,1,2,5,2,1,339,106,20,1,3,1,5,1,68,22,5,344,15,1,4,1,3,3,62,4,8,17,1796,91,8,18,1,3,1,35,2,1,1,7,1,676,5,10,1,2,1,1,1,123,1,78,1,14,34,1,4,26453,934,108,34,5,3,1,1,1,1,20,9,1,1,9,1,312,41,7,29,6,3,2,29,11,8,2,6,1,30,1,1,1,349,98,1,1,26,5,2,7,125,23,1,1,13,2,1,9,1,1,1,8,1,1,298,13,3,1,107,5,1,5,7,798,35,8,1,1,1,379,21,2,11,1,1,1,44,34,1,8,4,47599,2298,285,161,24,24,1,2,1,1,1,3,1,2,61,18,4,1,2,7,5,53,8,3,2,1,1,220,83,11,2,1,1,11,1,23,13,1,1,1,1,13,3,837,284,49,33,11,1,23,1,24,18,80,4,16,5,6,1,1952,102,1,1,37,9,2,1,7,5,346,1,132,1,2,2,33,4,1172,75,14,1,2,16,1,22,123,1,76,11],\"xaxis\":\"x\",\"y\":[2475,286,138,57,41,12,17,16,12,7,2,2,1,2,1,1,2,1,1,1,1,1,1,1,1,1,1,1,1,1,1,1,1,1,1,1,1,1,1,1,1,1,1,1,1,1,2,2,1,1,4,1,1,1,1,1,1,1,1,1,5,1,1,1,1,1,5,1,1,1,1,1,10,2,1,1,1,2,3,1,1,1,37,2,2,1,2,1,1,1,1,3,1,2,1,1,4,1,39,13,1,1,1,1,2,1,1,1,1,1,1,1,6,1,1,1,1,2,3,1,2,1,1,65,26,1,3,1,1,1,1,1,1,1,1,1,1,3,1,1,1,7,2,1,1,1,1,1,2,2,1,1,1,1,1,3,1,3,1,1,1089,307,103,75,24,22,20,7,7,7,5,3,1,1,1,1,1,1,1,1,1,1,1,1,1,1,1,1,1,1,1,1,1,2,2,1,1,1,1,1,1,1,1,1,1,1,1,1,3,1,1,1,8,4,1,1,1,1,1,12,1,1,2,1,1,16,6,1,2,1,1,1,1,1,13,8,1,1,1,1,1,1,1,1,1,1,3,1,1,1,25,6,1,1,1,1,1,1,1,1,2,1,1,38,13,1,1,1,1,1,1,1,1,2,1,1,4,2,1,1,1,1,1,1,1,1,1,1208,36,12,4,1,1,1,1,1,1,1,1,1,1,2,7,1,1,1,1,1,3,1,1,1,1,1,1,18,6,2,1,1,1,2,1,5,1,1,16,1,1,1,1,2,1,5,1,1,1,92,5,2,1,1,1,1,2,2,1,1,1,1,29,1,1,1,1,1,1,1,5,1,4,1,1,4,1,1,1319,47,8,2,1,1,1,1,1,1,1,1,1,1,1,1,17,2,2,4,1,1,1,3,1,2,1,2,1,4,1,1,1,27,6,1,1,2,1,1,1,14,4,1,1,1,1,1,1,1,1,1,1,1,1,16,1,1,1,3,2,1,3,1,47,4,1,1,1,1,18,3,1,1,1,1,1,3,5,1,1,2,2883,103,13,10,1,3,1,1,1,1,1,1,1,1,3,2,1,1,1,1,1,2,1,1,1,1,1,14,7,1,1,1,1,2,1,2,2,1,1,1,1,1,1,39,15,5,3,2,1,1,1,2,2,7,2,3,1,1,1,95,3,1,1,1,1,1,1,1,1,23,1,7,1,1,1,2,1,44,4,1,1,1,1,1,1,4,1,3,1],\"yaxis\":\"y\",\"type\":\"scatter\"}],                        {\"template\":{\"data\":{\"barpolar\":[{\"marker\":{\"line\":{\"color\":\"white\",\"width\":0.5},\"pattern\":{\"fillmode\":\"overlay\",\"size\":10,\"solidity\":0.2}},\"type\":\"barpolar\"}],\"bar\":[{\"error_x\":{\"color\":\"#2a3f5f\"},\"error_y\":{\"color\":\"#2a3f5f\"},\"marker\":{\"line\":{\"color\":\"white\",\"width\":0.5},\"pattern\":{\"fillmode\":\"overlay\",\"size\":10,\"solidity\":0.2}},\"type\":\"bar\"}],\"carpet\":[{\"aaxis\":{\"endlinecolor\":\"#2a3f5f\",\"gridcolor\":\"#C8D4E3\",\"linecolor\":\"#C8D4E3\",\"minorgridcolor\":\"#C8D4E3\",\"startlinecolor\":\"#2a3f5f\"},\"baxis\":{\"endlinecolor\":\"#2a3f5f\",\"gridcolor\":\"#C8D4E3\",\"linecolor\":\"#C8D4E3\",\"minorgridcolor\":\"#C8D4E3\",\"startlinecolor\":\"#2a3f5f\"},\"type\":\"carpet\"}],\"choropleth\":[{\"colorbar\":{\"outlinewidth\":0,\"ticks\":\"\"},\"type\":\"choropleth\"}],\"contourcarpet\":[{\"colorbar\":{\"outlinewidth\":0,\"ticks\":\"\"},\"type\":\"contourcarpet\"}],\"contour\":[{\"colorbar\":{\"outlinewidth\":0,\"ticks\":\"\"},\"colorscale\":[[0.0,\"#0d0887\"],[0.1111111111111111,\"#46039f\"],[0.2222222222222222,\"#7201a8\"],[0.3333333333333333,\"#9c179e\"],[0.4444444444444444,\"#bd3786\"],[0.5555555555555556,\"#d8576b\"],[0.6666666666666666,\"#ed7953\"],[0.7777777777777778,\"#fb9f3a\"],[0.8888888888888888,\"#fdca26\"],[1.0,\"#f0f921\"]],\"type\":\"contour\"}],\"heatmapgl\":[{\"colorbar\":{\"outlinewidth\":0,\"ticks\":\"\"},\"colorscale\":[[0.0,\"#0d0887\"],[0.1111111111111111,\"#46039f\"],[0.2222222222222222,\"#7201a8\"],[0.3333333333333333,\"#9c179e\"],[0.4444444444444444,\"#bd3786\"],[0.5555555555555556,\"#d8576b\"],[0.6666666666666666,\"#ed7953\"],[0.7777777777777778,\"#fb9f3a\"],[0.8888888888888888,\"#fdca26\"],[1.0,\"#f0f921\"]],\"type\":\"heatmapgl\"}],\"heatmap\":[{\"colorbar\":{\"outlinewidth\":0,\"ticks\":\"\"},\"colorscale\":[[0.0,\"#0d0887\"],[0.1111111111111111,\"#46039f\"],[0.2222222222222222,\"#7201a8\"],[0.3333333333333333,\"#9c179e\"],[0.4444444444444444,\"#bd3786\"],[0.5555555555555556,\"#d8576b\"],[0.6666666666666666,\"#ed7953\"],[0.7777777777777778,\"#fb9f3a\"],[0.8888888888888888,\"#fdca26\"],[1.0,\"#f0f921\"]],\"type\":\"heatmap\"}],\"histogram2dcontour\":[{\"colorbar\":{\"outlinewidth\":0,\"ticks\":\"\"},\"colorscale\":[[0.0,\"#0d0887\"],[0.1111111111111111,\"#46039f\"],[0.2222222222222222,\"#7201a8\"],[0.3333333333333333,\"#9c179e\"],[0.4444444444444444,\"#bd3786\"],[0.5555555555555556,\"#d8576b\"],[0.6666666666666666,\"#ed7953\"],[0.7777777777777778,\"#fb9f3a\"],[0.8888888888888888,\"#fdca26\"],[1.0,\"#f0f921\"]],\"type\":\"histogram2dcontour\"}],\"histogram2d\":[{\"colorbar\":{\"outlinewidth\":0,\"ticks\":\"\"},\"colorscale\":[[0.0,\"#0d0887\"],[0.1111111111111111,\"#46039f\"],[0.2222222222222222,\"#7201a8\"],[0.3333333333333333,\"#9c179e\"],[0.4444444444444444,\"#bd3786\"],[0.5555555555555556,\"#d8576b\"],[0.6666666666666666,\"#ed7953\"],[0.7777777777777778,\"#fb9f3a\"],[0.8888888888888888,\"#fdca26\"],[1.0,\"#f0f921\"]],\"type\":\"histogram2d\"}],\"histogram\":[{\"marker\":{\"pattern\":{\"fillmode\":\"overlay\",\"size\":10,\"solidity\":0.2}},\"type\":\"histogram\"}],\"mesh3d\":[{\"colorbar\":{\"outlinewidth\":0,\"ticks\":\"\"},\"type\":\"mesh3d\"}],\"parcoords\":[{\"line\":{\"colorbar\":{\"outlinewidth\":0,\"ticks\":\"\"}},\"type\":\"parcoords\"}],\"pie\":[{\"automargin\":true,\"type\":\"pie\"}],\"scatter3d\":[{\"line\":{\"colorbar\":{\"outlinewidth\":0,\"ticks\":\"\"}},\"marker\":{\"colorbar\":{\"outlinewidth\":0,\"ticks\":\"\"}},\"type\":\"scatter3d\"}],\"scattercarpet\":[{\"marker\":{\"colorbar\":{\"outlinewidth\":0,\"ticks\":\"\"}},\"type\":\"scattercarpet\"}],\"scattergeo\":[{\"marker\":{\"colorbar\":{\"outlinewidth\":0,\"ticks\":\"\"}},\"type\":\"scattergeo\"}],\"scattergl\":[{\"marker\":{\"colorbar\":{\"outlinewidth\":0,\"ticks\":\"\"}},\"type\":\"scattergl\"}],\"scattermapbox\":[{\"marker\":{\"colorbar\":{\"outlinewidth\":0,\"ticks\":\"\"}},\"type\":\"scattermapbox\"}],\"scatterpolargl\":[{\"marker\":{\"colorbar\":{\"outlinewidth\":0,\"ticks\":\"\"}},\"type\":\"scatterpolargl\"}],\"scatterpolar\":[{\"marker\":{\"colorbar\":{\"outlinewidth\":0,\"ticks\":\"\"}},\"type\":\"scatterpolar\"}],\"scatter\":[{\"fillpattern\":{\"fillmode\":\"overlay\",\"size\":10,\"solidity\":0.2},\"type\":\"scatter\"}],\"scatterternary\":[{\"marker\":{\"colorbar\":{\"outlinewidth\":0,\"ticks\":\"\"}},\"type\":\"scatterternary\"}],\"surface\":[{\"colorbar\":{\"outlinewidth\":0,\"ticks\":\"\"},\"colorscale\":[[0.0,\"#0d0887\"],[0.1111111111111111,\"#46039f\"],[0.2222222222222222,\"#7201a8\"],[0.3333333333333333,\"#9c179e\"],[0.4444444444444444,\"#bd3786\"],[0.5555555555555556,\"#d8576b\"],[0.6666666666666666,\"#ed7953\"],[0.7777777777777778,\"#fb9f3a\"],[0.8888888888888888,\"#fdca26\"],[1.0,\"#f0f921\"]],\"type\":\"surface\"}],\"table\":[{\"cells\":{\"fill\":{\"color\":\"#EBF0F8\"},\"line\":{\"color\":\"white\"}},\"header\":{\"fill\":{\"color\":\"#C8D4E3\"},\"line\":{\"color\":\"white\"}},\"type\":\"table\"}]},\"layout\":{\"annotationdefaults\":{\"arrowcolor\":\"#2a3f5f\",\"arrowhead\":0,\"arrowwidth\":1},\"autotypenumbers\":\"strict\",\"coloraxis\":{\"colorbar\":{\"outlinewidth\":0,\"ticks\":\"\"}},\"colorscale\":{\"diverging\":[[0,\"#8e0152\"],[0.1,\"#c51b7d\"],[0.2,\"#de77ae\"],[0.3,\"#f1b6da\"],[0.4,\"#fde0ef\"],[0.5,\"#f7f7f7\"],[0.6,\"#e6f5d0\"],[0.7,\"#b8e186\"],[0.8,\"#7fbc41\"],[0.9,\"#4d9221\"],[1,\"#276419\"]],\"sequential\":[[0.0,\"#0d0887\"],[0.1111111111111111,\"#46039f\"],[0.2222222222222222,\"#7201a8\"],[0.3333333333333333,\"#9c179e\"],[0.4444444444444444,\"#bd3786\"],[0.5555555555555556,\"#d8576b\"],[0.6666666666666666,\"#ed7953\"],[0.7777777777777778,\"#fb9f3a\"],[0.8888888888888888,\"#fdca26\"],[1.0,\"#f0f921\"]],\"sequentialminus\":[[0.0,\"#0d0887\"],[0.1111111111111111,\"#46039f\"],[0.2222222222222222,\"#7201a8\"],[0.3333333333333333,\"#9c179e\"],[0.4444444444444444,\"#bd3786\"],[0.5555555555555556,\"#d8576b\"],[0.6666666666666666,\"#ed7953\"],[0.7777777777777778,\"#fb9f3a\"],[0.8888888888888888,\"#fdca26\"],[1.0,\"#f0f921\"]]},\"colorway\":[\"#636efa\",\"#EF553B\",\"#00cc96\",\"#ab63fa\",\"#FFA15A\",\"#19d3f3\",\"#FF6692\",\"#B6E880\",\"#FF97FF\",\"#FECB52\"],\"font\":{\"color\":\"#2a3f5f\"},\"geo\":{\"bgcolor\":\"white\",\"lakecolor\":\"white\",\"landcolor\":\"white\",\"showlakes\":true,\"showland\":true,\"subunitcolor\":\"#C8D4E3\"},\"hoverlabel\":{\"align\":\"left\"},\"hovermode\":\"closest\",\"mapbox\":{\"style\":\"light\"},\"paper_bgcolor\":\"white\",\"plot_bgcolor\":\"white\",\"polar\":{\"angularaxis\":{\"gridcolor\":\"#EBF0F8\",\"linecolor\":\"#EBF0F8\",\"ticks\":\"\"},\"bgcolor\":\"white\",\"radialaxis\":{\"gridcolor\":\"#EBF0F8\",\"linecolor\":\"#EBF0F8\",\"ticks\":\"\"}},\"scene\":{\"xaxis\":{\"backgroundcolor\":\"white\",\"gridcolor\":\"#DFE8F3\",\"gridwidth\":2,\"linecolor\":\"#EBF0F8\",\"showbackground\":true,\"ticks\":\"\",\"zerolinecolor\":\"#EBF0F8\"},\"yaxis\":{\"backgroundcolor\":\"white\",\"gridcolor\":\"#DFE8F3\",\"gridwidth\":2,\"linecolor\":\"#EBF0F8\",\"showbackground\":true,\"ticks\":\"\",\"zerolinecolor\":\"#EBF0F8\"},\"zaxis\":{\"backgroundcolor\":\"white\",\"gridcolor\":\"#DFE8F3\",\"gridwidth\":2,\"linecolor\":\"#EBF0F8\",\"showbackground\":true,\"ticks\":\"\",\"zerolinecolor\":\"#EBF0F8\"}},\"shapedefaults\":{\"line\":{\"color\":\"#2a3f5f\"}},\"ternary\":{\"aaxis\":{\"gridcolor\":\"#DFE8F3\",\"linecolor\":\"#A2B1C6\",\"ticks\":\"\"},\"baxis\":{\"gridcolor\":\"#DFE8F3\",\"linecolor\":\"#A2B1C6\",\"ticks\":\"\"},\"bgcolor\":\"white\",\"caxis\":{\"gridcolor\":\"#DFE8F3\",\"linecolor\":\"#A2B1C6\",\"ticks\":\"\"}},\"title\":{\"x\":0.05},\"xaxis\":{\"automargin\":true,\"gridcolor\":\"#EBF0F8\",\"linecolor\":\"#EBF0F8\",\"ticks\":\"\",\"title\":{\"standoff\":15},\"zerolinecolor\":\"#EBF0F8\",\"zerolinewidth\":2},\"yaxis\":{\"automargin\":true,\"gridcolor\":\"#EBF0F8\",\"linecolor\":\"#EBF0F8\",\"ticks\":\"\",\"title\":{\"standoff\":15},\"zerolinecolor\":\"#EBF0F8\",\"zerolinewidth\":2}}},\"xaxis\":{\"anchor\":\"y\",\"domain\":[0.0,1.0],\"title\":{\"text\":\"Number of Paths\"},\"type\":\"log\"},\"yaxis\":{\"anchor\":\"x\",\"domain\":[0.0,1.0],\"title\":{\"text\":\"Number of Conversions\"},\"type\":\"log\"},\"coloraxis\":{\"colorbar\":{\"title\":{\"text\":\"Rate\"}},\"colorscale\":[[0.0,\"#0d0887\"],[0.1111111111111111,\"#46039f\"],[0.2222222222222222,\"#7201a8\"],[0.3333333333333333,\"#9c179e\"],[0.4444444444444444,\"#bd3786\"],[0.5555555555555556,\"#d8576b\"],[0.6666666666666666,\"#ed7953\"],[0.7777777777777778,\"#fb9f3a\"],[0.8888888888888888,\"#fdca26\"],[1.0,\"#f0f921\"]]},\"legend\":{\"tracegroupgap\":0,\"itemsizing\":\"constant\"},\"margin\":{\"t\":60},\"plot_bgcolor\":\"white\",\"paper_bgcolor\":\"white\"},                        {\"responsive\": true}                    ).then(function(){\n",
       "                            \n",
       "var gd = document.getElementById('38dd82ac-2c7d-4863-b076-cd473ef2618b');\n",
       "var x = new MutationObserver(function (mutations, observer) {{\n",
       "        var display = window.getComputedStyle(gd).display;\n",
       "        if (!display || display === 'none') {{\n",
       "            console.log([gd, 'removed!']);\n",
       "            Plotly.purge(gd);\n",
       "            observer.disconnect();\n",
       "        }}\n",
       "}});\n",
       "\n",
       "// Listen for the removal of the full notebook cells\n",
       "var notebookContainer = gd.closest('#notebook-container');\n",
       "if (notebookContainer) {{\n",
       "    x.observe(notebookContainer, {childList: true});\n",
       "}}\n",
       "\n",
       "// Listen for the clearing of the current output cell\n",
       "var outputEl = gd.closest('.output');\n",
       "if (outputEl) {{\n",
       "    x.observe(outputEl, {childList: true});\n",
       "}}\n",
       "\n",
       "                        })                };                });            </script>        </div>"
      ]
     },
     "metadata": {},
     "output_type": "display_data"
    }
   ],
   "source": [
    "\n",
    "#bubble chart\n",
    "channel_stacks = pd.read_csv('conversion-path.csv')\n",
    "fig = px.scatter(channel_stacks, x='path_count', y='conversion', color='conversion_rate', size='conversion_rate', hover_data = ['path'])\n",
    "fig.update_layout(\n",
    "    xaxis=dict(type='log', title='Number of Paths'),\n",
    "    yaxis=dict(type='log', title='Number of Conversions'),\n",
    "    coloraxis=dict(colorbar=dict(title='Rate'),\n",
    "))\n",
    "fig.update_layout(template='plotly_white', plot_bgcolor='white', paper_bgcolor='white')\n",
    "\n",
    "pio.renderers.default = 'notebook_connected'\n",
    "fig.show()\n",
    "\n"
   ]
  },
  {
   "cell_type": "code",
   "execution_count": 15,
   "id": "32c4014a-3e4c-43c4-ba13-4a16814db772",
   "metadata": {
    "extensions": {
     "jupyter_dashboards": {
      "activeView": "grid_default",
      "views": {
       "grid_default": {
        "col": 0,
        "height": 16,
        "hidden": false,
        "locked": true,
        "row": 5,
        "width": 5
       }
      }
     }
    },
    "tags": []
   },
   "outputs": [
    {
     "data": {
      "text/html": [
       "        <script type=\"text/javascript\">\n",
       "        window.PlotlyConfig = {MathJaxConfig: 'local'};\n",
       "        if (window.MathJax && window.MathJax.Hub && window.MathJax.Hub.Config) {window.MathJax.Hub.Config({SVG: {font: \"STIX-Web\"}});}\n",
       "        if (typeof require !== 'undefined') {\n",
       "        require.undef(\"plotly\");\n",
       "        requirejs.config({\n",
       "            paths: {\n",
       "                'plotly': ['https://cdn.plot.ly/plotly-2.18.2.min']\n",
       "            }\n",
       "        });\n",
       "        require(['plotly'], function(Plotly) {\n",
       "            window._Plotly = Plotly;\n",
       "        });\n",
       "        }\n",
       "        </script>\n",
       "        "
      ]
     },
     "metadata": {},
     "output_type": "display_data"
    },
    {
     "data": {
      "text/html": [
       "<div>                            <div id=\"b8e34412-de82-4fc6-97de-5f5a8f742a26\" class=\"plotly-graph-div\" style=\"height:700px; width:500px;\"></div>            <script type=\"text/javascript\">                require([\"plotly\"], function(Plotly) {                    window.PLOTLYENV=window.PLOTLYENV || {};                                    if (document.getElementById(\"b8e34412-de82-4fc6-97de-5f5a8f742a26\")) {                    Plotly.newPlot(                        \"b8e34412-de82-4fc6-97de-5f5a8f742a26\",                        [{\"link\":{\"color\":[\"#0072B2\",\"#009E73\",\"#D55E00\",\"#CC79A7\",\"#F0E442\",\"#0072B2\",\"#009E73\",\"#D55E00\",\"#CC79A7\",\"#F0E442\",\"#0072B2\",\"#009E73\",\"#D55E00\",\"#CC79A7\",\"#F0E442\",\"#0072B2\",\"#009E73\",\"#D55E00\",\"#CC79A7\",\"#F0E442\",\"rgba(0,114,178, 0.2)\",\"rgba(0,114,178, 0.2)\",\"rgba(0,114,178, 0.2)\",\"rgba(0,114,178, 0.2)\",\"rgba(0,114,178, 0.2)\",\"rgba(0,158,115, 0.2)\",\"rgba(0,158,115, 0.2)\",\"rgba(0,158,115, 0.2)\",\"rgba(0,158,115, 0.2)\",\"rgba(0,158,115, 0.2)\",\"rgba(213,94,0, 0.2)\",\"rgba(213,94,0, 0.2)\",\"rgba(213,94,0, 0.2)\",\"rgba(213,94,0, 0.2)\",\"rgba(213,94,0, 0.2)\",\"rgba(204,121,167, 0.2)\",\"rgba(204,121,167, 0.2)\",\"rgba(204,121,167, 0.2)\",\"rgba(204,121,167, 0.2)\",\"rgba(204,121,167, 0.2)\",\"rgba(240,228,66, 0.2)\",\"rgba(240,228,66, 0.2)\",\"rgba(240,228,66, 0.2)\",\"rgba(240,228,66, 0.2)\",\"rgba(240,228,66, 0.2)\",\"rgba(0,114,178, 0.2)\",\"rgba(0,114,178, 0.2)\",\"rgba(0,114,178, 0.2)\",\"rgba(0,114,178, 0.2)\",\"rgba(0,114,178, 0.2)\",\"rgba(0,158,115, 0.2)\",\"rgba(0,158,115, 0.2)\",\"rgba(0,158,115, 0.2)\",\"rgba(0,158,115, 0.2)\",\"rgba(0,158,115, 0.2)\",\"rgba(213,94,0, 0.2)\",\"rgba(213,94,0, 0.2)\",\"rgba(213,94,0, 0.2)\",\"rgba(213,94,0, 0.2)\",\"rgba(213,94,0, 0.2)\",\"rgba(204,121,167, 0.2)\",\"rgba(204,121,167, 0.2)\",\"rgba(204,121,167, 0.2)\",\"rgba(204,121,167, 0.2)\",\"rgba(204,121,167, 0.2)\",\"rgba(240,228,66, 0.2)\",\"rgba(240,228,66, 0.2)\",\"rgba(240,228,66, 0.2)\",\"rgba(240,228,66, 0.2)\",\"rgba(240,228,66, 0.2)\",\"rgba(0,114,178, 0.2)\",\"rgba(0,114,178, 0.2)\",\"rgba(0,114,178, 0.2)\",\"rgba(0,114,178, 0.2)\",\"rgba(0,114,178, 0.2)\",\"rgba(0,158,115, 0.2)\",\"rgba(0,158,115, 0.2)\",\"rgba(0,158,115, 0.2)\",\"rgba(0,158,115, 0.2)\",\"rgba(0,158,115, 0.2)\",\"rgba(213,94,0, 0.2)\",\"rgba(213,94,0, 0.2)\",\"rgba(213,94,0, 0.2)\",\"rgba(213,94,0, 0.2)\",\"rgba(213,94,0, 0.2)\",\"rgba(204,121,167, 0.2)\",\"rgba(204,121,167, 0.2)\",\"rgba(204,121,167, 0.2)\",\"rgba(204,121,167, 0.2)\",\"rgba(204,121,167, 0.2)\",\"rgba(240,228,66, 0.2)\",\"rgba(240,228,66, 0.2)\",\"rgba(240,228,66, 0.2)\",\"rgba(240,228,66, 0.2)\",\"rgba(240,228,66, 0.2)\"],\"hovertemplate\":\"Source: %{source.label}<br>Target: %{target.label}<br>Value: %{value}<extra>Conversion: %{target.label == \\\"Conversion\\\"}</extra>\",\"source\":[0,1,2,3,4,5,6,7,8,9,10,11,12,13,14,15,16,17,18,19,0,0,0,0,0,1,1,1,1,1,2,2,2,2,2,3,3,3,3,3,4,4,4,4,4,5,5,5,5,5,6,6,6,6,6,7,7,7,7,7,8,8,8,8,8,9,9,9,9,9,10,10,10,10,10,11,11,11,11,11,12,12,12,12,12,13,13,13,13,13,14,14,14,14,14],\"target\":[20,20,20,20,20,20,20,20,20,20,20,20,20,20,20,20,20,20,20,20,5,6,7,8,9,5,6,7,8,9,5,6,7,8,9,5,6,7,8,9,5,6,7,8,9,10,11,12,13,14,10,11,12,13,14,10,11,12,13,14,10,11,12,13,14,10,11,12,13,14,15,16,17,18,19,15,16,17,18,19,15,16,17,18,19,15,16,17,18,19,15,16,17,18,19],\"value\":[null,null,null,null,null,2191.0,1824.0,654.0,780.0,843.0,1401.0,1026.0,210.0,189.0,131.0,250.0,240.0,0.0,20.0,56.0,0.0,11757.0,1377.0,2064.0,2409.0,15699.0,0.0,573.0,879.0,1110.0,1206.0,507.0,0.0,375.0,1830.0,1461.0,393.0,327.0,0.0,891.0,2946.0,1293.0,3057.0,1884.0,0.0,0.0,6837.0,264.0,519.0,660.0,7314.0,0.0,192.0,192.0,123.0,360.0,84.0,0.0,48.0,783.0,549.0,318.0,24.0,0.0,369.0,900.0,327.0,624.0,447.0,0.0,0.0,3285.0,0.0,276.0,198.0,4665.0,0.0,0.0,75.0,57.0,84.0,33.0,0.0,15.0,135.0,207.0,15.0,0.0,0.0,69.0,282.0,69.0,0.0,168.0,0.0]},\"node\":{\"color\":[\"#0072B2\",\"#009E73\",\"#D55E00\",\"#CC79A7\",\"#F0E442\",\"#0072B2\",\"#009E73\",\"#D55E00\",\"#CC79A7\",\"#F0E442\",\"#0072B2\",\"#009E73\",\"#D55E00\",\"#CC79A7\",\"#F0E442\",\"#0072B2\",\"#009E73\",\"#D55E00\",\"#CC79A7\",\"#F0E442\"],\"label\":[\"1: Facebook\",\"1:Instagram\",\"1:Online Display\",\"1:Online Video\",\"1:Paid Search\",\"2:Facebook\",\"2:Instagram\",\"2:Online Display\",\"2:Online Video\",\"2:Paid Search\",\"3:Facebook\",\"3:Instagram\",\"3:Online Display\",\"3:Online Video\",\"3:Paid Search\",\"4:FB\",\"4:Ista\",\"4:OL\",\"4:OV\",\"4:PS\",\"Conversion\"],\"line\":{\"color\":\"black\",\"width\":0},\"pad\":10,\"thickness\":30},\"orientation\":\"v\",\"type\":\"sankey\"}],                        {\"template\":{\"data\":{\"histogram2dcontour\":[{\"type\":\"histogram2dcontour\",\"colorbar\":{\"outlinewidth\":0,\"ticks\":\"\"},\"colorscale\":[[0.0,\"#0d0887\"],[0.1111111111111111,\"#46039f\"],[0.2222222222222222,\"#7201a8\"],[0.3333333333333333,\"#9c179e\"],[0.4444444444444444,\"#bd3786\"],[0.5555555555555556,\"#d8576b\"],[0.6666666666666666,\"#ed7953\"],[0.7777777777777778,\"#fb9f3a\"],[0.8888888888888888,\"#fdca26\"],[1.0,\"#f0f921\"]]}],\"choropleth\":[{\"type\":\"choropleth\",\"colorbar\":{\"outlinewidth\":0,\"ticks\":\"\"}}],\"histogram2d\":[{\"type\":\"histogram2d\",\"colorbar\":{\"outlinewidth\":0,\"ticks\":\"\"},\"colorscale\":[[0.0,\"#0d0887\"],[0.1111111111111111,\"#46039f\"],[0.2222222222222222,\"#7201a8\"],[0.3333333333333333,\"#9c179e\"],[0.4444444444444444,\"#bd3786\"],[0.5555555555555556,\"#d8576b\"],[0.6666666666666666,\"#ed7953\"],[0.7777777777777778,\"#fb9f3a\"],[0.8888888888888888,\"#fdca26\"],[1.0,\"#f0f921\"]]}],\"heatmap\":[{\"type\":\"heatmap\",\"colorbar\":{\"outlinewidth\":0,\"ticks\":\"\"},\"colorscale\":[[0.0,\"#0d0887\"],[0.1111111111111111,\"#46039f\"],[0.2222222222222222,\"#7201a8\"],[0.3333333333333333,\"#9c179e\"],[0.4444444444444444,\"#bd3786\"],[0.5555555555555556,\"#d8576b\"],[0.6666666666666666,\"#ed7953\"],[0.7777777777777778,\"#fb9f3a\"],[0.8888888888888888,\"#fdca26\"],[1.0,\"#f0f921\"]]}],\"heatmapgl\":[{\"type\":\"heatmapgl\",\"colorbar\":{\"outlinewidth\":0,\"ticks\":\"\"},\"colorscale\":[[0.0,\"#0d0887\"],[0.1111111111111111,\"#46039f\"],[0.2222222222222222,\"#7201a8\"],[0.3333333333333333,\"#9c179e\"],[0.4444444444444444,\"#bd3786\"],[0.5555555555555556,\"#d8576b\"],[0.6666666666666666,\"#ed7953\"],[0.7777777777777778,\"#fb9f3a\"],[0.8888888888888888,\"#fdca26\"],[1.0,\"#f0f921\"]]}],\"contourcarpet\":[{\"type\":\"contourcarpet\",\"colorbar\":{\"outlinewidth\":0,\"ticks\":\"\"}}],\"contour\":[{\"type\":\"contour\",\"colorbar\":{\"outlinewidth\":0,\"ticks\":\"\"},\"colorscale\":[[0.0,\"#0d0887\"],[0.1111111111111111,\"#46039f\"],[0.2222222222222222,\"#7201a8\"],[0.3333333333333333,\"#9c179e\"],[0.4444444444444444,\"#bd3786\"],[0.5555555555555556,\"#d8576b\"],[0.6666666666666666,\"#ed7953\"],[0.7777777777777778,\"#fb9f3a\"],[0.8888888888888888,\"#fdca26\"],[1.0,\"#f0f921\"]]}],\"surface\":[{\"type\":\"surface\",\"colorbar\":{\"outlinewidth\":0,\"ticks\":\"\"},\"colorscale\":[[0.0,\"#0d0887\"],[0.1111111111111111,\"#46039f\"],[0.2222222222222222,\"#7201a8\"],[0.3333333333333333,\"#9c179e\"],[0.4444444444444444,\"#bd3786\"],[0.5555555555555556,\"#d8576b\"],[0.6666666666666666,\"#ed7953\"],[0.7777777777777778,\"#fb9f3a\"],[0.8888888888888888,\"#fdca26\"],[1.0,\"#f0f921\"]]}],\"mesh3d\":[{\"type\":\"mesh3d\",\"colorbar\":{\"outlinewidth\":0,\"ticks\":\"\"}}],\"scatter\":[{\"fillpattern\":{\"fillmode\":\"overlay\",\"size\":10,\"solidity\":0.2},\"type\":\"scatter\"}],\"parcoords\":[{\"type\":\"parcoords\",\"line\":{\"colorbar\":{\"outlinewidth\":0,\"ticks\":\"\"}}}],\"scatterpolargl\":[{\"type\":\"scatterpolargl\",\"marker\":{\"colorbar\":{\"outlinewidth\":0,\"ticks\":\"\"}}}],\"bar\":[{\"error_x\":{\"color\":\"#2a3f5f\"},\"error_y\":{\"color\":\"#2a3f5f\"},\"marker\":{\"line\":{\"color\":\"#E5ECF6\",\"width\":0.5},\"pattern\":{\"fillmode\":\"overlay\",\"size\":10,\"solidity\":0.2}},\"type\":\"bar\"}],\"scattergeo\":[{\"type\":\"scattergeo\",\"marker\":{\"colorbar\":{\"outlinewidth\":0,\"ticks\":\"\"}}}],\"scatterpolar\":[{\"type\":\"scatterpolar\",\"marker\":{\"colorbar\":{\"outlinewidth\":0,\"ticks\":\"\"}}}],\"histogram\":[{\"marker\":{\"pattern\":{\"fillmode\":\"overlay\",\"size\":10,\"solidity\":0.2}},\"type\":\"histogram\"}],\"scattergl\":[{\"type\":\"scattergl\",\"marker\":{\"colorbar\":{\"outlinewidth\":0,\"ticks\":\"\"}}}],\"scatter3d\":[{\"type\":\"scatter3d\",\"line\":{\"colorbar\":{\"outlinewidth\":0,\"ticks\":\"\"}},\"marker\":{\"colorbar\":{\"outlinewidth\":0,\"ticks\":\"\"}}}],\"scattermapbox\":[{\"type\":\"scattermapbox\",\"marker\":{\"colorbar\":{\"outlinewidth\":0,\"ticks\":\"\"}}}],\"scatterternary\":[{\"type\":\"scatterternary\",\"marker\":{\"colorbar\":{\"outlinewidth\":0,\"ticks\":\"\"}}}],\"scattercarpet\":[{\"type\":\"scattercarpet\",\"marker\":{\"colorbar\":{\"outlinewidth\":0,\"ticks\":\"\"}}}],\"carpet\":[{\"aaxis\":{\"endlinecolor\":\"#2a3f5f\",\"gridcolor\":\"white\",\"linecolor\":\"white\",\"minorgridcolor\":\"white\",\"startlinecolor\":\"#2a3f5f\"},\"baxis\":{\"endlinecolor\":\"#2a3f5f\",\"gridcolor\":\"white\",\"linecolor\":\"white\",\"minorgridcolor\":\"white\",\"startlinecolor\":\"#2a3f5f\"},\"type\":\"carpet\"}],\"table\":[{\"cells\":{\"fill\":{\"color\":\"#EBF0F8\"},\"line\":{\"color\":\"white\"}},\"header\":{\"fill\":{\"color\":\"#C8D4E3\"},\"line\":{\"color\":\"white\"}},\"type\":\"table\"}],\"barpolar\":[{\"marker\":{\"line\":{\"color\":\"#E5ECF6\",\"width\":0.5},\"pattern\":{\"fillmode\":\"overlay\",\"size\":10,\"solidity\":0.2}},\"type\":\"barpolar\"}],\"pie\":[{\"automargin\":true,\"type\":\"pie\"}]},\"layout\":{\"autotypenumbers\":\"strict\",\"colorway\":[\"#636efa\",\"#EF553B\",\"#00cc96\",\"#ab63fa\",\"#FFA15A\",\"#19d3f3\",\"#FF6692\",\"#B6E880\",\"#FF97FF\",\"#FECB52\"],\"font\":{\"color\":\"#2a3f5f\"},\"hovermode\":\"closest\",\"hoverlabel\":{\"align\":\"left\"},\"paper_bgcolor\":\"white\",\"plot_bgcolor\":\"#E5ECF6\",\"polar\":{\"bgcolor\":\"#E5ECF6\",\"angularaxis\":{\"gridcolor\":\"white\",\"linecolor\":\"white\",\"ticks\":\"\"},\"radialaxis\":{\"gridcolor\":\"white\",\"linecolor\":\"white\",\"ticks\":\"\"}},\"ternary\":{\"bgcolor\":\"#E5ECF6\",\"aaxis\":{\"gridcolor\":\"white\",\"linecolor\":\"white\",\"ticks\":\"\"},\"baxis\":{\"gridcolor\":\"white\",\"linecolor\":\"white\",\"ticks\":\"\"},\"caxis\":{\"gridcolor\":\"white\",\"linecolor\":\"white\",\"ticks\":\"\"}},\"coloraxis\":{\"colorbar\":{\"outlinewidth\":0,\"ticks\":\"\"}},\"colorscale\":{\"sequential\":[[0.0,\"#0d0887\"],[0.1111111111111111,\"#46039f\"],[0.2222222222222222,\"#7201a8\"],[0.3333333333333333,\"#9c179e\"],[0.4444444444444444,\"#bd3786\"],[0.5555555555555556,\"#d8576b\"],[0.6666666666666666,\"#ed7953\"],[0.7777777777777778,\"#fb9f3a\"],[0.8888888888888888,\"#fdca26\"],[1.0,\"#f0f921\"]],\"sequentialminus\":[[0.0,\"#0d0887\"],[0.1111111111111111,\"#46039f\"],[0.2222222222222222,\"#7201a8\"],[0.3333333333333333,\"#9c179e\"],[0.4444444444444444,\"#bd3786\"],[0.5555555555555556,\"#d8576b\"],[0.6666666666666666,\"#ed7953\"],[0.7777777777777778,\"#fb9f3a\"],[0.8888888888888888,\"#fdca26\"],[1.0,\"#f0f921\"]],\"diverging\":[[0,\"#8e0152\"],[0.1,\"#c51b7d\"],[0.2,\"#de77ae\"],[0.3,\"#f1b6da\"],[0.4,\"#fde0ef\"],[0.5,\"#f7f7f7\"],[0.6,\"#e6f5d0\"],[0.7,\"#b8e186\"],[0.8,\"#7fbc41\"],[0.9,\"#4d9221\"],[1,\"#276419\"]]},\"xaxis\":{\"gridcolor\":\"white\",\"linecolor\":\"white\",\"ticks\":\"\",\"title\":{\"standoff\":15},\"zerolinecolor\":\"white\",\"automargin\":true,\"zerolinewidth\":2},\"yaxis\":{\"gridcolor\":\"white\",\"linecolor\":\"white\",\"ticks\":\"\",\"title\":{\"standoff\":15},\"zerolinecolor\":\"white\",\"automargin\":true,\"zerolinewidth\":2},\"scene\":{\"xaxis\":{\"backgroundcolor\":\"#E5ECF6\",\"gridcolor\":\"white\",\"linecolor\":\"white\",\"showbackground\":true,\"ticks\":\"\",\"zerolinecolor\":\"white\",\"gridwidth\":2},\"yaxis\":{\"backgroundcolor\":\"#E5ECF6\",\"gridcolor\":\"white\",\"linecolor\":\"white\",\"showbackground\":true,\"ticks\":\"\",\"zerolinecolor\":\"white\",\"gridwidth\":2},\"zaxis\":{\"backgroundcolor\":\"#E5ECF6\",\"gridcolor\":\"white\",\"linecolor\":\"white\",\"showbackground\":true,\"ticks\":\"\",\"zerolinecolor\":\"white\",\"gridwidth\":2}},\"shapedefaults\":{\"line\":{\"color\":\"#2a3f5f\"}},\"annotationdefaults\":{\"arrowcolor\":\"#2a3f5f\",\"arrowhead\":0,\"arrowwidth\":1},\"geo\":{\"bgcolor\":\"white\",\"landcolor\":\"#E5ECF6\",\"subunitcolor\":\"white\",\"showland\":true,\"showlakes\":true,\"lakecolor\":\"white\"},\"title\":{\"x\":0.05},\"mapbox\":{\"style\":\"light\"}}},\"font\":{\"family\":\"Arial\",\"size\":12},\"title\":{\"text\":\"Conversion Flow Diagram\"},\"width\":500,\"height\":700},                        {\"responsive\": true}                    ).then(function(){\n",
       "                            \n",
       "var gd = document.getElementById('b8e34412-de82-4fc6-97de-5f5a8f742a26');\n",
       "var x = new MutationObserver(function (mutations, observer) {{\n",
       "        var display = window.getComputedStyle(gd).display;\n",
       "        if (!display || display === 'none') {{\n",
       "            console.log([gd, 'removed!']);\n",
       "            Plotly.purge(gd);\n",
       "            observer.disconnect();\n",
       "        }}\n",
       "}});\n",
       "\n",
       "// Listen for the removal of the full notebook cells\n",
       "var notebookContainer = gd.closest('#notebook-container');\n",
       "if (notebookContainer) {{\n",
       "    x.observe(notebookContainer, {childList: true});\n",
       "}}\n",
       "\n",
       "// Listen for the clearing of the current output cell\n",
       "var outputEl = gd.closest('.output');\n",
       "if (outputEl) {{\n",
       "    x.observe(outputEl, {childList: true});\n",
       "}}\n",
       "\n",
       "                        })                };                });            </script>        </div>"
      ]
     },
     "metadata": {},
     "output_type": "display_data"
    }
   ],
   "source": [
    "\n",
    "#stankey diagram\n",
    "combos = pd.read_csv('combos1.csv', index_col = 0)\n",
    "combos\n",
    "\n",
    "display_node_labels = ['1: Facebook', '1:Instagram', '1:Online Display', '1:Online Video',\n",
    "                       '1:Paid Search', '2:Facebook', '2:Instagram', '2:Online Display',\n",
    "                       '2:Online Video', '2:Paid Search', '3:Facebook', '3:Instagram',\n",
    "                       '3:Online Display', '3:Online Video', '3:Paid Search', '4:FB',\n",
    "                       '4:Ista', '4:OL', '4:OV', '4:PS',\n",
    "                       'Conversion']\n",
    "\n",
    "# Define node colors\n",
    "sns.set_palette(\"colorblind\")\n",
    "node_colors = ['#0072B2', '#009E73', '#D55E00', '#CC79A7', '#F0E442',\n",
    "               '#0072B2', '#009E73', '#D55E00', '#CC79A7', '#F0E442',\n",
    "               '#0072B2', '#009E73', '#D55E00', '#CC79A7', '#F0E442',\n",
    "               '#0072B2', '#009E73', '#D55E00', '#CC79A7', '#F0E442']\n",
    "\n",
    "# Define link colors\n",
    "link_colors = []\n",
    "for source, target in zip(combos[\"source\"], combos[\"target\"]):\n",
    "    if target == 21:\n",
    "        # Link leads to conversion\n",
    "        link_colors.append(node_colors[source - 1])\n",
    "    else:\n",
    "        # Link does not lead to conversion\n",
    "        source_color = node_colors[source - 1]\n",
    "        target_color = node_colors[target - 1]\n",
    "        # Set transparency to 0.2\n",
    "        link_colors.append(f\"rgba({','.join(str(int(c * 255)) for c in sns.color_palette([source_color, target_color], n_colors=2)[0][:3])}, 0.2)\")\n",
    "\n",
    "# Generate Sankey diagram\n",
    "fig = go.Figure(data=[go.Sankey(\n",
    "    orientation=\"v\",\n",
    "    node=dict(\n",
    "        label=display_node_labels,\n",
    "        color=node_colors,\n",
    "        pad=10,\n",
    "        thickness=30,\n",
    "        line=dict(color=\"black\", width=0),\n",
    "    ),\n",
    "    link=dict(\n",
    "        source=combos[\"source\"].values - 1,  # convert to zero index\n",
    "        target=combos[\"target\"].values - 1,  # convert to zero index\n",
    "        value=combos[\"value\"].values,  # size of connection\n",
    "        color=link_colors, # color based on source and target groups\n",
    "        hovertemplate='Source: %{source.label}<br>Target: %{target.label}<br>Value: %{value}'\n",
    "                      '<extra>Conversion: %{target.label == \"Conversion\"}</extra>',\n",
    "    ),\n",
    ")])\n",
    "\n",
    "fig.update_layout(\n",
    "    title=\"Conversion Flow Diagram\",\n",
    "    font=dict(\n",
    "        family=\"Arial\",\n",
    "        size=12,\n",
    "    ),\n",
    "    width = 500,\n",
    "    height = 700\n",
    ")\n",
    "import plotly.io as pio\n",
    "pio.renderers.default = 'notebook_connected'\n",
    "fig.show()\n"
   ]
  },
  {
   "cell_type": "code",
   "execution_count": 10,
   "id": "69f9741f-a777-4664-a8ba-0b1d00c1cd28",
   "metadata": {
    "collapsed": true,
    "extensions": {
     "jupyter_dashboards": {
      "activeView": "grid_default",
      "views": {
       "grid_default": {
        "col": 9,
        "height": 4,
        "hidden": false,
        "locked": true,
        "row": 1,
        "width": 2
       }
      }
     }
    },
    "jupyter": {
     "outputs_hidden": true,
     "source_hidden": true
    },
    "tags": []
   },
   "outputs": [
    {
     "data": {
      "application/vnd.jupyter.widget-view+json": {
       "model_id": "d994f0f1371f43c5a7c3208ee0685126",
       "version_major": 2,
       "version_minor": 0
      },
      "text/plain": [
       "HTML(value=\"<div style='text-align:center;background-color:white;width:100px;height:80px;border-radius:10px;pa…"
      ]
     },
     "metadata": {},
     "output_type": "display_data"
    }
   ],
   "source": [
    "import ipywidgets as widgets\n",
    "from IPython.display import display\n",
    "\n",
    "# create the text box widget\n",
    "text_box = widgets.HTML(\n",
    "    value=\"<div style='text-align:center;background-color:white;width:100px;height:80px;border-radius:10px;padding:20px;box-shadow: 5px 5px 15px rgba(0,0,0,0.2);line-height:0.9;'><h2 style='color:black;font-size:15px;margin-top:5px;'>Average Touchpoint</h2><h1 style='color:#0072B2;font-size:40px;margin-top:10px;margin-bottom:5px;'>2.4</h1></div>\",\n",
    "    description=''\n",
    ")\n",
    "\n",
    "# display the text box widget\n",
    "display(text_box)\n"
   ]
  },
  {
   "cell_type": "code",
   "execution_count": 11,
   "id": "dd825e5f-edce-4480-9ecf-9ee35fd5cf0b",
   "metadata": {
    "collapsed": true,
    "extensions": {
     "jupyter_dashboards": {
      "activeView": "grid_default",
      "views": {
       "grid_default": {
        "col": 11,
        "height": 4,
        "hidden": false,
        "locked": true,
        "row": 1,
        "width": 1
       }
      }
     }
    },
    "jupyter": {
     "outputs_hidden": true,
     "source_hidden": true
    },
    "tags": []
   },
   "outputs": [
    {
     "data": {
      "application/vnd.jupyter.widget-view+json": {
       "model_id": "20a68f8effb6420d903e2c8fb2649b3b",
       "version_major": 2,
       "version_minor": 0
      },
      "text/plain": [
       "HTML(value=\"<div style='text-align:center;background-color:white;width:100px;height:80px;border-radius:10px;pa…"
      ]
     },
     "metadata": {},
     "output_type": "display_data"
    }
   ],
   "source": [
    "import ipywidgets as widgets\n",
    "from IPython.display import display\n",
    "\n",
    "# create the text box widget\n",
    "text_box = widgets.HTML(\n",
    "    value=\"<div style='text-align:center;background-color:white;width:100px;height:80px;border-radius:10px;padding:20px;box-shadow: 5px 5px 15px rgba(0,0,0,0.2);line-height:0.9;'><h2 style='color:black;font-size:15px;margin-top:8px;'>Total Conversion</h2><h1 style='color:#0072B2;font-size:30px;margin-top:0px;margin-bottom:10px;'>217639</h1></div>\",\n",
    "    description=''\n",
    ")\n",
    "\n",
    "# display the text box widget\n",
    "display(text_box)\n"
   ]
  },
  {
   "cell_type": "code",
   "execution_count": 12,
   "id": "f090e812-2554-437f-a84e-21c1c3d0042c",
   "metadata": {
    "collapsed": true,
    "extensions": {
     "jupyter_dashboards": {
      "activeView": "grid_default",
      "views": {
       "grid_default": {
        "col": 7,
        "height": 4,
        "hidden": false,
        "locked": true,
        "row": 1,
        "width": 2
       }
      }
     }
    },
    "jupyter": {
     "outputs_hidden": true,
     "source_hidden": true
    },
    "tags": []
   },
   "outputs": [
    {
     "data": {
      "application/vnd.jupyter.widget-view+json": {
       "model_id": "9c3d7d0ea2214e59916ac823441a0001",
       "version_major": 2,
       "version_minor": 0
      },
      "text/plain": [
       "HTML(value=\"<div style='text-align:center;background-color:white;width:100px;height:80px;border-radius:10px;pa…"
      ]
     },
     "metadata": {},
     "output_type": "display_data"
    }
   ],
   "source": [
    "import ipywidgets as widgets\n",
    "from IPython.display import display\n",
    "\n",
    "# create the text box widget\n",
    "text_box = widgets.HTML(\n",
    "    value=\"<div style='text-align:center;background-color:white;width:100px;height:80px;border-radius:10px;padding:20px;box-shadow: 5px 5px 15px rgba(0,0,0,0.2);line-height:0.8;'><h2 style='color:black;font-size:15px;margin-top:0px;'>Average Conversion Rate</h2><h1 style='color:#0072B2;font-size:40px;margin-top:8px;margin-bottom:15px;'>0.3%</h1></div>\",\n",
    "    description=''\n",
    ")\n",
    "\n",
    "# display the text box widget\n",
    "display(text_box)\n",
    "\n"
   ]
  },
  {
   "cell_type": "code",
   "execution_count": 13,
   "id": "36fa721c-5518-44dd-b5c4-58e0c1650188",
   "metadata": {
    "extensions": {
     "jupyter_dashboards": {
      "activeView": "grid_default",
      "views": {
       "grid_default": {
        "col": null,
        "height": 2,
        "hidden": true,
        "locked": true,
        "row": null,
        "width": 2
       }
      }
     }
    },
    "jupyter": {
     "source_hidden": true
    },
    "tags": []
   },
   "outputs": [
    {
     "name": "stdout",
     "output_type": "stream",
     "text": [
      "ipywidgets==8.0.4\n",
      "plotly==5.13.1\n",
      "matplotlib==3.7.1\n",
      "numpy==1.23.5\n",
      "Fiona==1.8.21\n",
      "Shapely==1.8.5\n",
      "pandas==1.5.3\n",
      "seaborn==0.12.2\n",
      "geopandas==0.11.1\n",
      "voila==0.4.0\n",
      "voila-gridstack==0.3.1\n"
     ]
    }
   ],
   "source": [
    "import pkg_resources\n",
    "# list packages to be checked\n",
    "root_packages = [\n",
    "    'geoviews', 'geopandas', 'pandas', 'numpy', \n",
    "    'matplotlib', 'shapely', 'cartopy', 'holoviews', 'seaborn','IPython'\n",
    "    'mapclassify', 'fiona', 'bokeh', 'plotly', 'voila', 'voila-gridstack', 'ipywidgets']\n",
    "# print versions, but check if package is imported first\n",
    "for m in pkg_resources.working_set:\n",
    "    if m.project_name.lower() in root_packages:\n",
    "        print(f\"{m.project_name}=={m.version}\")"
   ]
  },
  {
   "cell_type": "code",
   "execution_count": 13,
   "id": "72f5723b-b1f5-43c4-8bf9-8411da4d0e47",
   "metadata": {
    "extensions": {
     "jupyter_dashboards": {
      "activeView": "grid_default",
      "views": {
       "grid_default": {
        "col": null,
        "height": 2,
        "hidden": true,
        "locked": true,
        "row": null,
        "width": 2
       }
      }
     }
    }
   },
   "outputs": [],
   "source": []
  },
  {
   "cell_type": "code",
   "execution_count": 13,
   "id": "3acf7e80-9c89-493b-acd3-433796165614",
   "metadata": {
    "extensions": {
     "jupyter_dashboards": {
      "activeView": "grid_default",
      "views": {
       "grid_default": {
        "col": null,
        "height": 2,
        "hidden": true,
        "locked": true,
        "row": null,
        "width": 2
       }
      }
     }
    }
   },
   "outputs": [],
   "source": []
  },
  {
   "cell_type": "code",
   "execution_count": 13,
   "id": "7d68d5a5-60dc-4e72-a5cc-dc4c75624124",
   "metadata": {
    "extensions": {
     "jupyter_dashboards": {
      "activeView": "grid_default",
      "views": {
       "grid_default": {
        "col": null,
        "height": 2,
        "hidden": true,
        "locked": true,
        "row": null,
        "width": 2
       }
      }
     }
    }
   },
   "outputs": [],
   "source": []
  }
 ],
 "metadata": {
  "extensions": {
   "jupyter_dashboards": {
    "activeView": "grid_default",
    "version": 1,
    "views": {
     "grid_default": {
      "cellMargin": 2,
      "defaultCellHeight": 42,
      "maxColumns": 12,
      "name": "grid",
      "type": "grid"
     }
    }
   }
  },
  "kernelspec": {
   "display_name": "Python 3 (ipykernel)",
   "language": "python",
   "name": "python3"
  },
  "language_info": {
   "codemirror_mode": {
    "name": "ipython",
    "version": 3
   },
   "file_extension": ".py",
   "mimetype": "text/x-python",
   "name": "python",
   "nbconvert_exporter": "python",
   "pygments_lexer": "ipython3",
   "version": "3.10.6"
  }
 },
 "nbformat": 4,
 "nbformat_minor": 5
}
